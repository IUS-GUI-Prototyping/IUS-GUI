{
 "cells": [
  {
   "cell_type": "code",
   "execution_count": 351,
   "id": "a8c3932a-1a52-4e4f-89de-8f99bb455464",
   "metadata": {},
   "outputs": [],
   "source": [
    "from typing import Text, Generator, Tuple, List, Optional, Dict, Set\n",
    "import pandas as pd\n",
    "import numpy as np\n",
    "from ast import literal_eval\n",
    "import matplotlib.pyplot as plt\n",
    "import seaborn as sns\n",
    "import pickle\n",
    "import os\n",
    "import json\n",
    "import re\n",
    "import ast\n",
    "import copy\n",
    "import imgkit\n",
    "from tabulate import tabulate\n",
    "sns.set_theme()\n",
    "\n",
    "config = imgkit.config(wkhtmltoimage='C:/Program Files/wkhtmltopdf/bin/wkhtmltoimage.exe')\n",
    "\n",
    "pd.set_option('display.max_rows', 500)\n",
    "pd.set_option('display.max_columns', 500)\n",
    "pd.set_option('display.width', 5000)\n",
    "pd.set_option('display.max_colwidth', 5000)\n",
    "pd.options.display.float_format = '{:.2f}'.format"
   ]
  },
  {
   "cell_type": "markdown",
   "id": "1e7d8c8c-0553-4416-af75-11a88eea22a0",
   "metadata": {},
   "source": [
    "# 1. Load Datasets"
   ]
  },
  {
   "cell_type": "markdown",
   "id": "a29012da-2ad8-42fa-aba2-a80db6534a78",
   "metadata": {},
   "source": [
    "## 1.1 Load Rico GUI JSON Dataset"
   ]
  },
  {
   "cell_type": "code",
   "execution_count": 25,
   "id": "41c09acb-d59f-45a1-a749-1f498fc0b14c",
   "metadata": {},
   "outputs": [],
   "source": [
    "df_all_guis = pd.read_csv('data/all_guis/all_guis.csv')\n",
    "df_all_guis['data'] = df_all_guis['data'].apply(ast.literal_eval)"
   ]
  },
  {
   "cell_type": "code",
   "execution_count": 26,
   "id": "92491a7a-be35-4b3d-9e6e-b0b8b2879fee",
   "metadata": {},
   "outputs": [
    {
     "data": {
      "text/html": [
       "<div>\n",
       "<style scoped>\n",
       "    .dataframe tbody tr th:only-of-type {\n",
       "        vertical-align: middle;\n",
       "    }\n",
       "\n",
       "    .dataframe tbody tr th {\n",
       "        vertical-align: top;\n",
       "    }\n",
       "\n",
       "    .dataframe thead th {\n",
       "        text-align: right;\n",
       "    }\n",
       "</style>\n",
       "<table border=\"1\" class=\"dataframe\">\n",
       "  <thead>\n",
       "    <tr style=\"text-align: right;\">\n",
       "      <th></th>\n",
       "      <th>id</th>\n",
       "      <th>data</th>\n",
       "    </tr>\n",
       "  </thead>\n",
       "  <tbody>\n",
       "    <tr>\n",
       "      <th>0</th>\n",
       "      <td>0</td>\n",
       "      <td>{'bg_color': '#FFFFFF', 'ui_comps': [{'ancestors': ['android.webkit.WebView', 'android.widget.AbsoluteLayout', 'android.view.ViewGroup', 'android.view.View', 'java.lang.Object'], 'bounds': [0, 0, 1440, 2392], 'clickable': True, 'class': 'org.apache.cordova.engine.SystemWebView', 'componentLabel': 'Web View', 'id': '0_0'}], 'ui_comp_groups': []}</td>\n",
       "    </tr>\n",
       "  </tbody>\n",
       "</table>\n",
       "</div>"
      ],
      "text/plain": [
       "   id                                                                                                                                                                                                                                                                                                                                                        data\n",
       "0   0  {'bg_color': '#FFFFFF', 'ui_comps': [{'ancestors': ['android.webkit.WebView', 'android.widget.AbsoluteLayout', 'android.view.ViewGroup', 'android.view.View', 'java.lang.Object'], 'bounds': [0, 0, 1440, 2392], 'clickable': True, 'class': 'org.apache.cordova.engine.SystemWebView', 'componentLabel': 'Web View', 'id': '0_0'}], 'ui_comp_groups': []}"
      ]
     },
     "execution_count": 26,
     "metadata": {},
     "output_type": "execute_result"
    }
   ],
   "source": [
    "df_all_guis[:1]"
   ]
  },
  {
   "cell_type": "code",
   "execution_count": 27,
   "id": "961a5553-35e8-412e-b4a0-ac6bcad28015",
   "metadata": {},
   "outputs": [
    {
     "data": {
      "text/plain": [
       "[{'bg_color': '#FAFAFA',\n",
       "  'ui_comps': [{'text': 'How To',\n",
       "    'resource-id': 'com.runtastic.android.runtasty.lite:id/bottom_navigation_item_title',\n",
       "    'ancestors': ['android.widget.TextView',\n",
       "     'android.view.View',\n",
       "     'java.lang.Object'],\n",
       "    'clickable': False,\n",
       "    'class': 'android.support.v7.widget.AppCompatTextView',\n",
       "    'bounds': [288, 2320, 576, 2367],\n",
       "    'componentLabel': 'Text',\n",
       "    'text_color': '#6F6F6F',\n",
       "    'bounds_updated': [376.0, 2332.0, 490.66666666666663, 2357.3333333333335],\n",
       "    'text_updated': 'How To',\n",
       "    'font_size': 5.91327472470729,\n",
       "    'id': '37166_0'},\n",
       "   {'iconClass': 'play',\n",
       "    'ancestors': ['android.widget.ImageView',\n",
       "     'android.view.View',\n",
       "     'java.lang.Object'],\n",
       "    'resource-id': 'com.runtastic.android.runtasty.lite:id/bottom_navigation_item_icon',\n",
       "    'clickable': False,\n",
       "    'class': 'android.support.v7.widget.AppCompatImageView',\n",
       "    'bounds': [390, 2224, 474, 2308],\n",
       "    'componentLabel': 'Icon',\n",
       "    'id': '37166_1'},\n",
       "   {'text': 'Recipes',\n",
       "    'resource-id': 'com.runtastic.android.runtasty.lite:id/bottom_navigation_item_title',\n",
       "    'ancestors': ['android.widget.TextView',\n",
       "     'android.view.View',\n",
       "     'java.lang.Object'],\n",
       "    'clickable': False,\n",
       "    'class': 'android.support.v7.widget.AppCompatTextView',\n",
       "    'bounds': [0, 2315, 288, 2367],\n",
       "    'componentLabel': 'Text',\n",
       "    'text_color': '#D04F6D',\n",
       "    'bounds_updated': [81.33333333333333,\n",
       "     2328.3333333333335,\n",
       "     209.33333333333331,\n",
       "     2364.3333333333335],\n",
       "    'text_updated': 'Recipes',\n",
       "    'font_size': 6.350257542310525,\n",
       "    'id': '37166_2'},\n",
       "   {'iconClass': 'build',\n",
       "    'ancestors': ['android.widget.ImageView',\n",
       "     'android.view.View',\n",
       "     'java.lang.Object'],\n",
       "    'resource-id': 'com.runtastic.android.runtasty.lite:id/bottom_navigation_item_icon',\n",
       "    'clickable': False,\n",
       "    'class': 'android.support.v7.widget.AppCompatImageView',\n",
       "    'bounds': [102, 2217, 186, 2301],\n",
       "    'componentLabel': 'Icon',\n",
       "    'id': '37166_3'},\n",
       "   {'resource-id': 'com.runtastic.android.runtasty.lite:id/bottom_navigation_container',\n",
       "    'ancestors': ['android.view.ViewGroup',\n",
       "     'android.view.View',\n",
       "     'java.lang.Object'],\n",
       "    'clickable': True,\n",
       "    'class': 'android.widget.FrameLayout',\n",
       "    'bounds': [1152, 2196, 1440, 2392],\n",
       "    'componentLabel': 'Text Button',\n",
       "    'textButtonClass': 'profile',\n",
       "    'bg_color': '#F5F5F5',\n",
       "    'text_color': '#707070',\n",
       "    'bounds_text': [1249.3333333333333,\n",
       "     2230.6666666666665,\n",
       "     1344.0,\n",
       "     2357.3333333333335],\n",
       "    'text_updated': 'BS\\n\\nProfile',\n",
       "    'font_size': 5.227527981100649,\n",
       "    'id': '37166_4'},\n",
       "   {'resource-id': 'com.runtastic.android.runtasty.lite:id/bottom_navigation_container',\n",
       "    'ancestors': ['android.view.ViewGroup',\n",
       "     'android.view.View',\n",
       "     'java.lang.Object'],\n",
       "    'clickable': True,\n",
       "    'class': 'android.widget.FrameLayout',\n",
       "    'bounds': [864, 2196, 1152, 2392],\n",
       "    'componentLabel': 'Text Button',\n",
       "    'textButtonClass': 'favorites',\n",
       "    'bg_color': '#F5F5F5',\n",
       "    'text_color': '#6B6B6B',\n",
       "    'bounds_text': [940.0,\n",
       "     2229.3333333333335,\n",
       "     1078.6666666666667,\n",
       "     2357.3333333333335],\n",
       "    'text_updated': 'Ls\\n\\nFavorites',\n",
       "    'font_size': 5.1553252071536155,\n",
       "    'id': '37166_5'},\n",
       "   {'resource-id': 'com.runtastic.android.runtasty.lite:id/bottom_navigation_container',\n",
       "    'ancestors': ['android.view.ViewGroup',\n",
       "     'android.view.View',\n",
       "     'java.lang.Object'],\n",
       "    'clickable': True,\n",
       "    'class': 'android.widget.FrameLayout',\n",
       "    'bounds': [576, 2196, 864, 2392],\n",
       "    'componentLabel': 'Text Button',\n",
       "    'textButtonClass': 'search',\n",
       "    'bg_color': '#F5F5F5',\n",
       "    'text_color': '#6F6F6F',\n",
       "    'bounds_text': [668.0, 2234.6666666666665, 772.0, 2357.3333333333335],\n",
       "    'text_updated': 'Q\\n\\nSearch',\n",
       "    'font_size': 5.056885719137379,\n",
       "    'id': '37166_6'},\n",
       "   {'iconClass': 'play',\n",
       "    'ancestors': ['android.widget.ImageButton',\n",
       "     'android.widget.ImageView',\n",
       "     'android.view.View',\n",
       "     'java.lang.Object'],\n",
       "    'resource-id': 'com.runtastic.android.runtasty.lite:id/download_action_button',\n",
       "    'clickable': True,\n",
       "    'class': 'android.support.v7.widget.AppCompatImageButton',\n",
       "    'bounds': [608, 648, 832, 872],\n",
       "    'componentLabel': 'Icon',\n",
       "    'id': '37166_7'},\n",
       "   {'iconClass': 'play',\n",
       "    'ancestors': ['android.widget.ImageView',\n",
       "     'android.view.View',\n",
       "     'java.lang.Object'],\n",
       "    'resource-id': 'com.runtastic.android.runtasty.lite:id/download_progress_background_circle',\n",
       "    'clickable': False,\n",
       "    'class': 'android.support.v7.widget.AppCompatImageView',\n",
       "    'bounds': [608, 648, 832, 872],\n",
       "    'componentLabel': 'Icon',\n",
       "    'id': '37166_8'},\n",
       "   {'text': 'dinner',\n",
       "    'ancestors': ['android.view.View', 'java.lang.Object'],\n",
       "    'clickable': False,\n",
       "    'class': 'android.widget.TextView',\n",
       "    'bounds': [880, 1714, 1080, 1793],\n",
       "    'componentLabel': 'Text',\n",
       "    'text_color': '#FAFAFA',\n",
       "    'bounds_updated': [880, 1714, 1080, 1793],\n",
       "    'text_updated': 'dinner',\n",
       "    'font_size': 12,\n",
       "    'id': '37166_9'},\n",
       "   {'text': 'lunch',\n",
       "    'ancestors': ['android.view.View', 'java.lang.Object'],\n",
       "    'clickable': False,\n",
       "    'class': 'android.widget.TextView',\n",
       "    'bounds': [667, 1714, 852, 1793],\n",
       "    'componentLabel': 'Text',\n",
       "    'text_color': '#FAFAFA',\n",
       "    'bounds_updated': [712.3333333333334, 1738.0, 808.3333333333333, 1770.0],\n",
       "    'text_updated': 'lunch',\n",
       "    'font_size': 7.147412312975222,\n",
       "    'id': '37166_10'},\n",
       "   {'text': '200-400 kcal',\n",
       "    'ancestors': ['android.view.View', 'java.lang.Object'],\n",
       "    'clickable': False,\n",
       "    'class': 'android.widget.TextView',\n",
       "    'bounds': [313, 1714, 639, 1793],\n",
       "    'componentLabel': 'Text',\n",
       "    'text_color': '#FEFEFE',\n",
       "    'bounds_updated': [357.0, 1739.3333333333333, 594.3333333333333, 1770.0],\n",
       "    'text_updated': '200-400 kcal',\n",
       "    'font_size': 7.640452926730063,\n",
       "    'id': '37166_11'},\n",
       "   {'text': 'nut-free',\n",
       "    'ancestors': ['android.view.View', 'java.lang.Object'],\n",
       "    'clickable': False,\n",
       "    'class': 'android.widget.TextView',\n",
       "    'bounds': [56, 1714, 285, 1793],\n",
       "    'componentLabel': 'Text',\n",
       "    'text_color': '#FAFAFA',\n",
       "    'bounds_updated': [100.0, 1747.3333333333333, 241.33333333333331, 1770.0],\n",
       "    'text_updated': 'nut-free',\n",
       "    'font_size': 7.141149885971634,\n",
       "    'id': '37166_12'},\n",
       "   {'text': 'high-protein',\n",
       "    'ancestors': ['android.view.View', 'java.lang.Object'],\n",
       "    'clickable': False,\n",
       "    'class': 'android.widget.TextView',\n",
       "    'bounds': [850, 1607, 1157, 1686],\n",
       "    'componentLabel': 'Text',\n",
       "    'text_color': '#FFFFFF',\n",
       "    'bounds_updated': [894.0, 1631.0, 1111.3333333333333, 1672.3333333333333],\n",
       "    'text_updated': 'high-protein',\n",
       "    'font_size': 7.260895955619306,\n",
       "    'id': '37166_13'},\n",
       "   {'text': 'low-carb',\n",
       "    'ancestors': ['android.view.View', 'java.lang.Object'],\n",
       "    'clickable': False,\n",
       "    'class': 'android.widget.TextView',\n",
       "    'bounds': [577, 1607, 822, 1686],\n",
       "    'componentLabel': 'Text',\n",
       "    'text_color': '#FFFFFF',\n",
       "    'bounds_updated': [621.0, 1631.0, 777.0, 1664.3333333333333],\n",
       "    'text_updated': 'low-carb',\n",
       "    'font_size': 7.562498820776968,\n",
       "    'id': '37166_14'},\n",
       "   {'text': 'gluten-free',\n",
       "    'ancestors': ['android.view.View', 'java.lang.Object'],\n",
       "    'clickable': False,\n",
       "    'class': 'android.widget.TextView',\n",
       "    'bounds': [264, 1607, 549, 1686],\n",
       "    'componentLabel': 'Text',\n",
       "    'text_color': '#FAFAFA',\n",
       "    'bounds_updated': [308.0,\n",
       "     1640.3333333333333,\n",
       "     505.3333333333333,\n",
       "     1672.3333333333333],\n",
       "    'text_updated': 'gluten-free',\n",
       "    'font_size': 7.282377681409525,\n",
       "    'id': '37166_15'},\n",
       "   {'text': 'meat',\n",
       "    'ancestors': ['android.view.View', 'java.lang.Object'],\n",
       "    'clickable': False,\n",
       "    'class': 'android.widget.TextView',\n",
       "    'bounds': [56, 1607, 236, 1686],\n",
       "    'componentLabel': 'Text',\n",
       "    'text_color': '#FAFAFA',\n",
       "    'bounds_updated': [56, 1607, 236, 1686],\n",
       "    'text_updated': 'meat',\n",
       "    'font_size': 12,\n",
       "    'id': '37166_16'},\n",
       "   {'text': '22 g Fat',\n",
       "    'resource-id': 'com.runtastic.android.runtasty.lite:id/fragment_recipe_detail_nutrition_overview_fat',\n",
       "    'ancestors': ['android.widget.TextView',\n",
       "     'android.view.View',\n",
       "     'java.lang.Object'],\n",
       "    'clickable': False,\n",
       "    'class': 'android.support.v7.widget.AppCompatTextView',\n",
       "    'bounds': [990, 1466, 1142, 1523],\n",
       "    'componentLabel': 'Text',\n",
       "    'text_color': '#727272',\n",
       "    'bounds_updated': [992.6666666666666,\n",
       "     1480.6666666666667,\n",
       "     1140.6666666666667,\n",
       "     1519.3333333333333],\n",
       "    'text_updated': '22 g Fat',\n",
       "    'font_size': 7.6538790446075335,\n",
       "    'id': '37166_17'},\n",
       "   {'text': '23 g Protein  •',\n",
       "    'resource-id': 'com.runtastic.android.runtasty.lite:id/fragment_recipe_detail_nutrition_overview_proteins',\n",
       "    'ancestors': ['android.widget.TextView',\n",
       "     'android.view.View',\n",
       "     'java.lang.Object'],\n",
       "    'clickable': False,\n",
       "    'class': 'android.support.v7.widget.AppCompatTextView',\n",
       "    'bounds': [703, 1466, 962, 1523],\n",
       "    'componentLabel': 'Text',\n",
       "    'text_color': '#727272',\n",
       "    'bounds_updated': [705.6666666666666,\n",
       "     1480.6666666666667,\n",
       "     959.0,\n",
       "     1519.3333333333333],\n",
       "    'text_updated': '23 g Protein :',\n",
       "    'font_size': 8.059770674361072,\n",
       "    'id': '37166_18'},\n",
       "   {'text': '10 g Carbohydrates  •',\n",
       "    'resource-id': 'com.runtastic.android.runtasty.lite:id/fragment_recipe_detail_nutrition_overview_carbs',\n",
       "    'ancestors': ['android.widget.TextView',\n",
       "     'android.view.View',\n",
       "     'java.lang.Object'],\n",
       "    'clickable': False,\n",
       "    'class': 'android.support.v7.widget.AppCompatTextView',\n",
       "    'bounds': [276, 1466, 675, 1523],\n",
       "    'componentLabel': 'Text',\n",
       "    'text_color': '#707070',\n",
       "    'bounds_updated': [278.6666666666667,\n",
       "     1480.6666666666667,\n",
       "     672.0,\n",
       "     1519.3333333333333],\n",
       "    'text_updated': '10 g Carbohydrates °',\n",
       "    'font_size': 7.617051952951375,\n",
       "    'id': '37166_19'},\n",
       "   {'text': '315 kcal  •',\n",
       "    'resource-id': 'com.runtastic.android.runtasty.lite:id/fragment_recipe_detail_nutrition_overview_calories',\n",
       "    'ancestors': ['android.widget.TextView',\n",
       "     'android.view.View',\n",
       "     'java.lang.Object'],\n",
       "    'clickable': False,\n",
       "    'class': 'android.support.v7.widget.AppCompatTextView',\n",
       "    'bounds': [56, 1466, 248, 1523],\n",
       "    'componentLabel': 'Text',\n",
       "    'text_color': '#6F6F6F',\n",
       "    'bounds_updated': [57.333333333333336,\n",
       "     1479.3333333333333,\n",
       "     246.66666666666666,\n",
       "     1510.0],\n",
       "    'text_updated': '315 kcal -',\n",
       "    'font_size': 8.189261478444703,\n",
       "    'id': '37166_20'},\n",
       "   {'iconClass': 'favorite',\n",
       "    'ancestors': ['android.widget.ImageButton',\n",
       "     'android.widget.ImageView',\n",
       "     'android.view.View',\n",
       "     'java.lang.Object'],\n",
       "    'resource-id': 'com.runtastic.android.runtasty.lite:id/fragment_recipe_detail_favourite',\n",
       "    'clickable': True,\n",
       "    'class': 'android.support.v7.widget.AppCompatImageButton',\n",
       "    'bounds': [1240, 1040, 1440, 1240],\n",
       "    'componentLabel': 'Icon',\n",
       "    'id': '37166_21'},\n",
       "   {'ancestors': ['android.widget.ImageView',\n",
       "     'android.view.View',\n",
       "     'java.lang.Object'],\n",
       "    'resource-id': 'com.runtastic.android.runtasty.lite:id/fragment_recipe_detail_image_gradient_bottom',\n",
       "    'clickable': False,\n",
       "    'class': 'android.support.v7.widget.AppCompatImageView',\n",
       "    'bounds': [0, 920, 1440, 1240],\n",
       "    'componentLabel': 'Image',\n",
       "    'id': '37166_22'},\n",
       "   {'ancestors': ['android.widget.ImageView',\n",
       "     'android.view.View',\n",
       "     'java.lang.Object'],\n",
       "    'resource-id': 'com.runtastic.android.runtasty.lite:id/fragment_recipe_detail_image_gradient',\n",
       "    'clickable': False,\n",
       "    'class': 'android.support.v7.widget.AppCompatImageView',\n",
       "    'bounds': [0, 280, 1440, 920],\n",
       "    'componentLabel': 'Image',\n",
       "    'id': '37166_23'},\n",
       "   {'ancestors': ['android.widget.ImageView',\n",
       "     'android.view.View',\n",
       "     'java.lang.Object'],\n",
       "    'resource-id': 'com.runtastic.android.runtasty.lite:id/fragment_recipe_detail_image',\n",
       "    'clickable': False,\n",
       "    'class': 'android.support.v7.widget.AppCompatImageView',\n",
       "    'bounds': [0, 280, 1440, 1240],\n",
       "    'componentLabel': 'Image',\n",
       "    'id': '37166_24'},\n",
       "   {'text': 'This recipe is the perfect all-in-one meal. It’s savory, flavorful and packed with protein.',\n",
       "    'resource-id': 'com.runtastic.android.runtasty.lite:id/fragment_recipe_detail_description',\n",
       "    'ancestors': ['android.widget.TextView',\n",
       "     'android.view.View',\n",
       "     'java.lang.Object'],\n",
       "    'clickable': False,\n",
       "    'class': 'android.support.v7.widget.AppCompatTextView',\n",
       "    'bounds': [0, 1877, 1440, 2126],\n",
       "    'componentLabel': 'Text',\n",
       "    'text_color': '#251F1F',\n",
       "    'bounds_updated': [57.33333333333333,\n",
       "     1950.3333333333333,\n",
       "     1354.6666666666665,\n",
       "     2066.3333333333335],\n",
       "    'text_updated': 'This recipe is the perfect all-in-one meal. It’s savory, flavorful\\nand packed with protein.',\n",
       "    'font_size': 9.208809824903001,\n",
       "    'id': '37166_25'},\n",
       "   {'text': 'Stuffed Tomatoes',\n",
       "    'resource-id': 'com.runtastic.android.runtasty.lite:id/fragment_recipe_detail_title',\n",
       "    'ancestors': ['android.widget.TextView',\n",
       "     'android.view.View',\n",
       "     'java.lang.Object'],\n",
       "    'clickable': False,\n",
       "    'class': 'android.support.v7.widget.AppCompatTextView',\n",
       "    'bounds': [56, 1296, 1384, 1410],\n",
       "    'componentLabel': 'Text',\n",
       "    'text_color': '#202020',\n",
       "    'bounds_updated': [58.666666666666664, 1320.0, 1060.0, 1389.3333333333333],\n",
       "    'text_updated': 'STUFFED TOMATOES',\n",
       "    'font_size': 15.347054235899064,\n",
       "    'id': '37166_26'},\n",
       "   {'iconClass': 'share',\n",
       "    'resource-id': 'com.runtastic.android.runtasty.lite:id/menu_runtasty_share',\n",
       "    'ancestors': ['android.support.v7.widget.AppCompatTextView',\n",
       "     'android.widget.TextView',\n",
       "     'android.view.View',\n",
       "     'java.lang.Object'],\n",
       "    'clickable': True,\n",
       "    'class': 'android.support.v7.view.menu.ActionMenuItemView',\n",
       "    'bounds': [1272, 98, 1440, 266],\n",
       "    'componentLabel': 'Icon',\n",
       "    'id': '37166_27'},\n",
       "   {'iconClass': 'arrow_backward',\n",
       "    'ancestors': ['android.widget.ImageButton',\n",
       "     'android.widget.ImageView',\n",
       "     'android.view.View',\n",
       "     'java.lang.Object'],\n",
       "    'bounds': [0, 84, 196, 280],\n",
       "    'clickable': True,\n",
       "    'class': 'android.support.v7.widget.AppCompatImageButton',\n",
       "    'componentLabel': 'Icon',\n",
       "    'id': '37166_28'},\n",
       "   {'text': 'Stuffed Tomatoes',\n",
       "    'resource-id': 'com.runtastic.android.runtasty.lite:id/activity_navigation_toolbar_title',\n",
       "    'ancestors': ['android.widget.TextView',\n",
       "     'android.view.View',\n",
       "     'java.lang.Object'],\n",
       "    'clickable': False,\n",
       "    'class': 'android.support.v7.widget.AppCompatTextView',\n",
       "    'bounds': [252, 135, 810, 228],\n",
       "    'componentLabel': 'Text',\n",
       "    'text_color': '#FFFDFF',\n",
       "    'bounds_updated': [254.66666666666666,\n",
       "     159.0,\n",
       "     806.6666666666666,\n",
       "     209.66666666666666],\n",
       "    'text_updated': 'Stuffed Tomatoes',\n",
       "    'font_size': 12.842136694713718,\n",
       "    'id': '37166_29'}],\n",
       "  'ui_comp_groups': [{'componentLabel': 'List Item',\n",
       "    'bounds': [0, 280, 1440, 2196],\n",
       "    'class': 'android.widget.LinearLayout',\n",
       "    'bg_color': '#FAFAFA',\n",
       "    'id': '37166_30',\n",
       "    'ui_comp_ids': ['37166_7',\n",
       "     '37166_8',\n",
       "     '37166_9',\n",
       "     '37166_10',\n",
       "     '37166_11',\n",
       "     '37166_12',\n",
       "     '37166_13',\n",
       "     '37166_14',\n",
       "     '37166_15',\n",
       "     '37166_16',\n",
       "     '37166_17',\n",
       "     '37166_18',\n",
       "     '37166_19',\n",
       "     '37166_20',\n",
       "     '37166_21',\n",
       "     '37166_22',\n",
       "     '37166_23',\n",
       "     '37166_24',\n",
       "     '37166_25',\n",
       "     '37166_26'],\n",
       "    'ui_comp_group_ids': []},\n",
       "   {'componentLabel': 'Layout',\n",
       "    'bounds': [0, 2196, 1440, 2392],\n",
       "    'class': 'com.runtastic.android.navigation.view.BottomNavigationView',\n",
       "    'bg_color': '#F5F5F5',\n",
       "    'id': '37166_31',\n",
       "    'ui_comp_ids': ['37166_0',\n",
       "     '37166_1',\n",
       "     '37166_2',\n",
       "     '37166_3',\n",
       "     '37166_4',\n",
       "     '37166_5',\n",
       "     '37166_6'],\n",
       "    'ui_comp_group_ids': ['37166_33', '37166_34']},\n",
       "   {'componentLabel': 'Toolbar',\n",
       "    'bounds': [0, 84, 1440, 280],\n",
       "    'class': 'android.support.v7.widget.Toolbar',\n",
       "    'bg_color': '#DF4A5E',\n",
       "    'id': '37166_32',\n",
       "    'ui_comp_ids': ['37166_27', '37166_28', '37166_29'],\n",
       "    'ui_comp_group_ids': []},\n",
       "   {'componentLabel': 'Layout',\n",
       "    'bounds': [288, 2196, 576, 2392],\n",
       "    'class': 'android.widget.FrameLayout',\n",
       "    'bg_color': '#F5F5F5',\n",
       "    'id': '37166_33',\n",
       "    'ui_comp_ids': ['37166_0', '37166_1'],\n",
       "    'ui_comp_group_ids': []},\n",
       "   {'componentLabel': 'Layout',\n",
       "    'bounds': [0, 2196, 288, 2392],\n",
       "    'class': 'android.widget.FrameLayout',\n",
       "    'bg_color': '#F5F5F5',\n",
       "    'id': '37166_34',\n",
       "    'ui_comp_ids': ['37166_2', '37166_3'],\n",
       "    'ui_comp_group_ids': []}]}]"
      ]
     },
     "execution_count": 27,
     "metadata": {},
     "output_type": "execute_result"
    }
   ],
   "source": [
    "df_all_guis[df_all_guis['id'] == 37166]['data'].values.tolist()"
   ]
  },
  {
   "cell_type": "markdown",
   "id": "6250bdce-5d90-4a65-ac62-ed7d58bdfe0e",
   "metadata": {},
   "source": [
    "## 1.2 Load Test/Train Dataset and Transform"
   ]
  },
  {
   "cell_type": "code",
   "execution_count": 318,
   "id": "74be24f7-8163-4ba5-8c8b-f38829cb2b37",
   "metadata": {},
   "outputs": [],
   "source": [
    "df_user_stories_and_rico = pd.read_csv('data/user_stories/dataset/03_test_train_split/test_us_data_label.csv')\n",
    "df_user_stories_and_rico['comp_ids'] = df_user_stories_and_rico['comp_ids'].apply(ast.literal_eval)"
   ]
  },
  {
   "cell_type": "code",
   "execution_count": 320,
   "id": "a2935c8c-ba9d-4372-a96c-41877e8a9c69",
   "metadata": {},
   "outputs": [
    {
     "data": {
      "text/html": [
       "<div>\n",
       "<style scoped>\n",
       "    .dataframe tbody tr th:only-of-type {\n",
       "        vertical-align: middle;\n",
       "    }\n",
       "\n",
       "    .dataframe tbody tr th {\n",
       "        vertical-align: top;\n",
       "    }\n",
       "\n",
       "    .dataframe thead th {\n",
       "        text-align: right;\n",
       "    }\n",
       "</style>\n",
       "<table border=\"1\" class=\"dataframe\">\n",
       "  <thead>\n",
       "    <tr style=\"text-align: right;\">\n",
       "      <th></th>\n",
       "      <th>user_story</th>\n",
       "      <th>rico_id</th>\n",
       "      <th>comp_ids</th>\n",
       "      <th>label</th>\n",
       "    </tr>\n",
       "  </thead>\n",
       "  <tbody>\n",
       "    <tr>\n",
       "      <th>0</th>\n",
       "      <td>As a frequent app user, I want to refresh the content within the home screen, ensuring I have the latest information and resources available to me.</td>\n",
       "      <td>12750</td>\n",
       "      <td>[26]</td>\n",
       "      <td>1</td>\n",
       "    </tr>\n",
       "    <tr>\n",
       "      <th>1</th>\n",
       "      <td>As a user I want to quickly see how much time a receipe takes for each step to quickyl know how time I woudl need to invest</td>\n",
       "      <td>23369</td>\n",
       "      <td>[12, 11, 10, 9, 8, 7, 6, 5]</td>\n",
       "      <td>0</td>\n",
       "    </tr>\n",
       "    <tr>\n",
       "      <th>2</th>\n",
       "      <td>As a parent of multiple children, I want to be able to enter the amount of children over or under the age of 12 I am traveling with, so the lower price for them is already included in the prices shown for my results.</td>\n",
       "      <td>16072</td>\n",
       "      <td>[9, 8, 7, 6, 5, 4, 3, 2, 1, 0]</td>\n",
       "      <td>0</td>\n",
       "    </tr>\n",
       "    <tr>\n",
       "      <th>3</th>\n",
       "      <td>As a PRI user, I want to mark episodes as favorite so that I can watch them again later.</td>\n",
       "      <td>25008</td>\n",
       "      <td>[11, 5, 0]</td>\n",
       "      <td>1</td>\n",
       "    </tr>\n",
       "    <tr>\n",
       "      <th>4</th>\n",
       "      <td>As a user I want to be able to select a league of my choice so I can see the up to date football results</td>\n",
       "      <td>5474</td>\n",
       "      <td>[60, 61]</td>\n",
       "      <td>1</td>\n",
       "    </tr>\n",
       "  </tbody>\n",
       "</table>\n",
       "</div>"
      ],
      "text/plain": [
       "                                                                                                                                                                                                                 user_story  rico_id                        comp_ids  label\n",
       "0                                                                       As a frequent app user, I want to refresh the content within the home screen, ensuring I have the latest information and resources available to me.    12750                            [26]      1\n",
       "1                                                                                               As a user I want to quickly see how much time a receipe takes for each step to quickyl know how time I woudl need to invest    23369     [12, 11, 10, 9, 8, 7, 6, 5]      0\n",
       "2  As a parent of multiple children, I want to be able to enter the amount of children over or under the age of 12 I am traveling with, so the lower price for them is already included in the prices shown for my results.    16072  [9, 8, 7, 6, 5, 4, 3, 2, 1, 0]      0\n",
       "3                                                                                                                                  As a PRI user, I want to mark episodes as favorite so that I can watch them again later.    25008                      [11, 5, 0]      1\n",
       "4                                                                                                                  As a user I want to be able to select a league of my choice so I can see the up to date football results     5474                        [60, 61]      1"
      ]
     },
     "execution_count": 320,
     "metadata": {},
     "output_type": "execute_result"
    }
   ],
   "source": [
    "df_user_stories_and_rico[:5]"
   ]
  },
  {
   "cell_type": "code",
   "execution_count": 321,
   "id": "621efbbe-d069-4e73-8742-2afa8f24ddef",
   "metadata": {},
   "outputs": [],
   "source": [
    "df_user_stories_and_rico['rico_json_ori'] = df_user_stories_and_rico.apply(lambda row: copy.deepcopy(df_all_guis[df_all_guis['id'] == int(row['rico_id'])]['data'].values.tolist()[0]), axis=1)"
   ]
  },
  {
   "cell_type": "code",
   "execution_count": 323,
   "id": "74464420-e2aa-4c4e-83d0-ca76cf434d8e",
   "metadata": {},
   "outputs": [],
   "source": [
    "df_user_stories_and_rico_train_set = pd.read_csv('data/user_stories/dataset/03_test_train_split/train_us_data_label.csv')\n",
    "df_user_stories_and_rico_train_set['comp_ids'] = df_user_stories_and_rico_train_set['comp_ids'].apply(ast.literal_eval)\n",
    "df_user_stories_and_rico_train_set['rico_json_ori'] = df_user_stories_and_rico_train_set.apply(lambda row: copy.deepcopy(df_all_guis[df_all_guis['id'] == int(row['rico_id'])]['data'].values.tolist()[0]), axis=1)"
   ]
  },
  {
   "cell_type": "code",
   "execution_count": 326,
   "id": "bc7e604a-1fd1-4222-a9ff-c55e747ee2ae",
   "metadata": {},
   "outputs": [
    {
     "data": {
      "text/html": [
       "<div>\n",
       "<style scoped>\n",
       "    .dataframe tbody tr th:only-of-type {\n",
       "        vertical-align: middle;\n",
       "    }\n",
       "\n",
       "    .dataframe tbody tr th {\n",
       "        vertical-align: top;\n",
       "    }\n",
       "\n",
       "    .dataframe thead th {\n",
       "        text-align: right;\n",
       "    }\n",
       "</style>\n",
       "<table border=\"1\" class=\"dataframe\">\n",
       "  <thead>\n",
       "    <tr style=\"text-align: right;\">\n",
       "      <th></th>\n",
       "      <th>user_story</th>\n",
       "      <th>rico_id</th>\n",
       "      <th>comp_ids</th>\n",
       "      <th>label</th>\n",
       "      <th>rico_json_ori</th>\n",
       "    </tr>\n",
       "  </thead>\n",
       "  <tbody>\n",
       "    <tr>\n",
       "      <th>0</th>\n",
       "      <td>As a user i want to be able to read news about transfer of player so I know which player changed to which team</td>\n",
       "      <td>10364</td>\n",
       "      <td>[45, 46, 44]</td>\n",
       "      <td>0</td>\n",
       "      <td>{'bg_color': '#EEEEEE', 'ui_comps': [{'ancestors': ['android.widget.ImageView', 'android.view.View', 'java.lang.Object'], 'resource-id': 'com.resultadosfutbol.mobile:id/visitor_shield', 'clickable': False, 'class': 'android.support.v7.widget.AppCompatImageView', 'bounds': [840, 2110, 938, 2217], 'componentLabel': 'Image', 'id': '10364_0'}, {'iconClass': 'avatar', 'ancestors': ['android.widget.ImageView', 'android.view.View', 'java.lang.Object'], 'resource-id': 'com.resultadosfutbol.mobile:id/local_shield', 'clickable': False, 'class': 'android.support.v7.widget.AppCompatImageView', 'bounds': [502, 2110, 600, 2217], 'componentLabel': 'Icon', 'id': '10364_1'}, {'text': '7:45PM', 'resource-id': 'com.resultadosfutbol.mobile:id/score_or_date_tv', 'ancestors': ['android.widget.TextView', 'android.view.View', 'java.lang.Object'], 'clickable': False, 'class': 'android.support.v7.widget.AppCompatTextView', 'bounds': [628, 2124, 812, 2201], 'componentLabel': 'Text', 'text_color': '#FFFFFF', 'bounds_updated': [628, 2124.0, 812.0, 2201], 'text_updated': '7:45PM', 'font_size': 12, 'id': '10364_2'}, {'text': 'Juventus', 'resource-id': 'com.resultadosfutbol.mobile:id/visitor_name', 'ancestors': ['android.widget.TextView', 'android.view.View', 'java.lang.Object'], 'clickable': False, 'class': 'android.support.v7.widget.AppCompatTextView', 'bounds': [959, 2110, 1363, 2217], 'componentLabel': 'Text', 'text_color': '#000000', 'bounds_updated': [960.3333333333334, 2155.3333333333335, 1156.3333333333333, 2191.3333333333335], 'text_updated': 'Juventus', 'font_size': 9.980628012794522, 'id': '10364_3'}, {'text': 'Porto', 'resource-id': 'com.resultadosfutbol.mobile:id/local_name', 'ancestors': ['android.widget.TextView', 'android.view.View', 'java.lang.Object'], 'clickable': False, 'class': 'android.support.v7.widget.AppCompatTextView', 'bounds': [64, 2110, 481, 2217], 'componentLabel': 'Text', 'text_color': '#000000', 'bounds_updated': [364.0, 2155.3333333333335, 478.66666666666663, 2191.3333333333335], 'text_updated': 'Porto', 'font_size': 9.75510889069621, 'id': '10364_4'}, {'text': '4', 'resource-id': 'com.resultadosfutbol.mobile:id/num_comments', 'ancestors': ['android.widget.TextView', 'android.view.View', 'java.lang.Object'], 'clickable': False, 'class': 'android.support.v7.widget.AppCompatTextView', 'bounds': [1307, 2051, 1377, 2110], 'componentLabel': 'Text', 'text_color': '#FFFAFF', 'bounds_updated': [1307, 2051, 1377, 2110], 'text_updated': '4', 'font_size': 12, 'id': '10364_5'}, {'ancestors': ['android.widget.ImageView', 'android.view.View', 'java.lang.Object'], 'resource-id': 'com.resultadosfutbol.mobile:id/comments_bg', 'clickable': False, 'class': 'android.support.v7.widget.AppCompatImageView', 'bounds': [1307, 2051, 1377, 2110], 'componentLabel': 'Image', 'id': '10364_6'}, {'text': 'beIN Sports, beIN MAX 1', 'resource-id': 'com.resultadosfutbol.mobile:id/channel_tv', 'ancestors': ['android.widget.TextView', 'android.view.View', 'java.lang.Object'], 'clickable': False, 'class': 'android.support.v7.widget.AppCompatTextView', 'bounds': [862, 2051, 1293, 2104], 'componentLabel': 'Text', 'text_color': '#52A231', 'bounds_updated': [864.6666666666666, 2064.3333333333335, 1292.6666666666665, 2104], 'text_updated': 'beIN Sports, belN ,  ~', 'font_size': 8.556731516439383, 'id': '10364_7'}, {'text': 'In 13 hours', 'resource-id': 'com.resultadosfutbol.mobile:id/status_game', 'ancestors': ['android.widget.TextView', 'android.view.View', 'java.lang.Object'], 'clickable': False, 'class': 'android.support.v7.widget.AppCompatTextView', 'bounds': [39, 2051, 259, 2104], 'componentLabel': 'Text', 'text_color': '#979797', 'bounds_updated': [67.0, 2065.6666666666665, 257.66666666666663, 2093.6666666666665], 'text_updated': 'In 13 hours', 'font_size': 6.516401378722737, 'id': '10364_8'}, {'iconClass': 'more', 'ancestors': ['android.widget.ImageView', 'android.view.View', 'java.lang.Object'], 'resource-id': 'com.resultadosfutbol.mobile:id/competition_actions_iv', 'clickable': True, 'class': 'android.support.v7.widget.AppCompatImageView', 'bounds': [915, 1687, 1440, 1813], 'componentLabel': 'Icon', 'id': '10364_9'}, {'text': 'UCL', 'resource-id': 'com.resultadosfutbol.mobile:id/gameListHeaderTxt', 'ancestors': ['android.widget.TextView', 'android.view.View', 'java.lang.Object'], 'clickable': False, 'class': 'android.support.v7.widget.AppCompatTextView', 'bounds': [154, 1714, 1440, 1785], 'componentLabel': 'Text', 'text_color': '#444444', 'bounds_updated': [156.66666666666666, 1731.3333333333333, 250.0, 1770.0], 'text_updated': 'UCL', 'font_size': 10.531210370579103, 'id': '10364_10'}, {'iconClass': 'emoji', 'ancestors': ['android.widget.ImageView', 'android.view.View', 'java.lang.Object'], 'resource-id': 'com.resultadosfutbol.mobile:id/gameListHeaderFlag', 'clickable': False, 'class': 'android.support.v7.widget.AppCompatImageView', 'bounds': [56, 1715, 126, 1785], 'componentLabel': 'Icon', 'id': '10364_11'}, {'ancestors': ['android.wi...</td>\n",
       "    </tr>\n",
       "    <tr>\n",
       "      <th>1</th>\n",
       "      <td>AS a enduser, i want to have a dispaly option at where i can see the total value of my current portfolio so that i have a complete overview over my finacial situation.</td>\n",
       "      <td>6584</td>\n",
       "      <td>[51, 50, 54]</td>\n",
       "      <td>1</td>\n",
       "      <td>{'bg_color': '#212121', 'ui_comps': [{'text': 'add coin', 'resource-id': 'com.blockfolio.blockfolio:id/add_info_tv', 'ancestors': ['android.widget.TextView', 'android.view.View', 'java.lang.Object'], 'clickable': False, 'class': 'com.blockfolio.blockfolio.font.TypefaceTextView', 'bounds': [628, 1956, 811, 2021], 'componentLabel': 'Text', 'text_color': '#747474', 'bounds_updated': [630.6666666666666, 1981.3333333333333, 808.0, 2006.6666666666667], 'text_updated': 'add coin', 'font_size': 9.12617506262869, 'id': '6584_0'}, {'iconClass': 'add', 'ancestors': ['android.widget.ImageView', 'android.view.View', 'java.lang.Object'], 'resource-id': 'com.blockfolio.blockfolio:id/add_coin_button', 'clickable': True, 'class': 'android.widget.ImageButton', 'bounds': [653, 1823, 786, 1956], 'componentLabel': 'Icon', 'id': '6584_1'}, {'text': '', 'resource-id': 'com.blockfolio.blockfolio:id/alertBtn', 'ancestors': ['android.widget.TextView', 'android.view.View', 'java.lang.Object'], 'clickable': True, 'class': 'android.widget.Button', 'bounds': [1216, 1556, 1440, 1780], 'componentLabel': 'Image', 'id': '6584_2'}, {'iconClass': 'avatar', 'ancestors': ['android.view.View', 'java.lang.Object'], 'resource-id': 'com.blockfolio.blockfolio:id/alertIcon', 'clickable': False, 'class': 'android.widget.ImageView', 'bounds': [1300, 1574, 1390, 1659], 'componentLabel': 'Icon', 'id': '6584_3'}, {'iconClass': 'arrow_downward', 'ancestors': ['android.view.View', 'java.lang.Object'], 'resource-id': 'com.blockfolio.blockfolio:id/arrow', 'clickable': False, 'class': 'android.widget.ImageView', 'bounds': [1216, 1605, 1265, 1654], 'componentLabel': 'Icon', 'id': '6584_4'}, {'text': '$26.83', 'resource-id': 'com.blockfolio.blockfolio:id/coinPrice', 'ancestors': ['android.widget.TextView', 'android.view.View', 'java.lang.Object'], 'clickable': False, 'class': 'com.blockfolio.blockfolio.font.TypefaceTextView', 'bounds': [983, 1573, 1202, 1669], 'componentLabel': 'Text', 'text_color': '#2F2F2F', 'bounds_updated': [987.0, 1587.6666666666667, 1197.6666666666667, 1655.6666666666667], 'text_updated': '$26.83', 'font_size': 12.465047829286247, 'id': '6584_5'}, {'text': '-.76280375', 'resource-id': 'com.blockfolio.blockfolio:id/priceChangeTV', 'ancestors': ['android.widget.TextView', 'android.view.View', 'java.lang.Object'], 'clickable': False, 'class': 'com.blockfolio.blockfolio.font.TypefaceTextView', 'bounds': [879, 1676, 1202, 1762], 'componentLabel': 'Text', 'text_color': '#B00D1E', 'bounds_updated': [880.3333333333334, 1722.6666666666667, 1199.0, 1745.3333333333333], 'text_updated': '-,4 6280375', 'font_size': 11.408028676811504, 'id': '6584_6'}, {'text': 'XMR', 'resource-id': 'com.blockfolio.blockfolio:id/coinName', 'ancestors': ['android.widget.TextView', 'android.view.View', 'java.lang.Object'], 'clickable': False, 'class': 'com.blockfolio.blockfolio.font.TypefaceTextView', 'bounds': [34, 1672, 173, 1758], 'componentLabel': 'Text', 'text_color': '#303030', 'bounds_updated': [35.333333333333336, 1693.3333333333333, 170.0, 1740.0], 'text_updated': 'XMR', 'font_size': 12.53481590494098, 'id': '6584_7'}, {'iconClass': 'email', 'ancestors': ['android.view.View', 'java.lang.Object'], 'resource-id': 'com.blockfolio.blockfolio:id/icon', 'clickable': False, 'class': 'android.widget.ImageView', 'bounds': [56, 1577, 151, 1672], 'componentLabel': 'Icon', 'id': '6584_8'}, {'text': '', 'resource-id': 'com.blockfolio.blockfolio:id/alertBtn', 'ancestors': ['android.widget.TextView', 'android.view.View', 'java.lang.Object'], 'clickable': True, 'class': 'android.widget.Button', 'bounds': [1216, 1328, 1440, 1552], 'componentLabel': 'Image', 'id': '6584_9'}, {'iconClass': 'notifications', 'ancestors': ['android.view.View', 'java.lang.Object'], 'resource-id': 'com.blockfolio.blockfolio:id/alertIcon', 'clickable': False, 'class': 'android.widget.ImageView', 'bounds': [1300, 1346, 1390, 1431], 'componentLabel': 'Icon', 'id': '6584_10'}, {'iconClass': 'arrow_downward', 'ancestors': ['android.view.View', 'java.lang.Object'], 'resource-id': 'com.blockfolio.blockfolio:id/arrow', 'clickable': False, 'class': 'android.widget.ImageView', 'bounds': [1216, 1377, 1265, 1426], 'componentLabel': 'Icon', 'id': '6584_11'}, {'text': '$23.72', 'resource-id': 'com.blockfolio.blockfolio:id/coinPrice', 'ancestors': ['android.widget.TextView', 'android.view.View', 'java.lang.Object'], 'clickable': False, 'class': 'com.blockfolio.blockfolio.font.TypefaceTextView', 'bounds': [983, 1345, 1202, 1441], 'componentLabel': 'Text', 'text_color': '#313131', 'bounds_updated': [987.0, 1359.6666666666667, 1200.3333333333333, 1427.6666666666667], 'text_updated': '$23.72', 'font_size': 12.593283517637591, 'id': '6584_12'}, {'text': '-2.58', 'resource-id': 'com.blockfolio.blockfolio:id/priceChangeTV', 'ancestors': ['android.widget.TextView', 'android.view.View', 'java.lang.Object'], 'clickable': False, 'class': 'com.blockfolio.blockfolio.font.TypefaceTextView', 'bounds': [1059, 1448, 1202, 1534], '...</td>\n",
       "    </tr>\n",
       "    <tr>\n",
       "      <th>2</th>\n",
       "      <td>As a user I want to search for games or clubs to find the clubs of my choice quickly</td>\n",
       "      <td>10364</td>\n",
       "      <td>[48]</td>\n",
       "      <td>1</td>\n",
       "      <td>{'bg_color': '#EEEEEE', 'ui_comps': [{'ancestors': ['android.widget.ImageView', 'android.view.View', 'java.lang.Object'], 'resource-id': 'com.resultadosfutbol.mobile:id/visitor_shield', 'clickable': False, 'class': 'android.support.v7.widget.AppCompatImageView', 'bounds': [840, 2110, 938, 2217], 'componentLabel': 'Image', 'id': '10364_0'}, {'iconClass': 'avatar', 'ancestors': ['android.widget.ImageView', 'android.view.View', 'java.lang.Object'], 'resource-id': 'com.resultadosfutbol.mobile:id/local_shield', 'clickable': False, 'class': 'android.support.v7.widget.AppCompatImageView', 'bounds': [502, 2110, 600, 2217], 'componentLabel': 'Icon', 'id': '10364_1'}, {'text': '7:45PM', 'resource-id': 'com.resultadosfutbol.mobile:id/score_or_date_tv', 'ancestors': ['android.widget.TextView', 'android.view.View', 'java.lang.Object'], 'clickable': False, 'class': 'android.support.v7.widget.AppCompatTextView', 'bounds': [628, 2124, 812, 2201], 'componentLabel': 'Text', 'text_color': '#FFFFFF', 'bounds_updated': [628, 2124.0, 812.0, 2201], 'text_updated': '7:45PM', 'font_size': 12, 'id': '10364_2'}, {'text': 'Juventus', 'resource-id': 'com.resultadosfutbol.mobile:id/visitor_name', 'ancestors': ['android.widget.TextView', 'android.view.View', 'java.lang.Object'], 'clickable': False, 'class': 'android.support.v7.widget.AppCompatTextView', 'bounds': [959, 2110, 1363, 2217], 'componentLabel': 'Text', 'text_color': '#000000', 'bounds_updated': [960.3333333333334, 2155.3333333333335, 1156.3333333333333, 2191.3333333333335], 'text_updated': 'Juventus', 'font_size': 9.980628012794522, 'id': '10364_3'}, {'text': 'Porto', 'resource-id': 'com.resultadosfutbol.mobile:id/local_name', 'ancestors': ['android.widget.TextView', 'android.view.View', 'java.lang.Object'], 'clickable': False, 'class': 'android.support.v7.widget.AppCompatTextView', 'bounds': [64, 2110, 481, 2217], 'componentLabel': 'Text', 'text_color': '#000000', 'bounds_updated': [364.0, 2155.3333333333335, 478.66666666666663, 2191.3333333333335], 'text_updated': 'Porto', 'font_size': 9.75510889069621, 'id': '10364_4'}, {'text': '4', 'resource-id': 'com.resultadosfutbol.mobile:id/num_comments', 'ancestors': ['android.widget.TextView', 'android.view.View', 'java.lang.Object'], 'clickable': False, 'class': 'android.support.v7.widget.AppCompatTextView', 'bounds': [1307, 2051, 1377, 2110], 'componentLabel': 'Text', 'text_color': '#FFFAFF', 'bounds_updated': [1307, 2051, 1377, 2110], 'text_updated': '4', 'font_size': 12, 'id': '10364_5'}, {'ancestors': ['android.widget.ImageView', 'android.view.View', 'java.lang.Object'], 'resource-id': 'com.resultadosfutbol.mobile:id/comments_bg', 'clickable': False, 'class': 'android.support.v7.widget.AppCompatImageView', 'bounds': [1307, 2051, 1377, 2110], 'componentLabel': 'Image', 'id': '10364_6'}, {'text': 'beIN Sports, beIN MAX 1', 'resource-id': 'com.resultadosfutbol.mobile:id/channel_tv', 'ancestors': ['android.widget.TextView', 'android.view.View', 'java.lang.Object'], 'clickable': False, 'class': 'android.support.v7.widget.AppCompatTextView', 'bounds': [862, 2051, 1293, 2104], 'componentLabel': 'Text', 'text_color': '#52A231', 'bounds_updated': [864.6666666666666, 2064.3333333333335, 1292.6666666666665, 2104], 'text_updated': 'beIN Sports, belN ,  ~', 'font_size': 8.556731516439383, 'id': '10364_7'}, {'text': 'In 13 hours', 'resource-id': 'com.resultadosfutbol.mobile:id/status_game', 'ancestors': ['android.widget.TextView', 'android.view.View', 'java.lang.Object'], 'clickable': False, 'class': 'android.support.v7.widget.AppCompatTextView', 'bounds': [39, 2051, 259, 2104], 'componentLabel': 'Text', 'text_color': '#979797', 'bounds_updated': [67.0, 2065.6666666666665, 257.66666666666663, 2093.6666666666665], 'text_updated': 'In 13 hours', 'font_size': 6.516401378722737, 'id': '10364_8'}, {'iconClass': 'more', 'ancestors': ['android.widget.ImageView', 'android.view.View', 'java.lang.Object'], 'resource-id': 'com.resultadosfutbol.mobile:id/competition_actions_iv', 'clickable': True, 'class': 'android.support.v7.widget.AppCompatImageView', 'bounds': [915, 1687, 1440, 1813], 'componentLabel': 'Icon', 'id': '10364_9'}, {'text': 'UCL', 'resource-id': 'com.resultadosfutbol.mobile:id/gameListHeaderTxt', 'ancestors': ['android.widget.TextView', 'android.view.View', 'java.lang.Object'], 'clickable': False, 'class': 'android.support.v7.widget.AppCompatTextView', 'bounds': [154, 1714, 1440, 1785], 'componentLabel': 'Text', 'text_color': '#444444', 'bounds_updated': [156.66666666666666, 1731.3333333333333, 250.0, 1770.0], 'text_updated': 'UCL', 'font_size': 10.531210370579103, 'id': '10364_10'}, {'iconClass': 'emoji', 'ancestors': ['android.widget.ImageView', 'android.view.View', 'java.lang.Object'], 'resource-id': 'com.resultadosfutbol.mobile:id/gameListHeaderFlag', 'clickable': False, 'class': 'android.support.v7.widget.AppCompatImageView', 'bounds': [56, 1715, 126, 1785], 'componentLabel': 'Icon', 'id': '10364_11'}, {'ancestors': ['android.wi...</td>\n",
       "    </tr>\n",
       "    <tr>\n",
       "      <th>3</th>\n",
       "      <td>As a user I want to add ingredients to a shopping list so that it is easier for me to go shopping and buy everything I need for the cooking.</td>\n",
       "      <td>4891</td>\n",
       "      <td>[4, 2]</td>\n",
       "      <td>1</td>\n",
       "      <td>{'bg_color': '#FFFFFF', 'ui_comps': [{'ancestors': ['android.view.View', 'java.lang.Object'], 'resource-id': 'com.riatech.diabeticrecipes:id/imagePlus', 'clickable': False, 'class': 'android.widget.ImageView', 'bounds': [56, 2361, 140, 2392], 'componentLabel': 'Image', 'id': '4891_0'}, {'text': '1 15.5 oz Beans rinsed', 'resource-id': 'com.riatech.diabeticrecipes:id/ingretextPOP', 'ancestors': ['android.widget.TextView', 'android.view.View', 'java.lang.Object'], 'clickable': False, 'class': 'android.support.v7.widget.AppCompatTextView', 'bounds': [140, 2361, 1440, 2392], 'componentLabel': 'Text', 'text_color': '#3B3B3B', 'bounds_updated': [140, 2361, 1440, 2392], 'text_updated': '1 15.5 oz Beans rinsed', 'font_size': 12, 'id': '4891_1'}, {'ancestors': ['android.view.View', 'java.lang.Object'], 'resource-id': 'com.riatech.diabeticrecipes:id/imagePlus', 'clickable': False, 'class': 'android.widget.ImageView', 'bounds': [56, 2187, 140, 2361], 'componentLabel': 'Image', 'id': '4891_2'}, {'text': '3 cups fresh spinach', 'resource-id': 'com.riatech.diabeticrecipes:id/ingretextPOP', 'ancestors': ['android.widget.TextView', 'android.view.View', 'java.lang.Object'], 'clickable': False, 'class': 'android.support.v7.widget.AppCompatTextView', 'bounds': [140, 2187, 1440, 2361], 'componentLabel': 'Text', 'text_color': '#323232', 'bounds_updated': [213.33333333333331, 2256.3333333333335, 721.3333333333333, 2307.0], 'text_updated': '3 cups fresh spinach', 'font_size': 10.775987438656264, 'id': '4891_3'}, {'ancestors': ['android.view.View', 'java.lang.Object'], 'resource-id': 'com.riatech.diabeticrecipes:id/imagePlus', 'clickable': False, 'class': 'android.widget.ImageView', 'bounds': [56, 2013, 140, 2187], 'componentLabel': 'Image', 'id': '4891_4'}, {'text': '1 lb. fresh chicken tenderloin (cut into cubes)', 'resource-id': 'com.riatech.diabeticrecipes:id/ingretextPOP', 'ancestors': ['android.widget.TextView', 'android.view.View', 'java.lang.Object'], 'clickable': False, 'class': 'android.support.v7.widget.AppCompatTextView', 'bounds': [140, 2013, 1440, 2187], 'componentLabel': 'Text', 'text_color': '#626262', 'bounds_updated': [214.66666666666666, 2082.3333333333335, 1325.3333333333333, 2134.3333333333335], 'text_updated': '1 Ib. fresh chicken tenderloin (cut into cubes)', 'font_size': 10.721191324430457, 'id': '4891_5'}, {'ancestors': ['android.widget.ImageView', 'android.view.View', 'java.lang.Object'], 'resource-id': 'com.riatech.diabeticrecipes:id/add_all_img', 'clickable': False, 'class': 'android.support.v7.widget.AppCompatImageView', 'bounds': [1307, 1873, 1405, 1957], 'componentLabel': 'Image', 'id': '4891_6'}, {'text': 'Add all', 'resource-id': 'com.riatech.diabeticrecipes:id/add_all_txt', 'ancestors': ['android.widget.TextView', 'android.view.View', 'java.lang.Object'], 'clickable': False, 'class': 'android.support.v7.widget.AppCompatTextView', 'bounds': [1128, 1882, 1307, 1948], 'componentLabel': 'Text', 'text_color': '#FFFFFF', 'bounds_updated': [1128, 1882, 1307, 1948], 'text_updated': 'Add all', 'font_size': 12, 'id': '4891_7'}, {'text': 'Ingredients required', 'resource-id': 'com.riatech.diabeticrecipes:id/subtitle', 'ancestors': ['android.widget.TextView', 'android.view.View', 'java.lang.Object'], 'clickable': False, 'class': 'android.support.v7.widget.AppCompatTextView', 'bounds': [0, 1817, 1114, 2013], 'componentLabel': 'Text', 'text_color': '#1F1F1F', 'bounds_updated': [62.666666666666664, 1891.6666666666667, 672.0, 1957.0], 'text_updated': 'Ingredients required', 'font_size': 12.441887115646752, 'id': '4891_8'}, {'iconClass': 'date_range', 'ancestors': ['android.view.View', 'java.lang.Object'], 'resource-id': 'com.riatech.diabeticrecipes:id/mealplanner_button', 'clickable': False, 'class': 'android.widget.ImageView', 'bounds': [49, 1617, 175, 1813], 'componentLabel': 'Icon', 'id': '4891_9'}, {'text': 'Schedule a meal plan', 'resource-id': 'com.riatech.diabeticrecipes:id/mealplanner_text', 'ancestors': ['android.widget.TextView', 'android.view.View', 'java.lang.Object'], 'clickable': False, 'class': 'android.support.v7.widget.AppCompatTextView', 'bounds': [210, 1617, 1440, 1813], 'componentLabel': 'Text', 'text_color': '#6F6F6F', 'bounds_updated': [211.33333333333334, 1695.6666666666667, 736.6666666666666, 1749.0], 'text_updated': 'Schedule a meal plan', 'font_size': 10.653071235852696, 'id': '4891_10'}, {'iconClass': 'favorite', 'ancestors': ['android.widget.ImageView', 'android.view.View', 'java.lang.Object'], 'resource-id': 'com.riatech.diabeticrecipes:id/imagefav1sd', 'clickable': True, 'class': 'android.support.v7.widget.AppCompatImageView', 'bounds': [1237, 1407, 1405, 1575], 'componentLabel': 'Icon', 'id': '4891_11'}, {'text': 'Chicken Quinoa Veggie Power Bowl', 'resource-id': 'com.riatech.diabeticrecipes:id/maintitle', 'ancestors': ['android.widget.TextView', 'android.view.View', 'java.lang.Object'], 'clickable': False, 'class': 'android.support.v7.widget.AppCompatTextView', 'bounds': [0, 13...</td>\n",
       "    </tr>\n",
       "  </tbody>\n",
       "</table>\n",
       "</div>"
      ],
      "text/plain": [
       "                                                                                                                                                                user_story  rico_id      comp_ids  label  \\\n",
       "0                                                           As a user i want to be able to read news about transfer of player so I know which player changed to which team    10364  [45, 46, 44]      0   \n",
       "1  AS a enduser, i want to have a dispaly option at where i can see the total value of my current portfolio so that i have a complete overview over my finacial situation.     6584  [51, 50, 54]      1   \n",
       "2                                                                                     As a user I want to search for games or clubs to find the clubs of my choice quickly    10364          [48]      1   \n",
       "3                             As a user I want to add ingredients to a shopping list so that it is easier for me to go shopping and buy everything I need for the cooking.     4891        [4, 2]      1   \n",
       "\n",
       "                                                                                                                                                                                                                                                                                                                                                                                                                                                                                                                                                                                                                                                                                                                                                                                                                                                                                                                                                                                                                                                                                                                                                                                                                                                                                                                                                                                                                                                                                                                                                                                                                                                                                                                                                                                                                                                                                                                                                                                                                                                                                                                                                                                                                                                                                                                                                                                                                                                                                                                                                                                                                                                                                                                                                                                                                                                                                                                                                                                                                                                                                                                                                                                                                                                                                                                                                                                                                                                                                                                                                                                                                                                                                                                                                                                                                                                                                                                                                                                                                                                                                                                                                                                                                                                                                                                                                                                                                                                                                                                                                                                                                                                                                                                                                                                                                                                                                                                                                                                                                                                                                                                                                                                             rico_json_ori  \n",
       "0  {'bg_color': '#EEEEEE', 'ui_comps': [{'ancestors': ['android.widget.ImageView', 'android.view.View', 'java.lang.Object'], 'resource-id': 'com.resultadosfutbol.mobile:id/visitor_shield', 'clickable': False, 'class': 'android.support.v7.widget.AppCompatImageView', 'bounds': [840, 2110, 938, 2217], 'componentLabel': 'Image', 'id': '10364_0'}, {'iconClass': 'avatar', 'ancestors': ['android.widget.ImageView', 'android.view.View', 'java.lang.Object'], 'resource-id': 'com.resultadosfutbol.mobile:id/local_shield', 'clickable': False, 'class': 'android.support.v7.widget.AppCompatImageView', 'bounds': [502, 2110, 600, 2217], 'componentLabel': 'Icon', 'id': '10364_1'}, {'text': '7:45PM', 'resource-id': 'com.resultadosfutbol.mobile:id/score_or_date_tv', 'ancestors': ['android.widget.TextView', 'android.view.View', 'java.lang.Object'], 'clickable': False, 'class': 'android.support.v7.widget.AppCompatTextView', 'bounds': [628, 2124, 812, 2201], 'componentLabel': 'Text', 'text_color': '#FFFFFF', 'bounds_updated': [628, 2124.0, 812.0, 2201], 'text_updated': '7:45PM', 'font_size': 12, 'id': '10364_2'}, {'text': 'Juventus', 'resource-id': 'com.resultadosfutbol.mobile:id/visitor_name', 'ancestors': ['android.widget.TextView', 'android.view.View', 'java.lang.Object'], 'clickable': False, 'class': 'android.support.v7.widget.AppCompatTextView', 'bounds': [959, 2110, 1363, 2217], 'componentLabel': 'Text', 'text_color': '#000000', 'bounds_updated': [960.3333333333334, 2155.3333333333335, 1156.3333333333333, 2191.3333333333335], 'text_updated': 'Juventus', 'font_size': 9.980628012794522, 'id': '10364_3'}, {'text': 'Porto', 'resource-id': 'com.resultadosfutbol.mobile:id/local_name', 'ancestors': ['android.widget.TextView', 'android.view.View', 'java.lang.Object'], 'clickable': False, 'class': 'android.support.v7.widget.AppCompatTextView', 'bounds': [64, 2110, 481, 2217], 'componentLabel': 'Text', 'text_color': '#000000', 'bounds_updated': [364.0, 2155.3333333333335, 478.66666666666663, 2191.3333333333335], 'text_updated': 'Porto', 'font_size': 9.75510889069621, 'id': '10364_4'}, {'text': '4', 'resource-id': 'com.resultadosfutbol.mobile:id/num_comments', 'ancestors': ['android.widget.TextView', 'android.view.View', 'java.lang.Object'], 'clickable': False, 'class': 'android.support.v7.widget.AppCompatTextView', 'bounds': [1307, 2051, 1377, 2110], 'componentLabel': 'Text', 'text_color': '#FFFAFF', 'bounds_updated': [1307, 2051, 1377, 2110], 'text_updated': '4', 'font_size': 12, 'id': '10364_5'}, {'ancestors': ['android.widget.ImageView', 'android.view.View', 'java.lang.Object'], 'resource-id': 'com.resultadosfutbol.mobile:id/comments_bg', 'clickable': False, 'class': 'android.support.v7.widget.AppCompatImageView', 'bounds': [1307, 2051, 1377, 2110], 'componentLabel': 'Image', 'id': '10364_6'}, {'text': 'beIN Sports, beIN MAX 1', 'resource-id': 'com.resultadosfutbol.mobile:id/channel_tv', 'ancestors': ['android.widget.TextView', 'android.view.View', 'java.lang.Object'], 'clickable': False, 'class': 'android.support.v7.widget.AppCompatTextView', 'bounds': [862, 2051, 1293, 2104], 'componentLabel': 'Text', 'text_color': '#52A231', 'bounds_updated': [864.6666666666666, 2064.3333333333335, 1292.6666666666665, 2104], 'text_updated': 'beIN Sports, belN ,  ~', 'font_size': 8.556731516439383, 'id': '10364_7'}, {'text': 'In 13 hours', 'resource-id': 'com.resultadosfutbol.mobile:id/status_game', 'ancestors': ['android.widget.TextView', 'android.view.View', 'java.lang.Object'], 'clickable': False, 'class': 'android.support.v7.widget.AppCompatTextView', 'bounds': [39, 2051, 259, 2104], 'componentLabel': 'Text', 'text_color': '#979797', 'bounds_updated': [67.0, 2065.6666666666665, 257.66666666666663, 2093.6666666666665], 'text_updated': 'In 13 hours', 'font_size': 6.516401378722737, 'id': '10364_8'}, {'iconClass': 'more', 'ancestors': ['android.widget.ImageView', 'android.view.View', 'java.lang.Object'], 'resource-id': 'com.resultadosfutbol.mobile:id/competition_actions_iv', 'clickable': True, 'class': 'android.support.v7.widget.AppCompatImageView', 'bounds': [915, 1687, 1440, 1813], 'componentLabel': 'Icon', 'id': '10364_9'}, {'text': 'UCL', 'resource-id': 'com.resultadosfutbol.mobile:id/gameListHeaderTxt', 'ancestors': ['android.widget.TextView', 'android.view.View', 'java.lang.Object'], 'clickable': False, 'class': 'android.support.v7.widget.AppCompatTextView', 'bounds': [154, 1714, 1440, 1785], 'componentLabel': 'Text', 'text_color': '#444444', 'bounds_updated': [156.66666666666666, 1731.3333333333333, 250.0, 1770.0], 'text_updated': 'UCL', 'font_size': 10.531210370579103, 'id': '10364_10'}, {'iconClass': 'emoji', 'ancestors': ['android.widget.ImageView', 'android.view.View', 'java.lang.Object'], 'resource-id': 'com.resultadosfutbol.mobile:id/gameListHeaderFlag', 'clickable': False, 'class': 'android.support.v7.widget.AppCompatImageView', 'bounds': [56, 1715, 126, 1785], 'componentLabel': 'Icon', 'id': '10364_11'}, {'ancestors': ['android.wi...  \n",
       "1  {'bg_color': '#212121', 'ui_comps': [{'text': 'add coin', 'resource-id': 'com.blockfolio.blockfolio:id/add_info_tv', 'ancestors': ['android.widget.TextView', 'android.view.View', 'java.lang.Object'], 'clickable': False, 'class': 'com.blockfolio.blockfolio.font.TypefaceTextView', 'bounds': [628, 1956, 811, 2021], 'componentLabel': 'Text', 'text_color': '#747474', 'bounds_updated': [630.6666666666666, 1981.3333333333333, 808.0, 2006.6666666666667], 'text_updated': 'add coin', 'font_size': 9.12617506262869, 'id': '6584_0'}, {'iconClass': 'add', 'ancestors': ['android.widget.ImageView', 'android.view.View', 'java.lang.Object'], 'resource-id': 'com.blockfolio.blockfolio:id/add_coin_button', 'clickable': True, 'class': 'android.widget.ImageButton', 'bounds': [653, 1823, 786, 1956], 'componentLabel': 'Icon', 'id': '6584_1'}, {'text': '', 'resource-id': 'com.blockfolio.blockfolio:id/alertBtn', 'ancestors': ['android.widget.TextView', 'android.view.View', 'java.lang.Object'], 'clickable': True, 'class': 'android.widget.Button', 'bounds': [1216, 1556, 1440, 1780], 'componentLabel': 'Image', 'id': '6584_2'}, {'iconClass': 'avatar', 'ancestors': ['android.view.View', 'java.lang.Object'], 'resource-id': 'com.blockfolio.blockfolio:id/alertIcon', 'clickable': False, 'class': 'android.widget.ImageView', 'bounds': [1300, 1574, 1390, 1659], 'componentLabel': 'Icon', 'id': '6584_3'}, {'iconClass': 'arrow_downward', 'ancestors': ['android.view.View', 'java.lang.Object'], 'resource-id': 'com.blockfolio.blockfolio:id/arrow', 'clickable': False, 'class': 'android.widget.ImageView', 'bounds': [1216, 1605, 1265, 1654], 'componentLabel': 'Icon', 'id': '6584_4'}, {'text': '$26.83', 'resource-id': 'com.blockfolio.blockfolio:id/coinPrice', 'ancestors': ['android.widget.TextView', 'android.view.View', 'java.lang.Object'], 'clickable': False, 'class': 'com.blockfolio.blockfolio.font.TypefaceTextView', 'bounds': [983, 1573, 1202, 1669], 'componentLabel': 'Text', 'text_color': '#2F2F2F', 'bounds_updated': [987.0, 1587.6666666666667, 1197.6666666666667, 1655.6666666666667], 'text_updated': '$26.83', 'font_size': 12.465047829286247, 'id': '6584_5'}, {'text': '-.76280375', 'resource-id': 'com.blockfolio.blockfolio:id/priceChangeTV', 'ancestors': ['android.widget.TextView', 'android.view.View', 'java.lang.Object'], 'clickable': False, 'class': 'com.blockfolio.blockfolio.font.TypefaceTextView', 'bounds': [879, 1676, 1202, 1762], 'componentLabel': 'Text', 'text_color': '#B00D1E', 'bounds_updated': [880.3333333333334, 1722.6666666666667, 1199.0, 1745.3333333333333], 'text_updated': '-,4 6280375', 'font_size': 11.408028676811504, 'id': '6584_6'}, {'text': 'XMR', 'resource-id': 'com.blockfolio.blockfolio:id/coinName', 'ancestors': ['android.widget.TextView', 'android.view.View', 'java.lang.Object'], 'clickable': False, 'class': 'com.blockfolio.blockfolio.font.TypefaceTextView', 'bounds': [34, 1672, 173, 1758], 'componentLabel': 'Text', 'text_color': '#303030', 'bounds_updated': [35.333333333333336, 1693.3333333333333, 170.0, 1740.0], 'text_updated': 'XMR', 'font_size': 12.53481590494098, 'id': '6584_7'}, {'iconClass': 'email', 'ancestors': ['android.view.View', 'java.lang.Object'], 'resource-id': 'com.blockfolio.blockfolio:id/icon', 'clickable': False, 'class': 'android.widget.ImageView', 'bounds': [56, 1577, 151, 1672], 'componentLabel': 'Icon', 'id': '6584_8'}, {'text': '', 'resource-id': 'com.blockfolio.blockfolio:id/alertBtn', 'ancestors': ['android.widget.TextView', 'android.view.View', 'java.lang.Object'], 'clickable': True, 'class': 'android.widget.Button', 'bounds': [1216, 1328, 1440, 1552], 'componentLabel': 'Image', 'id': '6584_9'}, {'iconClass': 'notifications', 'ancestors': ['android.view.View', 'java.lang.Object'], 'resource-id': 'com.blockfolio.blockfolio:id/alertIcon', 'clickable': False, 'class': 'android.widget.ImageView', 'bounds': [1300, 1346, 1390, 1431], 'componentLabel': 'Icon', 'id': '6584_10'}, {'iconClass': 'arrow_downward', 'ancestors': ['android.view.View', 'java.lang.Object'], 'resource-id': 'com.blockfolio.blockfolio:id/arrow', 'clickable': False, 'class': 'android.widget.ImageView', 'bounds': [1216, 1377, 1265, 1426], 'componentLabel': 'Icon', 'id': '6584_11'}, {'text': '$23.72', 'resource-id': 'com.blockfolio.blockfolio:id/coinPrice', 'ancestors': ['android.widget.TextView', 'android.view.View', 'java.lang.Object'], 'clickable': False, 'class': 'com.blockfolio.blockfolio.font.TypefaceTextView', 'bounds': [983, 1345, 1202, 1441], 'componentLabel': 'Text', 'text_color': '#313131', 'bounds_updated': [987.0, 1359.6666666666667, 1200.3333333333333, 1427.6666666666667], 'text_updated': '$23.72', 'font_size': 12.593283517637591, 'id': '6584_12'}, {'text': '-2.58', 'resource-id': 'com.blockfolio.blockfolio:id/priceChangeTV', 'ancestors': ['android.widget.TextView', 'android.view.View', 'java.lang.Object'], 'clickable': False, 'class': 'com.blockfolio.blockfolio.font.TypefaceTextView', 'bounds': [1059, 1448, 1202, 1534], '...  \n",
       "2  {'bg_color': '#EEEEEE', 'ui_comps': [{'ancestors': ['android.widget.ImageView', 'android.view.View', 'java.lang.Object'], 'resource-id': 'com.resultadosfutbol.mobile:id/visitor_shield', 'clickable': False, 'class': 'android.support.v7.widget.AppCompatImageView', 'bounds': [840, 2110, 938, 2217], 'componentLabel': 'Image', 'id': '10364_0'}, {'iconClass': 'avatar', 'ancestors': ['android.widget.ImageView', 'android.view.View', 'java.lang.Object'], 'resource-id': 'com.resultadosfutbol.mobile:id/local_shield', 'clickable': False, 'class': 'android.support.v7.widget.AppCompatImageView', 'bounds': [502, 2110, 600, 2217], 'componentLabel': 'Icon', 'id': '10364_1'}, {'text': '7:45PM', 'resource-id': 'com.resultadosfutbol.mobile:id/score_or_date_tv', 'ancestors': ['android.widget.TextView', 'android.view.View', 'java.lang.Object'], 'clickable': False, 'class': 'android.support.v7.widget.AppCompatTextView', 'bounds': [628, 2124, 812, 2201], 'componentLabel': 'Text', 'text_color': '#FFFFFF', 'bounds_updated': [628, 2124.0, 812.0, 2201], 'text_updated': '7:45PM', 'font_size': 12, 'id': '10364_2'}, {'text': 'Juventus', 'resource-id': 'com.resultadosfutbol.mobile:id/visitor_name', 'ancestors': ['android.widget.TextView', 'android.view.View', 'java.lang.Object'], 'clickable': False, 'class': 'android.support.v7.widget.AppCompatTextView', 'bounds': [959, 2110, 1363, 2217], 'componentLabel': 'Text', 'text_color': '#000000', 'bounds_updated': [960.3333333333334, 2155.3333333333335, 1156.3333333333333, 2191.3333333333335], 'text_updated': 'Juventus', 'font_size': 9.980628012794522, 'id': '10364_3'}, {'text': 'Porto', 'resource-id': 'com.resultadosfutbol.mobile:id/local_name', 'ancestors': ['android.widget.TextView', 'android.view.View', 'java.lang.Object'], 'clickable': False, 'class': 'android.support.v7.widget.AppCompatTextView', 'bounds': [64, 2110, 481, 2217], 'componentLabel': 'Text', 'text_color': '#000000', 'bounds_updated': [364.0, 2155.3333333333335, 478.66666666666663, 2191.3333333333335], 'text_updated': 'Porto', 'font_size': 9.75510889069621, 'id': '10364_4'}, {'text': '4', 'resource-id': 'com.resultadosfutbol.mobile:id/num_comments', 'ancestors': ['android.widget.TextView', 'android.view.View', 'java.lang.Object'], 'clickable': False, 'class': 'android.support.v7.widget.AppCompatTextView', 'bounds': [1307, 2051, 1377, 2110], 'componentLabel': 'Text', 'text_color': '#FFFAFF', 'bounds_updated': [1307, 2051, 1377, 2110], 'text_updated': '4', 'font_size': 12, 'id': '10364_5'}, {'ancestors': ['android.widget.ImageView', 'android.view.View', 'java.lang.Object'], 'resource-id': 'com.resultadosfutbol.mobile:id/comments_bg', 'clickable': False, 'class': 'android.support.v7.widget.AppCompatImageView', 'bounds': [1307, 2051, 1377, 2110], 'componentLabel': 'Image', 'id': '10364_6'}, {'text': 'beIN Sports, beIN MAX 1', 'resource-id': 'com.resultadosfutbol.mobile:id/channel_tv', 'ancestors': ['android.widget.TextView', 'android.view.View', 'java.lang.Object'], 'clickable': False, 'class': 'android.support.v7.widget.AppCompatTextView', 'bounds': [862, 2051, 1293, 2104], 'componentLabel': 'Text', 'text_color': '#52A231', 'bounds_updated': [864.6666666666666, 2064.3333333333335, 1292.6666666666665, 2104], 'text_updated': 'beIN Sports, belN ,  ~', 'font_size': 8.556731516439383, 'id': '10364_7'}, {'text': 'In 13 hours', 'resource-id': 'com.resultadosfutbol.mobile:id/status_game', 'ancestors': ['android.widget.TextView', 'android.view.View', 'java.lang.Object'], 'clickable': False, 'class': 'android.support.v7.widget.AppCompatTextView', 'bounds': [39, 2051, 259, 2104], 'componentLabel': 'Text', 'text_color': '#979797', 'bounds_updated': [67.0, 2065.6666666666665, 257.66666666666663, 2093.6666666666665], 'text_updated': 'In 13 hours', 'font_size': 6.516401378722737, 'id': '10364_8'}, {'iconClass': 'more', 'ancestors': ['android.widget.ImageView', 'android.view.View', 'java.lang.Object'], 'resource-id': 'com.resultadosfutbol.mobile:id/competition_actions_iv', 'clickable': True, 'class': 'android.support.v7.widget.AppCompatImageView', 'bounds': [915, 1687, 1440, 1813], 'componentLabel': 'Icon', 'id': '10364_9'}, {'text': 'UCL', 'resource-id': 'com.resultadosfutbol.mobile:id/gameListHeaderTxt', 'ancestors': ['android.widget.TextView', 'android.view.View', 'java.lang.Object'], 'clickable': False, 'class': 'android.support.v7.widget.AppCompatTextView', 'bounds': [154, 1714, 1440, 1785], 'componentLabel': 'Text', 'text_color': '#444444', 'bounds_updated': [156.66666666666666, 1731.3333333333333, 250.0, 1770.0], 'text_updated': 'UCL', 'font_size': 10.531210370579103, 'id': '10364_10'}, {'iconClass': 'emoji', 'ancestors': ['android.widget.ImageView', 'android.view.View', 'java.lang.Object'], 'resource-id': 'com.resultadosfutbol.mobile:id/gameListHeaderFlag', 'clickable': False, 'class': 'android.support.v7.widget.AppCompatImageView', 'bounds': [56, 1715, 126, 1785], 'componentLabel': 'Icon', 'id': '10364_11'}, {'ancestors': ['android.wi...  \n",
       "3  {'bg_color': '#FFFFFF', 'ui_comps': [{'ancestors': ['android.view.View', 'java.lang.Object'], 'resource-id': 'com.riatech.diabeticrecipes:id/imagePlus', 'clickable': False, 'class': 'android.widget.ImageView', 'bounds': [56, 2361, 140, 2392], 'componentLabel': 'Image', 'id': '4891_0'}, {'text': '1 15.5 oz Beans rinsed', 'resource-id': 'com.riatech.diabeticrecipes:id/ingretextPOP', 'ancestors': ['android.widget.TextView', 'android.view.View', 'java.lang.Object'], 'clickable': False, 'class': 'android.support.v7.widget.AppCompatTextView', 'bounds': [140, 2361, 1440, 2392], 'componentLabel': 'Text', 'text_color': '#3B3B3B', 'bounds_updated': [140, 2361, 1440, 2392], 'text_updated': '1 15.5 oz Beans rinsed', 'font_size': 12, 'id': '4891_1'}, {'ancestors': ['android.view.View', 'java.lang.Object'], 'resource-id': 'com.riatech.diabeticrecipes:id/imagePlus', 'clickable': False, 'class': 'android.widget.ImageView', 'bounds': [56, 2187, 140, 2361], 'componentLabel': 'Image', 'id': '4891_2'}, {'text': '3 cups fresh spinach', 'resource-id': 'com.riatech.diabeticrecipes:id/ingretextPOP', 'ancestors': ['android.widget.TextView', 'android.view.View', 'java.lang.Object'], 'clickable': False, 'class': 'android.support.v7.widget.AppCompatTextView', 'bounds': [140, 2187, 1440, 2361], 'componentLabel': 'Text', 'text_color': '#323232', 'bounds_updated': [213.33333333333331, 2256.3333333333335, 721.3333333333333, 2307.0], 'text_updated': '3 cups fresh spinach', 'font_size': 10.775987438656264, 'id': '4891_3'}, {'ancestors': ['android.view.View', 'java.lang.Object'], 'resource-id': 'com.riatech.diabeticrecipes:id/imagePlus', 'clickable': False, 'class': 'android.widget.ImageView', 'bounds': [56, 2013, 140, 2187], 'componentLabel': 'Image', 'id': '4891_4'}, {'text': '1 lb. fresh chicken tenderloin (cut into cubes)', 'resource-id': 'com.riatech.diabeticrecipes:id/ingretextPOP', 'ancestors': ['android.widget.TextView', 'android.view.View', 'java.lang.Object'], 'clickable': False, 'class': 'android.support.v7.widget.AppCompatTextView', 'bounds': [140, 2013, 1440, 2187], 'componentLabel': 'Text', 'text_color': '#626262', 'bounds_updated': [214.66666666666666, 2082.3333333333335, 1325.3333333333333, 2134.3333333333335], 'text_updated': '1 Ib. fresh chicken tenderloin (cut into cubes)', 'font_size': 10.721191324430457, 'id': '4891_5'}, {'ancestors': ['android.widget.ImageView', 'android.view.View', 'java.lang.Object'], 'resource-id': 'com.riatech.diabeticrecipes:id/add_all_img', 'clickable': False, 'class': 'android.support.v7.widget.AppCompatImageView', 'bounds': [1307, 1873, 1405, 1957], 'componentLabel': 'Image', 'id': '4891_6'}, {'text': 'Add all', 'resource-id': 'com.riatech.diabeticrecipes:id/add_all_txt', 'ancestors': ['android.widget.TextView', 'android.view.View', 'java.lang.Object'], 'clickable': False, 'class': 'android.support.v7.widget.AppCompatTextView', 'bounds': [1128, 1882, 1307, 1948], 'componentLabel': 'Text', 'text_color': '#FFFFFF', 'bounds_updated': [1128, 1882, 1307, 1948], 'text_updated': 'Add all', 'font_size': 12, 'id': '4891_7'}, {'text': 'Ingredients required', 'resource-id': 'com.riatech.diabeticrecipes:id/subtitle', 'ancestors': ['android.widget.TextView', 'android.view.View', 'java.lang.Object'], 'clickable': False, 'class': 'android.support.v7.widget.AppCompatTextView', 'bounds': [0, 1817, 1114, 2013], 'componentLabel': 'Text', 'text_color': '#1F1F1F', 'bounds_updated': [62.666666666666664, 1891.6666666666667, 672.0, 1957.0], 'text_updated': 'Ingredients required', 'font_size': 12.441887115646752, 'id': '4891_8'}, {'iconClass': 'date_range', 'ancestors': ['android.view.View', 'java.lang.Object'], 'resource-id': 'com.riatech.diabeticrecipes:id/mealplanner_button', 'clickable': False, 'class': 'android.widget.ImageView', 'bounds': [49, 1617, 175, 1813], 'componentLabel': 'Icon', 'id': '4891_9'}, {'text': 'Schedule a meal plan', 'resource-id': 'com.riatech.diabeticrecipes:id/mealplanner_text', 'ancestors': ['android.widget.TextView', 'android.view.View', 'java.lang.Object'], 'clickable': False, 'class': 'android.support.v7.widget.AppCompatTextView', 'bounds': [210, 1617, 1440, 1813], 'componentLabel': 'Text', 'text_color': '#6F6F6F', 'bounds_updated': [211.33333333333334, 1695.6666666666667, 736.6666666666666, 1749.0], 'text_updated': 'Schedule a meal plan', 'font_size': 10.653071235852696, 'id': '4891_10'}, {'iconClass': 'favorite', 'ancestors': ['android.widget.ImageView', 'android.view.View', 'java.lang.Object'], 'resource-id': 'com.riatech.diabeticrecipes:id/imagefav1sd', 'clickable': True, 'class': 'android.support.v7.widget.AppCompatImageView', 'bounds': [1237, 1407, 1405, 1575], 'componentLabel': 'Icon', 'id': '4891_11'}, {'text': 'Chicken Quinoa Veggie Power Bowl', 'resource-id': 'com.riatech.diabeticrecipes:id/maintitle', 'ancestors': ['android.widget.TextView', 'android.view.View', 'java.lang.Object'], 'clickable': False, 'class': 'android.support.v7.widget.AppCompatTextView', 'bounds': [0, 13...  "
      ]
     },
     "execution_count": 326,
     "metadata": {},
     "output_type": "execute_result"
    }
   ],
   "source": [
    "df_user_stories_and_rico_train_set[:4]"
   ]
  },
  {
   "cell_type": "code",
   "execution_count": 39,
   "id": "1676f3cb-05d3-446a-8705-f24c8d897acc",
   "metadata": {},
   "outputs": [],
   "source": [
    "def remove_comps(rico_gui, comp_ids, rico_id):\n",
    "    # Remove ids from the ui comps\n",
    "    ori_ui_comps = copy.deepcopy(rico_gui['ui_comps'])\n",
    "    ids_to_filter = [str(rico_id)+'_'+str(comp_id) for comp_id in comp_ids]\n",
    "    upd_ui_comps = [elem for elem in ori_ui_comps if not elem['id'] in ids_to_filter]\n",
    "    rico_gui['ui_comps'] = upd_ui_comps\n",
    "    # Remove ids from the ui comp groups\n",
    "    ori_ui_comp_groups = copy.deepcopy(rico_gui['ui_comp_groups'])\n",
    "    group_ids_to_filter = []\n",
    "    for group in ori_ui_comp_groups:\n",
    "        ui_comp_ids_group = group['ui_comp_ids']\n",
    "        upd_ui_comp_ids_group = [elem for elem in ui_comp_ids_group if elem not in ids_to_filter]\n",
    "        if not upd_ui_comp_ids_group or len(upd_ui_comp_ids_group) == 0:\n",
    "            group_ids_to_filter.append(group['id'])\n",
    "        group['ui_comp_ids'] = upd_ui_comp_ids_group\n",
    "    ori_ui_comp_groups_updated = [group for group in ori_ui_comp_groups if group['id'] not in group_ids_to_filter]\n",
    "    rico_gui['ui_comp_groups'] = ori_ui_comp_groups_updated\n",
    "    return rico_gui"
   ]
  },
  {
   "cell_type": "code",
   "execution_count": null,
   "id": "7f163858-98ce-4ae3-89a1-8fab8e5a1f3e",
   "metadata": {},
   "outputs": [],
   "source": [
    "df_user_stories_and_rico['rico_json_upd'] = df_user_stories_and_rico.apply(lambda row: row['rico_json_ori'] if row['label']==1 else remove_comps(copy.deepcopy(row['rico_json_ori']), row['comp_ids'], row['rico_id']), axis=1)\n",
    "df_user_stories_and_rico_train_set['rico_json_upd'] = df_user_stories_and_rico_train_set.apply(lambda row: row['rico_json_ori'] if row['label']==1 else remove_comps(copy.deepcopy(row['rico_json_ori']), row['comp_ids'], row['rico_id']), axis=1)"
   ]
  },
  {
   "cell_type": "markdown",
   "id": "1da1f9d3-83cf-4d70-a351-e7bfd8b1b075",
   "metadata": {},
   "source": [
    "## 1.3 GUI2String"
   ]
  },
  {
   "cell_type": "code",
   "execution_count": 549,
   "id": "9a4e4ae4-4e4f-4e81-90bb-f9676f9b0485",
   "metadata": {},
   "outputs": [],
   "source": [
    "    import ast\n",
    "    import copy\n",
    "    import uuid\n",
    "    from typing import Text, Generator, Tuple, List, Optional, Dict, Set\n",
    "    import pandas as pd\n",
    "    import numpy as np\n",
    "    from ast import literal_eval\n",
    "    import matplotlib.pyplot as plt\n",
    "    import seaborn as sns\n",
    "    import pickle\n",
    "    import os\n",
    "    import json\n",
    "    import re\n",
    "\n",
    "\n",
    "    FEAT_METHOD_TEXT_ONLY = 'feat_method_text_only'\n",
    "    FEAT_METHOD_TEXT_COMP_TYPE = 'feat_method_text_comp_type'\n",
    "    FEAT_METHOD_TEXT_COMP_TYPE_RES_ID = 'feat_method_text_comp_type_res_id'\n",
    "    FEAT_METHOD_HTML = 'feat_method_html'\n",
    "\n",
    "    STRUCT_METHOD_SIMPLE_BULLETS = 'struct_method_simple_bullets'\n",
    "    STRUCT_METHOD_SIMPLE_BULLETS_SORTED = 'struct_method_simple_bullets_sorted'\n",
    "    STRUCT_METHOD_TWO_LEVEL_BULLETS = 'struct_method_two_level_bullets'\n",
    "    STRUCT_METHOD_TWO_LEVEL_HTML = 'struct_method_two_level_html'\n",
    "\n",
    "    STYLE_SIZE = 'style_size'\n",
    "    STYLE_BACK_COLOR = 'style_back_color'\n",
    "    STYLE_FONT_COLOR = 'style_font_color'\n",
    "    STYLE_FONT_SIZE = 'style_font_size'\n",
    "\n",
    "    stop_words_r_ids = {'main', 'content', 'navigation', 'bar', 'background', 'status',\n",
    "                        'checkbox', 'widget', 'frame', 'container', 'action', 'btn', 'menu',\n",
    "                        'label', 'root', 'toolbar', 'view', 'button', 'activity', 'layout',\n",
    "                        'drawer', 'actionbar', 'icon', 'text', 'banner'}\n",
    "\n",
    "    html_comp_mapping = {'Web View': ('<div', '</div>'),\n",
    "                         'Icon': ('<i class=\"material-icons\"', '</i>'),\n",
    "                         'Button': ('<button type=\"button\"', '</button>'),\n",
    "                         'Label': ('<p', '</p>'),\n",
    "                         'Video': ('<video ', '</video> '),\n",
    "                         'Image': ('<img src=\"example.jpg\"', ''),\n",
    "                         'Background Image': ('<img src=\"example.jpg\"', ''),\n",
    "                         'Text': ('<p>', '</p>'),\n",
    "                         'Checkbox': ('<input type=\"checkbox\"', '</input>'),\n",
    "                         'Switch': ('<input type=\"checkbox\"', '</input>'),\n",
    "                         'Text Input': ('<input type=\"text\"', '</input>'),\n",
    "                         'Input': ('<input type=\"text\"', '</input>'),\n",
    "                         'Advertisement': ('<div', '</div>'),\n",
    "                         'Slider': ('<input type=\"range\" min=\"1\" max=\"100\"', '</input>'),\n",
    "                         'Radio Button': ('<input type=\"radio\"', '</input>'),\n",
    "                         'Pager Indicator': ('<div', '</div>'),\n",
    "                         'Map View': ('<div', '</div>')}\n",
    "\n",
    "    html_comp_group_mapping = {\n",
    "        'List Item': ('<li', '</li>'),\n",
    "        'Card': ('<div', '</div>'),\n",
    "        'Modal': ('<div class=\"modal\"', '</div>'),\n",
    "        'Map View': ('<div class=\"map\"', '</div>'),\n",
    "        'Toolbar': ('<menu', '</menu>'),\n",
    "        'Multi-Tab': ('<div class=\"tab\"', '</div>'),\n",
    "        'Layout': ('<div class=\"layout\"', '</div>')\n",
    "    }\n",
    "\n",
    "    def normalize_resource_id(resource_id: Text, filter_tokens: Optional[Set[Text]] = None,\n",
    "                              tokenize: Optional[bool] = False) -> List[Text]:\n",
    "        stopwords = filter_tokens if filter_tokens else stop_words_r_ids\n",
    "        name_split = resource_id.split('/')\n",
    "        name = name_split[len(name_split) - 1]\n",
    "        norm_name = [token for token in snake_camel_case_split(name) if token.lower() not in stopwords]\n",
    "        return norm_name if tokenize else ' '.join(norm_name)\n",
    "\n",
    "    def camel_case_split(identifier: Text) -> List[Text]:\n",
    "        matches = re.finditer('.+?(?:(?<=[a-z])(?=[A-Z])|(?<=[A-Z])(?=[A-Z][a-z])|$)', identifier)\n",
    "        return [m.group(0) for m in matches]\n",
    "\n",
    "    def snake_case_split(identifier: Text) -> List[Text]:\n",
    "        return identifier.split('_')\n",
    "\n",
    "    def snake_camel_case_split(identifier: Text) -> List[Text]:\n",
    "        snake_cases = snake_case_split(identifier)\n",
    "        splits = [cc for sc in snake_cases\n",
    "                  for cc in camel_case_split(sc)]\n",
    "        return splits\n",
    "\n",
    "    def get_refined_comp_type(comp):\n",
    "        if comp['componentLabel'] == 'On/Off Switch':\n",
    "            return 'Switch'\n",
    "        if comp['componentLabel'] == 'Input':\n",
    "            clazz_name = comp['class'].lower()\n",
    "            if 'edittext' in clazz_name:\n",
    "                # return 'Edit Text'\n",
    "                return 'Text Input'\n",
    "            elif 'checkbox' in clazz_name:\n",
    "                return 'Checkbox'\n",
    "            elif 'switch' in clazz_name:\n",
    "                return 'Switch'\n",
    "            else:\n",
    "                return 'Input'\n",
    "        if comp['componentLabel'] == 'Text Button':\n",
    "            clazz_name = comp['class'].lower()\n",
    "            if 'checkbox' in clazz_name:\n",
    "                return 'Checkbox'\n",
    "            else:\n",
    "                return 'Button'\n",
    "        if comp['componentLabel'] == 'Text':\n",
    "            return 'Label'\n",
    "        return comp['componentLabel']\n",
    "\n",
    "    def feat_method_text_only(gui, n, m, to_lower, quote, style):\n",
    "        features = [(ui_comp['id'], ' '.join(ui_comp['text'].split(' ')[:m]))\n",
    "                    for ui_comp in gui['ui_comps'] if ui_comp.get('text')][:n]\n",
    "        if to_lower:\n",
    "            features = [(feat[0], feat[1].lower()) for feat in features]\n",
    "        if quote:\n",
    "            features = [(feat[0], '\"' + feat[1] + '\"') for feat in features]\n",
    "        return {feat[0]: feat[1] for feat in features}\n",
    "\n",
    "    def feat_method_text_comp_type(gui, n, m, to_lower, quote, style):\n",
    "        features = []\n",
    "        print(gui)\n",
    "        for ui_comp in gui['ui_comps']:\n",
    "            uic_text = ui_comp.get('text').strip() if ui_comp.get('text') else ui_comp.get('text_updated').strip() if ui_comp.get('text_updated') else ''\n",
    "            uic_text = '\"' + uic_text + '\"' if quote else uic_text\n",
    "            feat_str = ''\n",
    "            if ui_comp.get('componentLabel') == 'Icon':\n",
    "                icon_text = ' '.join(ui_comp.get('iconClass').split('_')).strip()\n",
    "                icon_text = '\"' + icon_text + '\"' if quote else icon_text\n",
    "                feat_str = icon_text + ' (' + get_refined_comp_type(ui_comp) + ')'\n",
    "            elif ui_comp.get('componentLabel') == 'Text Button':\n",
    "                if ui_comp.get('buttonClass'):\n",
    "                    button_text = ' '.join(ui_comp.get('buttonClass').split('_')).strip()\n",
    "                    button_text = '\"' + button_text + '\"' if quote else button_text\n",
    "                    feat_str = button_text + ' (' + get_refined_comp_type(ui_comp) + ')'\n",
    "                elif ui_comp.get('textButtonClass'):\n",
    "                    button_text = ' '.join(ui_comp.get('textButtonClass').split('_')).strip()\n",
    "                    button_text = '\"' + button_text + '\"' if quote else button_text\n",
    "                    feat_str = button_text + ' (' + get_refined_comp_type(ui_comp) + ')'\n",
    "                else:\n",
    "                    feat_str = uic_text + ' (' + get_refined_comp_type(ui_comp) + ')'\n",
    "            elif ui_comp.get('componentLabel') == 'Input':\n",
    "                if ui_comp.get('text'):\n",
    "                    input_text = '\"' + uic_text + '\"' if quote else button_text\n",
    "                    feat_str = input_text + ' (' + get_refined_comp_type(ui_comp) + ')'\n",
    "                elif ui_comp.get('text_updated'):\n",
    "                    input_text = '\"' + ui_comp.get('text_updated').strip().replace('\\n', '').replace('\\f', '') + '\"' \\\n",
    "                        if quote else ui_comp.get('text_updated').strip().replace('\\n', '').replace('\\f', '')\n",
    "                    feat_str = input_text + ' (' + get_refined_comp_type(ui_comp) + ')'\n",
    "                else:\n",
    "                    feat_str = '(' + get_refined_comp_type(ui_comp) + ')'\n",
    "            else:\n",
    "                if ui_comp.get('text'):\n",
    "                    feat_str = uic_text + ' (' + get_refined_comp_type(ui_comp) + ')'\n",
    "                else:\n",
    "                    feat_str = '(' + get_refined_comp_type(ui_comp) + ')'\n",
    "            if to_lower:\n",
    "                feat_str = feat_str.lower()\n",
    "            features.append((ui_comp.get('id'), feat_str, ui_comp.get('bounds')))\n",
    "        return {feat[0]: (feat[1], feat[2]) for feat in features}\n",
    "\n",
    "    def feat_method_text_comp_type_res_id(gui, n, m, to_lower, quote, style, id=False):\n",
    "        features = []\n",
    "        for ui_comp in gui['ui_comps']:\n",
    "            uic_text = ui_comp.get('text').strip() if ui_comp.get('text') else ui_comp.get('text_updated').strip() if ui_comp.get('text_updated') else ''\n",
    "            uic_text = '\"' + uic_text + '\"' if quote else uic_text\n",
    "            feat_str = ''\n",
    "            if ui_comp.get('componentLabel') == 'Icon':\n",
    "                icon_text = ' '.join(ui_comp.get('iconClass').split('_')).strip()\n",
    "                icon_text = '\"' + icon_text + '\"' if quote else icon_text\n",
    "                feat_str = icon_text + ' (' + get_refined_comp_type(ui_comp) + ')'\n",
    "            elif ui_comp.get('componentLabel') == 'Text Button':\n",
    "                if ui_comp.get('buttonClass'):\n",
    "                    button_text = ' '.join(ui_comp.get('buttonClass').split('_')).strip()\n",
    "                    button_text = '\"' + button_text + '\"' if quote else button_text\n",
    "                    feat_str = button_text + ' (' + get_refined_comp_type(ui_comp) + ')'\n",
    "                elif ui_comp.get('textButtonClass'):\n",
    "                    button_text = ' '.join(ui_comp.get('textButtonClass').split('_')).strip()\n",
    "                    button_text = '\"' + button_text + '\"' if quote else button_text\n",
    "                    feat_str = button_text + ' (' + get_refined_comp_type(ui_comp) + ')'\n",
    "                else:\n",
    "                    feat_str = uic_text + ' (' + get_refined_comp_type(ui_comp) + ')'\n",
    "            elif ui_comp.get('componentLabel') == 'Input':\n",
    "                if ui_comp.get('text'):\n",
    "                    input_text = '\"' + uic_text + '\"' if quote else button_text\n",
    "                    feat_str = input_text + ' (' + get_refined_comp_type(ui_comp) + ')'\n",
    "                elif ui_comp.get('text_updated'):\n",
    "                    input_text = '\"' + ui_comp.get('text_updated').strip().replace('\\n', '').replace('\\f', '') + '\"' \\\n",
    "                        if quote else ui_comp.get('text_updated').strip().replace('\\n', '').replace('\\f', '')\n",
    "                    feat_str = input_text + ' (' + get_refined_comp_type(ui_comp) + ')'\n",
    "                else:\n",
    "                    feat_str = '(' + get_refined_comp_type(ui_comp) + ')'\n",
    "            else:\n",
    "                if ui_comp.get('text'):\n",
    "                    feat_str = uic_text + ' (' + get_refined_comp_type(ui_comp) + ')'\n",
    "                else:\n",
    "                    feat_str = '(' + get_refined_comp_type(ui_comp) + ')'\n",
    "            feat_str += ' (' + normalize_resource_id(ui_comp.get('resource-id')) + ')' if ui_comp.get(\n",
    "                'resource-id') else ''\n",
    "            style_attrs = []\n",
    "            if style.get(STYLE_SIZE):\n",
    "                bounds = ui_comp['bounds']\n",
    "                width, height = bounds[2] - bounds[0], bounds[3] - bounds[1]\n",
    "                style_attrs.append('width:' + str(width))\n",
    "                style_attrs.append('height:' + str(height))\n",
    "            if style.get(STYLE_BACK_COLOR) and ui_comp.get('bg_color'):\n",
    "                style_attrs.append('bg_color:' + ui_comp.get('bg_color'))\n",
    "            if style.get(STYLE_FONT_COLOR) and ui_comp.get('text_color'):\n",
    "                style_attrs.append('text_color:' + ui_comp.get('text_color'))\n",
    "            if style.get(STYLE_FONT_SIZE) and ui_comp.get('font_size'):\n",
    "                style_attrs.append('font_size:' + str(int(ui_comp.get('font_size'))))\n",
    "            if style_attrs:\n",
    "                feat_str = feat_str + ' (' + ';'.join(style_attrs) + ')'\n",
    "            if to_lower:\n",
    "                feat_str = feat_str.lower()\n",
    "            if id:\n",
    "                feat_str = feat_str + ' (id=' + ui_comp.get('id').split('_')[1] + ')'\n",
    "            features.append((ui_comp.get('id'), feat_str, ui_comp.get('bounds')))\n",
    "        return {feat[0]: (feat[1], feat[2]) for feat in features}\n",
    "\n",
    "    def feat_method_html(gui, n, m, to_lower, quote, style):\n",
    "        features = []\n",
    "        for ui_comp in gui['ui_comps']:\n",
    "            uic_text = ui_comp.get('text').strip() if ui_comp.get('text') else ui_comp.get('text_updated').strip() if ui_comp.get('text_updated') else ''\n",
    "            html_comp = html_comp_mapping.get(get_refined_comp_type(ui_comp))\n",
    "            feat_str = html_comp[0]\n",
    "            if ui_comp.get('resource-id'):\n",
    "                feat_str += ' id=\"' + '-'.join(normalize_resource_id(ui_comp.get('resource-id')).split(' ')) + '\"'\n",
    "            style_attrs = []\n",
    "            if style.get(STYLE_SIZE):\n",
    "                bounds = ui_comp['bounds']\n",
    "                width, height = bounds[2] - bounds[0], bounds[3] - bounds[1]\n",
    "                style_attrs.append('width:' + str(width))\n",
    "                style_attrs.append('height:' + str(height))\n",
    "            if style.get(STYLE_BACK_COLOR) and ui_comp.get('bg_color'):\n",
    "                style_attrs.append('bg_color:' + ui_comp.get('bg_color'))\n",
    "            if style.get(STYLE_FONT_COLOR) and ui_comp.get('text_color'):\n",
    "                style_attrs.append('text_color:' + ui_comp.get('text_color'))\n",
    "            if style.get(STYLE_FONT_SIZE) and ui_comp.get('font_size'):\n",
    "                style_attrs.append('font_size:' + str(int(ui_comp.get('font_size'))))\n",
    "            if style_attrs:\n",
    "                feat_str = feat_str + ' style=\"' + ';'.join(style_attrs) + '\"'\n",
    "            feat_str += '>'\n",
    "            if ui_comp.get('componentLabel') == 'Icon':\n",
    "                icon_text = ' '.join(ui_comp.get('iconClass').split('_')).strip()\n",
    "                feat_str += icon_text\n",
    "            elif ui_comp.get('componentLabel') == 'Text Button':\n",
    "                if ui_comp.get('buttonClass'):\n",
    "                    button_text = ' '.join(ui_comp.get('buttonClass').split('_')).strip()\n",
    "                    feat_str += button_text\n",
    "                elif ui_comp.get('textButtonClass'):\n",
    "                    button_text = ' '.join(ui_comp.get('textButtonClass').split('_')).strip()\n",
    "                    feat_str += button_text\n",
    "                else:\n",
    "                    feat_str += uic_text\n",
    "            else:\n",
    "                if ui_comp.get('text'):\n",
    "                    feat_str += uic_text\n",
    "            feat_str += html_comp[1]\n",
    "            features.append((ui_comp.get('id'), feat_str))\n",
    "        if to_lower:\n",
    "            feat_str = feat_str.lower()\n",
    "        return {feat[0]: (feat[1], feat[2]) for feat in features}\n",
    "\n",
    "    def features_to_str(gui, feat_method, n, m, to_lower, quote, style, id):\n",
    "        if feat_method == FEAT_METHOD_TEXT_ONLY:\n",
    "            return feat_method_text_only(gui, n, m, to_lower, quote, style)\n",
    "        elif feat_method == FEAT_METHOD_TEXT_COMP_TYPE:\n",
    "            return feat_method_text_comp_type(gui, n, m, to_lower, quote, style)\n",
    "        elif feat_method == FEAT_METHOD_TEXT_COMP_TYPE_RES_ID:\n",
    "            return feat_method_text_comp_type_res_id(gui, n, m, to_lower, quote, style, id)\n",
    "        elif feat_method == FEAT_METHOD_HTML:\n",
    "            return feat_method_html(gui, n, m, to_lower, quote, style)\n",
    "\n",
    "    def filter_uic_groups(uic_groups):\n",
    "        filtered_uic_groups = []\n",
    "        # Sort ui comp group based on number of ui comps\n",
    "        uic_groups_sorted = sorted(uic_groups, key=lambda x: len(x['ui_comp_ids']), reverse=True)\n",
    "        for i, uic_group_1 in enumerate(uic_groups_sorted, 0):\n",
    "            subset_count = 0\n",
    "            for uic_group_2 in uic_groups_sorted[(i + 1):]:\n",
    "                if uic_group_1['id'] != uic_group_2['id']:\n",
    "                    if set(uic_group_2['ui_comp_ids']).issubset(uic_group_1['ui_comp_ids']):\n",
    "                        subset_count += 1\n",
    "            if subset_count == 0:\n",
    "                filtered_uic_groups.append(uic_group_1)\n",
    "        return filtered_uic_groups\n",
    "\n",
    "    def comp_in_uic(ui_comp_id, ui_comp_groups):\n",
    "        for uic in ui_comp_groups:\n",
    "            if ui_comp_id in uic.get('ui_comp_ids'):\n",
    "                return True\n",
    "        return False\n",
    "\n",
    "    def structure_to_str(gui, feat_mappings, struct_method, style):\n",
    "        gui_cpy = copy.deepcopy(gui)\n",
    "        gui_mapping = {elem['id']: elem for elem in gui['ui_comps']}\n",
    "        if struct_method == STRUCT_METHOD_SIMPLE_BULLETS:\n",
    "            return '\\n- ' + '\\n- '.join([elem for elem in feat_mappings.values()])\n",
    "        elif struct_method == STRUCT_METHOD_SIMPLE_BULLETS_SORTED:\n",
    "            uic_bounds = [(key, val, gui_mapping[key]['bounds']) for key, val in feat_mappings.items()]\n",
    "            uic_sorted = sorted(uic_bounds, key=lambda x: (x[2][1], x[2][0]))\n",
    "            return '\\n- ' + '\\n- '.join([elem[1] for elem in uic_sorted])\n",
    "        elif struct_method == STRUCT_METHOD_TWO_LEVEL_BULLETS or struct_method == STRUCT_METHOD_TWO_LEVEL_HTML:\n",
    "            uic_groups = gui_cpy['ui_comp_groups']\n",
    "            uic_groups = gui_cpy['ui_comp_groups']\n",
    "            single_ui_comps = [(ui_comp_id, vals[1]) for ui_comp_id, vals in feat_mappings.items()\n",
    "                               if not comp_in_uic(ui_comp_id, uic_groups)]\n",
    "            for elem in single_ui_comps:\n",
    "                uic_groups.append({\n",
    "                    \"componentLabel\": \"Layout\",\n",
    "                    \"bounds\": elem[1],\n",
    "                    \"class\": \"android.widget.LinearLayout\",\n",
    "                    \"bg_color\": \"#FFFFFF\",\n",
    "                    \"ui_comp_ids\": [elem[0]],\n",
    "                    'id': str(uuid.uuid4())\n",
    "                })\n",
    "            filtered_uic_groups = filter_uic_groups(uic_groups)\n",
    "            # Find remaining ui comp ids and add them again\n",
    "            filtered_ui_comp_ids = []\n",
    "            for fuic in filtered_uic_groups:\n",
    "                filtered_ui_comp_ids.extend(fuic['ui_comp_ids'])\n",
    "            filtered_ui_comp_ids = set(filtered_ui_comp_ids)\n",
    "            all_ui_comp_ids = set([elem['id'] for elem in gui_cpy['ui_comps']])\n",
    "            missing_ui_comp_ids = all_ui_comp_ids.difference(filtered_ui_comp_ids)\n",
    "            print('All ids: {}, matched: {}, missing: {}'.format(len(all_ui_comp_ids), len(filtered_ui_comp_ids),\n",
    "                                                                 len(missing_ui_comp_ids)))\n",
    "            print('Missing ui comp ids: {}'.format(missing_ui_comp_ids))\n",
    "            # For the missing ui comp ids, find the smallest ui comp group\n",
    "            uic_groups_sorted_len = sorted(uic_groups, key=lambda x: len(x['ui_comp_ids']), reverse=False)\n",
    "            matched_ui_comp_groups = {}\n",
    "            for miss_ui_comp_id in missing_ui_comp_ids:\n",
    "                for uic_group_len in uic_groups_sorted_len:\n",
    "                    if miss_ui_comp_id in uic_group_len['ui_comp_ids']:\n",
    "                        if uic_group_len['id'] in matched_ui_comp_groups:\n",
    "                            matched_ui_comp_groups[uic_group_len['id']]['ui_comp_ids'].append(miss_ui_comp_id)\n",
    "                            break\n",
    "                        else:\n",
    "                            matched_ui_comp_groups[uic_group_len['id']] = {\n",
    "                                \"componentLabel\": \"Layout\",\n",
    "                                \"bounds\": uic_group_len['bounds'],\n",
    "                                \"class\": \"android.widget.LinearLayout\",\n",
    "                                \"bg_color\": \"#FFFFFF\",\n",
    "                                \"ui_comp_ids\": [miss_ui_comp_id],\n",
    "                                'id': str(uuid.uuid4())\n",
    "                            }\n",
    "                            break\n",
    "            print('additionally matched ui comp groups')\n",
    "            print(matched_ui_comp_groups)\n",
    "            print([val for key, val in matched_ui_comp_groups.items()])\n",
    "            filtered_uic_groups.extend([val for key, val in matched_ui_comp_groups.items()])\n",
    "            uic_groups_sorted = sorted(filtered_uic_groups, key=lambda x: (x['bounds'][1], x['bounds'][0]))\n",
    "            feat_str = ''\n",
    "            for uic_group in uic_groups_sorted:\n",
    "                uic_group['ui_comp_ids'] = [(feat_mappings.get(idd)[0], gui_mapping.get(idd)) for idd in\n",
    "                                            uic_group['ui_comp_ids']]\n",
    "                uic_group['ui_comp_ids'] = sorted(uic_group['ui_comp_ids'],\n",
    "                                                  key=lambda x: (x[1]['bounds'][1], x[1]['bounds'][0]))\n",
    "                if struct_method == STRUCT_METHOD_TWO_LEVEL_BULLETS:\n",
    "                    feat_str += '- ' + uic_group.get('componentLabel')\n",
    "                    feat_str += '\\n\\t- ' + '\\n\\t- '.join([elem[0] for elem in uic_group['ui_comp_ids']]) + '\\n'\n",
    "                elif struct_method == STRUCT_METHOD_TWO_LEVEL_HTML:\n",
    "                    html_mapping = html_comp_group_mapping.get(uic_group.get('componentLabel'))\n",
    "                    feat_str += html_mapping[0]\n",
    "                    style_attrs = []\n",
    "                    feat_str += '>'\n",
    "                    feat_str += '\\n\\t' + '\\n\\t'.join([elem[0] for elem in uic_group['ui_comp_ids']]) + '\\n'\n",
    "                    feat_str += html_mapping[1] + '\\n'\n",
    "            return feat_str\n",
    "\n",
    "    def get_str_repr_gui(gui, n, m, to_lower, quote, style, id, feat_method, struct_method):\n",
    "        feat_mappings = features_to_str(gui, feat_method, n, m, to_lower, quote, style, id)\n",
    "        final_str = structure_to_str(gui, feat_mappings, struct_method, style)\n",
    "        return final_str\n"
   ]
  },
  {
   "cell_type": "code",
   "execution_count": 550,
   "id": "e3dc0486-c105-47d8-a550-41519b434c64",
   "metadata": {},
   "outputs": [],
   "source": [
    "gui = df_all_guis[df_all_guis['id'] == 12329]['data'].values.tolist()[0]"
   ]
  },
  {
   "cell_type": "code",
   "execution_count": 551,
   "id": "8da88a07-429e-46af-9b73-4d9c1629cbac",
   "metadata": {},
   "outputs": [
    {
     "name": "stdout",
     "output_type": "stream",
     "text": [
      "All ids: 25, matched: 22, missing: 3\n",
      "Missing ui comp ids: {'12329_16', '12329_17', '12329_18'}\n",
      "additionally matched ui comp groups\n",
      "{'12329_28': {'componentLabel': 'Layout', 'bounds': [0, 1387, 1440, 1726], 'class': 'android.widget.LinearLayout', 'bg_color': '#FFFFFF', 'ui_comp_ids': ['12329_16', '12329_17', '12329_18'], 'id': '13a2a655-9c8f-482c-b67e-f41c2c021f77'}}\n",
      "[{'componentLabel': 'Layout', 'bounds': [0, 1387, 1440, 1726], 'class': 'android.widget.LinearLayout', 'bg_color': '#FFFFFF', 'ui_comp_ids': ['12329_16', '12329_17', '12329_18'], 'id': '13a2a655-9c8f-482c-b67e-f41c2c021f77'}]\n"
     ]
    }
   ],
   "source": [
    "result = get_str_repr_gui(gui, n=30, m=30, to_lower=False, quote=True, style={}, id=True,\n",
    "                        feat_method=FEAT_METHOD_TEXT_COMP_TYPE_RES_ID,\n",
    "                        struct_method=STRUCT_METHOD_TWO_LEVEL_BULLETS)"
   ]
  },
  {
   "cell_type": "code",
   "execution_count": 552,
   "id": "c2629f79-2a4d-4f6d-98a1-96b2724282ec",
   "metadata": {},
   "outputs": [
    {
     "name": "stdout",
     "output_type": "stream",
     "text": [
      "- Toolbar\n",
      "\t- \"arrow backward\" (Icon) (id=23)\n",
      "\t- \"delete\" (Icon) (delete Item) (id=22)\n",
      "\t- \"Tuesday Morning Run\" (Label) (id=24)\n",
      "- Layout\n",
      "\t- \"December 6, 2016\" (Label) (left) (id=20)\n",
      "\t- \"10:28 AM\" (Label) (right) (id=19)\n",
      "- Layout\n",
      "\t- \"emoji\" (Icon) (map Privacy) (id=11)\n",
      "\t- (Image) (id=0)\n",
      "- Layout\n",
      "\t- \"0.00\" (Label) (distance) (id=8)\n",
      "\t- \"Mi\" (Button) (distance Unit) (id=7)\n",
      "- Layout\n",
      "\t- \"00:46\" (Label) (time) (id=6)\n",
      "\t- \"Duration\" (Button) (time Desc) (id=5)\n",
      "- Layout\n",
      "\t- \"0:00\" (Label) (avg) (id=4)\n",
      "\t- \"Min/mi\" (Button) (avg Desc) (id=3)\n",
      "- Layout\n",
      "\t- \"0\" (Label) (calories) (id=2)\n",
      "\t- \"Calories\" (Button) (calories Desc) (id=1)\n",
      "- Layout\n",
      "\t- \"description\" (Icon) (notes) (id=18)\n",
      "\t- \"Notes\" (Label) (notes Title) (id=17)\n",
      "\t- \"How did it go, Sam?\" (Text Input) (edit Notes) (id=16)\n",
      "- Layout\n",
      "\t- \"photo\" (Icon) (image) (id=9)\n",
      "\t- \"photo\" (Icon) (network Image) (id=10)\n",
      "- Layout\n",
      "\t- \"Share to Facebook\" (Label) (left) (id=15)\n",
      "\t- (Switch) (toggle Switch Compat) (id=14)\n",
      "- Layout\n",
      "\t- \"Share to Twitter\" (Label) (left) (id=13)\n",
      "\t- (Switch) (toggle Switch Compat) (id=12)\n",
      "- Layout\n",
      "\t- \"Save Activity\" (Button) (save) (id=21)\n",
      "\n"
     ]
    }
   ],
   "source": [
    "print(result)"
   ]
  },
  {
   "cell_type": "code",
   "execution_count": null,
   "id": "15cf2934-0257-41e3-99b3-9d81752857a2",
   "metadata": {},
   "outputs": [],
   "source": [
    "df_user_stories_and_rico['gui_abstraction'] = df_user_stories_and_rico.apply(lambda row: get_str_repr_gui(row['rico_json_upd'], n=30, m=30, to_lower=False, quote=True, style={},\n",
    "                        feat_method=FEAT_METHOD_TEXT_COMP_TYPE_RES_ID,\n",
    "                        struct_method=STRUCT_METHOD_TWO_LEVEL_BULLETS), axis=1)"
   ]
  },
  {
   "cell_type": "code",
   "execution_count": 962,
   "id": "ecefb39a-7a04-442a-974f-e928a06f70e2",
   "metadata": {},
   "outputs": [],
   "source": [
    "df_user_stories_and_rico.to_csv('data/user_stories/dataset/06_test_train_split_annotated/test_us_data_annotated.csv', index=False)"
   ]
  },
  {
   "cell_type": "code",
   "execution_count": null,
   "id": "cd4fe2f1-3a95-4d0c-94e9-f0711140a499",
   "metadata": {},
   "outputs": [],
   "source": [
    "df_user_stories_and_rico_train_set['gui_abstraction'] = df_user_stories_and_rico_train_set.apply(lambda row: get_str_repr_gui(row['rico_json_upd'], n=30, m=30, to_lower=False, quote=True, style={},\n",
    "                        feat_method=FEAT_METHOD_TEXT_COMP_TYPE_RES_ID,\n",
    "                        struct_method=STRUCT_METHOD_TWO_LEVEL_BULLETS), axis=1)"
   ]
  },
  {
   "cell_type": "code",
   "execution_count": 965,
   "id": "64b981e2-9d86-471a-8113-fbcc030f3664",
   "metadata": {},
   "outputs": [],
   "source": [
    "df_user_stories_and_rico_train_set.to_csv('data/user_stories/dataset/06_test_train_split_annotated/train_us_data_annotated.csv', index=False)"
   ]
  },
  {
   "cell_type": "code",
   "execution_count": 988,
   "id": "d9760a94-c552-4df7-9ccb-4825a5652347",
   "metadata": {},
   "outputs": [
    {
     "name": "stdout",
     "output_type": "stream",
     "text": [
      "- Toolbar\n",
      "\t- \"check\" (Icon) (done)\n",
      "\t- \"emoji\" (Icon) (home)\n",
      "\t- \"Preferences\" (Label) (title)\n",
      "\t- \"arrow backward\" (Icon) (up)\n",
      "- Layout\n",
      "\t- \"Preferences\" (Label) (title)\n",
      "- List Item\n",
      "\t- \"Show Update Reminder\" (Label) (title)\n",
      "\t- (Checkbox) ()\n",
      "\t- \"When there is a new version of Calorie Count on Google Play, a friendly reminder will pop up when you open the app.\" (Label) (summary)\n",
      "- List Item\n",
      "\t- \"Default Home Screen\" (Label) (title)\n",
      "\t- \"We strongly encourage you to participate in Calorie Camp. But you also have option to change your home screen.\" (Label) (summary)\n",
      "- Layout\n",
      "\t- \"Foog Log Setting\" (Label) (title)\n",
      "- List Item\n",
      "\t- \"Show Complete Day\" (Label) (title)\n",
      "\t- \"Making a day complete flags it as valid data point for our weekly and monthly analysis tool on the website (available on our website). Incomplete days are ignored.\" (Label) (summary)\n",
      "\t- (Checkbox) ()\n",
      "- List Item\n",
      "\t- \"Redirect to Calorie Camp\" (Label) (title)\n",
      "\t- (Checkbox) ()\n",
      "\t- \"Submitting a report to Calorie Camp allows you to earn points and badges, and to leave comments on your own days.\" (Label) (summary)\n",
      "- Layout\n",
      "\t- \"Social Networks\" (Label) (title)\n",
      "- List Item\n",
      "\t- \"facebook\" (Icon) ()\n",
      "\t- \"Facebook\" (Label) (title)\n",
      "\n"
     ]
    }
   ],
   "source": [
    "print(df_user_stories_and_rico.iloc[row_id]['gui_abstraction'])"
   ]
  },
  {
   "cell_type": "markdown",
   "id": "1fbe44d9-7599-41c4-bf4a-2dbf5c8ee803",
   "metadata": {},
   "source": [
    "# 2. LLM-GPT Completion API"
   ]
  },
  {
   "cell_type": "code",
   "execution_count": 61,
   "id": "e326c128-59d9-42ca-b838-698bbd2633cc",
   "metadata": {},
   "outputs": [],
   "source": [
    "from openai import OpenAI\n",
    "organization = \"\"\n",
    "api_key = \"\"\n",
    "client = OpenAI(api_key=api_key, organization=organization)"
   ]
  },
  {
   "cell_type": "code",
   "execution_count": 341,
   "id": "28a6c4bd-4b21-4f97-91d5-def05675e678",
   "metadata": {},
   "outputs": [],
   "source": [
    "def generate_completion(prompt, model='gpt-4', temp=0.75, n=1, max_tokens=15500, logprobs=True, top_logprobs=5, return_obj=True):\n",
    "    if logprobs:\n",
    "        chat_completion = client.chat.completions.create(\n",
    "              model=model,\n",
    "              messages=[\n",
    "                    {\"role\": \"user\", \"content\": prompt},\n",
    "                ],\n",
    "              temperature=temp,\n",
    "              n=n,\n",
    "              logprobs=logprobs,\n",
    "              top_logprobs=top_logprobs\n",
    "        )\n",
    "    else:\n",
    "        chat_completion = client.chat.completions.create(\n",
    "              model=model,\n",
    "              messages=[\n",
    "                    {\"role\": \"user\", \"content\": prompt},\n",
    "                ],\n",
    "              temperature=temp,\n",
    "              n=n,\n",
    "        )\n",
    "    return chat_completion if return_obj else [choice.message.content for choice in chat_completion.choices]"
   ]
  },
  {
   "cell_type": "markdown",
   "id": "8bac9774-bd73-4cb3-a809-e48da7ad31ea",
   "metadata": {},
   "source": [
    "# 3. User Story Implementation Detection"
   ]
  },
  {
   "cell_type": "markdown",
   "id": "22a09324-ca05-462e-80b9-5834c5708d81",
   "metadata": {},
   "source": [
    "## 3.1 Zero-Shot Prompting Template"
   ]
  },
  {
   "cell_type": "code",
   "execution_count": 332,
   "id": "d15c07a3-5691-468a-9ae6-c10b07e5b9bf",
   "metadata": {},
   "outputs": [],
   "source": [
    "PLACEHOLDER_US = 'PLACEHOLDER_US'\n",
    "PLACEHOLDER_GUI = 'PLACEHOLDER_GUI'\n",
    "PLACEHOLDER_IMPLEMENTED = '1'\n",
    "PLACEHOLDER_NOT_IMPLEMENTED = '0'"
   ]
  },
  {
   "cell_type": "code",
   "execution_count": 365,
   "id": "24369cbe-a9de-4ef6-8410-e6b10f77095f",
   "metadata": {},
   "outputs": [],
   "source": [
    "ZS_TEMPLATE_PRED = \"You are given a user story in the context of a graphical user interface. In addition to the user story, you are also given a textual representation of a graphical user interface. The GUI is organized as a two-level bullet point list, the outer points representing layouting groups and the inner points the user interface features contained in that layouting group. Each feature is represented in the following abstract pattern: 'text' (ui component type) (semantic description of ui component), the 'text' being the visual text of the component. Your task is to determine if the user story is already implemented in the given user interface or not. Do not provide any explanation. As your prediction, write '1' if the user story is already implemented otherwise write '0'. \\n\\nuser story: 'PLACEHOLDER_US' \\n\\ngraphical user interface description: PLACEHOLDER_GUI \\n\\nprediction:\""
   ]
  },
  {
   "cell_type": "code",
   "execution_count": 366,
   "id": "9cf346fd-df6f-4516-bd01-1bc1cff7d2e8",
   "metadata": {},
   "outputs": [
    {
     "name": "stdout",
     "output_type": "stream",
     "text": [
      "You are given a user story in the context of a graphical user interface. In addition to the user story, you are also given a textual representation of a graphical user interface. The GUI is organized as a two-level bullet point list, the outer points representing layouting groups and the inner points the user interface features contained in that layouting group. Each feature is represented in the following abstract pattern: 'text' (ui component type) (semantic description of ui component), the 'text' being the visual text of the component. Your task is to determine if the user story is already implemented in the given user interface or not. Do not provide any explanation. As your prediction, write '1' if the user story is already implemented otherwise write '0'. \n",
      "\n",
      "user story: 'PLACEHOLDER_US' \n",
      "\n",
      "graphical user interface description: PLACEHOLDER_GUI \n",
      "\n",
      "prediction:\n"
     ]
    }
   ],
   "source": [
    "print(ZS_TEMPLATE_PRED)"
   ]
  },
  {
   "cell_type": "code",
   "execution_count": 368,
   "id": "586a6234-8f95-4e94-aee5-8662973a445f",
   "metadata": {},
   "outputs": [],
   "source": [
    "test_prompt = ZS_TEMPLATE_PRED.replace(PLACEHOLDER_US, df_user_stories_and_rico.iloc[9]['user_story']).replace(PLACEHOLDER_GUI, df_user_stories_and_rico.iloc[row_id]['gui_abstraction'])"
   ]
  },
  {
   "cell_type": "code",
   "execution_count": 369,
   "id": "1b12f4bc-8b6b-4de2-9a76-57bea1131565",
   "metadata": {},
   "outputs": [
    {
     "name": "stdout",
     "output_type": "stream",
     "text": [
      "You are given a user story in the context of a graphical user interface. In addition to the user story, you are also given a textual representation of a graphical user interface. The GUI is organized as a two-level bullet point list, the outer points representing layouting groups and the inner points the user interface features contained in that layouting group. Each feature is represented in the following abstract pattern: 'text' (ui component type) (semantic description of ui component), the 'text' being the visual text of the component. Your task is to determine if the user story is already implemented in the given user interface or not. Do not provide any explanation. As your prediction, write '1' if the user story is already implemented otherwise write '0'. \n",
      "\n",
      "user story: 'As a busy professional, I want to quickly check the store hours of my nearest store so that i can plan my visit according to my schedule' \n",
      "\n",
      "graphical user interface description: - Toolbar\n",
      "\t- \"search\" (Icon) (search)\n",
      "\t- \"menu\" (Icon) (home)\n",
      "\t- \"cart\" (Icon) (cart imageview)\n",
      "\t- \"Store Results\" (Label) (title)\n",
      "- List Item\n",
      "\t- \"Stores Near\" (Label) (store locator stores near me caption)\n",
      "\t- (Image) (store locator map loader)\n",
      "\t- \"20 Stores\" (Label) (store locator store results)\n",
      "\t- \"Enter a Zip code, or City and State\" (Label)\n",
      "\t- \"Example: New York, NY -or- '12345'\" (Text Input) (storelocator location)\n",
      "\t- \"Find Stores\" (Button) (store locator find stores)\n",
      "- List Item\n",
      "\t- \"1.\" (Label) (storelocator item position)\n",
      "\t- \"SAN FRANCISCO,Store #6498\" (Button) (storelocator address line1)\n",
      "\t- \"arrow forward\" (Icon) (storelocator item navigator)\n",
      "\t- \"3700 GEARY BOULEVARD\" (Label) (storelocator address line2)\n",
      "\t- \"3.24 miles\" (Label) (storelocator mile)\n",
      "\t- \"SAN FRANCISCO, CA, 94118\" (Label) (storelocator citystatezip)\n",
      "\t- \"(415) 831-1080\" (Button) (storelocator phone contactinfo)\n",
      "\t- (Image) (storelocator brand logo)\n",
      "\t- \"Store Hours: 08:00AM-09:00PM\" (Label) (storelocator storehours)\n",
      "\t- \"Set as My Store\" (Button) (storelocator setasmystore)\n",
      "\t- \"View Weekly Ads\" (Button) (storelocator weeklyads)\n",
      "- List Item\n",
      "\t- \"2.\" (Label) (storelocator item position)\n",
      "\t- \"SAN FRANCISCO,Store #6368\" (Button) (storelocator address line1)\n",
      "\t- \"arrow forward\" (Icon) (storelocator item navigator)\n",
      "\t- \"1750 HARRISON STREET\" (Label) (storelocator address line2)\n",
      "\t- \"3.52 miles\" (Label) (storelocator mile)\n",
      "\t- \"SAN FRANCISCO, CA, 94103\" (Label) (storelocator citystatezip)\n",
      "\t- \"(415) 252-7611\" (Button) (storelocator phone contactinfo)\n",
      "\t- (Image) (storelocator brand logo)\n",
      "\t- \"Store Hours: 08:00AM-09:00PM\" (Label) (storelocator storehours)\n",
      "\t- \"Set as My Store\" (Button) (storelocator setasmystore)\n",
      "\t- \"View Weekly Ads\" (Button) (storelocator weeklyads)\n",
      " \n",
      "\n",
      "prediction:\n"
     ]
    }
   ],
   "source": [
    "print(test_prompt)"
   ]
  },
  {
   "cell_type": "code",
   "execution_count": 370,
   "id": "cf062afe-a234-43e7-869a-efb7e475aef7",
   "metadata": {},
   "outputs": [],
   "source": [
    "df_user_stories_and_rico['zero_shot_prompt'] = df_user_stories_and_rico.apply(lambda row: ZS_TEMPLATE_PRED.replace(PLACEHOLDER_US, row['user_story']).replace(PLACEHOLDER_GUI,row['gui_abstraction']), axis=1)\n",
    "df_user_stories_and_rico['zero_shot_completion'] = df_user_stories_and_rico.apply(lambda row: generate_completion(row['zero_shot_prompt'], model='gpt-4', temp=0), axis=1)\n",
    "df_user_stories_and_rico['zero_shot_prediction'] = df_user_stories_and_rico.apply(lambda row: 1 if [choice.message.content for choice in row['zero_shot_completion'].choices][0] == PLACEHOLDER_IMPLEMENTED else 0, axis=1)\n",
    "df_user_stories_and_rico['zero_shot_prediction_prob_0'] = df_user_stories_and_rico.apply(lambda row: [np.exp(top_log_prob.logprob) for top_log_prob in row['zero_shot_completion'].choices[0].logprobs.content[0].top_logprobs if '0' in top_log_prob.token][0], axis=1)\n",
    "df_user_stories_and_rico['zero_shot_prediction_prob_1'] = df_user_stories_and_rico.apply(lambda row: [np.exp(top_log_prob.logprob) for top_log_prob in row['zero_shot_completion'].choices[0].logprobs.content[0].top_logprobs if '1' in top_log_prob.token][0], axis=1)"
   ]
  },
  {
   "cell_type": "markdown",
   "id": "9abb5819-f635-4393-bd3f-fff2c71d65ac",
   "metadata": {},
   "source": [
    "## 3.2 Chain-of-Thought Prompting Template"
   ]
  },
  {
   "cell_type": "code",
   "execution_count": 423,
   "id": "78dd3180-4820-488e-b06e-859bcf26ae6f",
   "metadata": {},
   "outputs": [],
   "source": [
    "PLACEHOLDER_SPLITTER = 'prediction'"
   ]
  },
  {
   "cell_type": "code",
   "execution_count": 424,
   "id": "949e6adc-232c-4b5c-bcca-c1c709d5b030",
   "metadata": {},
   "outputs": [],
   "source": [
    "COT_TEMPLATE_PRED = \"You are given a user story in the context of a graphical user interface. In addition to the user story, you are also given a textual representation of a graphical user interface. The GUI is organized as a two-level bullet point list, the outer points representing layouting groups and the inner points the user interface features contained in that layouting group. Each feature is represented in the following abstract pattern: 'text' (ui component type) (semantic description of ui component), the 'text' being the visual text of the component. Your task is to determine if the user story is already implemented in the given user interface or not. As your prediction, first write *prediction*: followed by '1' if the user story is already implemented otherwise write '0'.  \\n\\nuser story: 'PLACEHOLDER_US' \\n\\ngraphical user interface description: PLACEHOLDER_GUI \\n\\nLet's think step by step\""
   ]
  },
  {
   "cell_type": "code",
   "execution_count": 425,
   "id": "c8c173d5-6a26-413f-abc8-a4bff8f54e52",
   "metadata": {},
   "outputs": [
    {
     "name": "stdout",
     "output_type": "stream",
     "text": [
      "You are given a user story in the context of a graphical user interface. In addition to the user story, you are also given a textual representation of a graphical user interface. The GUI is organized as a two-level bullet point list, the outer points representing layouting groups and the inner points the user interface features contained in that layouting group. Each feature is represented in the following abstract pattern: 'text' (ui component type) (semantic description of ui component), the 'text' being the visual text of the component. Your task is to determine if the user story is already implemented in the given user interface or not. As your prediction, first write *prediction*: followed by '1' if the user story is already implemented otherwise write '0'.  \n",
      "\n",
      "user story: 'PLACEHOLDER_US' \n",
      "\n",
      "graphical user interface description: PLACEHOLDER_GUI \n",
      "\n",
      "Let's think step by step\n"
     ]
    }
   ],
   "source": [
    "print(COT_TEMPLATE_PRED)"
   ]
  },
  {
   "cell_type": "code",
   "execution_count": 429,
   "id": "afd2694e-241f-4671-b186-64153eae9202",
   "metadata": {},
   "outputs": [],
   "source": [
    "df_user_stories_and_rico['cot_prompt'] = df_user_stories_and_rico.apply(lambda row: COT_TEMPLATE_PRED.replace(PLACEHOLDER_US, row['user_story']).replace(PLACEHOLDER_GUI,row['gui_abstraction']), axis=1)\n",
    "df_user_stories_and_rico['cot_t0_completion'] = df_user_stories_and_rico.apply(lambda row: generate_completion(row['cot_prompt'], model='gpt-4', temp=0), axis=1)\n",
    "df_user_stories_and_rico['cot_t0_prediction'] = df_user_stories_and_rico.apply(lambda row: 0 if '0' in [choice.message.content for choice in row['cot_t0_completion'].choices][0].lower().split(PLACEHOLDER_SPLITTER)[1].strip() else 1, axis=1)"
   ]
  },
  {
   "cell_type": "code",
   "execution_count": 444,
   "id": "8376c2d5-436f-404c-9461-4ed22118e68c",
   "metadata": {},
   "outputs": [],
   "source": [
    "def get_probs_from_cot_completion(completion, clazz):\n",
    "    token_list = completion.choices[0].logprobs.content\n",
    "    final_token = token_list[len(token_list)-1].top_logprobs\n",
    "    match_prob = [np.exp(top_log_prob.logprob) for top_log_prob in final_token if clazz in top_log_prob.token]\n",
    "    return match_prob[0] if match_prob else 0"
   ]
  },
  {
   "cell_type": "code",
   "execution_count": 445,
   "id": "c7e04fbe-412f-4b08-bfda-498a548324ed",
   "metadata": {},
   "outputs": [],
   "source": [
    "df_user_stories_and_rico['cot_t0_prediction_prob_0'] = df_user_stories_and_rico.apply(lambda row: get_probs_from_cot_completion(row['cot_t0_completion'], '0'), axis=1)\n",
    "df_user_stories_and_rico['cot_t0_prediction_prob_1'] = df_user_stories_and_rico.apply(lambda row: get_probs_from_cot_completion(row['cot_t0_completion'], '1'), axis=1)\n",
    "df_user_stories_and_rico['cot_t0_explanation'] = df_user_stories_and_rico.apply(lambda row: [choice.message.content for choice in row['cot_t0_completion'].choices][0].lower().split(PLACEHOLDER_SPLITTER)[0].strip().replace('\\n', '').replace('*', ''), axis=1)"
   ]
  },
  {
   "cell_type": "code",
   "execution_count": null,
   "id": "324cb189-a159-4de9-a070-721821394449",
   "metadata": {},
   "outputs": [],
   "source": [
    "df_user_stories_and_rico['cot_t05_completion'] = df_user_stories_and_rico.apply(lambda row: generate_completion(row['cot_prompt'], model='gpt-4', temp=0.5), axis=1)\n",
    "df_user_stories_and_rico['cot_t05_prediction'] = df_user_stories_and_rico.apply(lambda row: 0 if '0' in [choice.message.content for choice in row['cot_t05_completion'].choices][0].lower().split(PLACEHOLDER_SPLITTER)[1].strip() else 1, axis=1)\n",
    "df_user_stories_and_rico['cot_t05_prediction_prob_0'] = df_user_stories_and_rico.apply(lambda row: get_probs_from_cot_completion(row['cot_t05_completion'], '0'), axis=1)\n",
    "df_user_stories_and_rico['cot_t05_prediction_prob_1'] = df_user_stories_and_rico.apply(lambda row: get_probs_from_cot_completion(row['cot_t05_completion'], '1'), axis=1)\n",
    "df_user_stories_and_rico['cot_t05_explanation'] = df_user_stories_and_rico.apply(lambda row: [choice.message.content for choice in row['cot_t05_completion'].choices][0].lower().split(PLACEHOLDER_SPLITTER)[0].strip().replace('\\n', '').replace('*', ''), axis=1)"
   ]
  },
  {
   "cell_type": "code",
   "execution_count": null,
   "id": "6a40980d-e681-4330-9dc7-c335fa260d68",
   "metadata": {},
   "outputs": [],
   "source": [
    "df_user_stories_and_rico['cot_t1_completion'] = df_user_stories_and_rico.apply(lambda row: generate_completion(row['cot_prompt'], model='gpt-4', temp=1), axis=1)\n",
    "df_user_stories_and_rico['cot_t1_prediction'] = df_user_stories_and_rico.apply(lambda row: 0 if '0' in [choice.message.content for choice in row['cot_t1_completion'].choices][0].lower().split(PLACEHOLDER_SPLITTER)[1].strip() else 1, axis=1)\n",
    "df_user_stories_and_rico['cot_t1_prediction_prob_0'] = df_user_stories_and_rico.apply(lambda row: get_probs_from_cot_completion(row['cot_t1_completion'], '0'), axis=1)\n",
    "df_user_stories_and_rico['cot_t1_prediction_prob_1'] = df_user_stories_and_rico.apply(lambda row: get_probs_from_cot_completion(row['cot_t1_completion'], '1'), axis=1)\n",
    "df_user_stories_and_rico['cot_t1_explanation'] = df_user_stories_and_rico.apply(lambda row: [choice.message.content for choice in row['cot_t1_completion'].choices][0].lower().split(PLACEHOLDER_SPLITTER)[0].strip().replace('\\n', '').replace('*', ''), axis=1)"
   ]
  },
  {
   "cell_type": "code",
   "execution_count": null,
   "id": "eef39154-b959-4c08-8901-4ca8567fb451",
   "metadata": {},
   "outputs": [],
   "source": [
    "df_user_stories_and_rico['cot_t13_completion'] = df_user_stories_and_rico.apply(lambda row: generate_completion(row['cot_prompt'], model='gpt-4', max_tokens=1000, temp=1.3), axis=1)"
   ]
  },
  {
   "cell_type": "code",
   "execution_count": 497,
   "id": "e5dd8beb-8d28-4feb-ac77-9f34cef09dcb",
   "metadata": {},
   "outputs": [],
   "source": [
    "def get_cot_13_prediction(rico_id, completion):\n",
    "    try:\n",
    "        return 0 if '0' in [choice.message.content for choice in completion.choices][0].lower().split(PLACEHOLDER_SPLITTER)[1].strip() else 1\n",
    "    except:\n",
    "        print(rico_id)\n",
    "        return 0"
   ]
  },
  {
   "cell_type": "code",
   "execution_count": null,
   "id": "66c98882-8887-4635-8802-5433d6c18aa1",
   "metadata": {},
   "outputs": [],
   "source": [
    "df_user_stories_and_rico['cot_t13_prediction'] = df_user_stories_and_rico.apply(lambda row: get_cot_13_prediction(row['rico_id'], row['cot_t13_completion']), axis=1)\n",
    "df_user_stories_and_rico['cot_t13_prediction_prob_0'] = df_user_stories_and_rico.apply(lambda row: get_probs_from_cot_completion(row['cot_t13_completion'], '0'), axis=1)\n",
    "df_user_stories_and_rico['cot_t13_prediction_prob_1'] = df_user_stories_and_rico.apply(lambda row: get_probs_from_cot_completion(row['cot_t13_completion'], '1'), axis=1)\n",
    "df_user_stories_and_rico['cot_t13_explanation'] = df_user_stories_and_rico.apply(lambda row: [choice.message.content for choice in row['cot_t13_completion'].choices][0].lower().split(PLACEHOLDER_SPLITTER)[0].strip().replace('\\n', '').replace('*', ''), axis=1)"
   ]
  },
  {
   "cell_type": "markdown",
   "id": "e6cf7971-cabd-44b6-bfcc-49d87fcf9438",
   "metadata": {},
   "source": [
    "## 3.3 Few-Shot Prompting Template"
   ]
  },
  {
   "cell_type": "code",
   "execution_count": 383,
   "id": "75689c46-5e61-4c52-af18-79f16e3ccbca",
   "metadata": {},
   "outputs": [],
   "source": [
    "PLACEHOLDER_FS_EXAMPLES = 'PLACEHOLDER_FS_EXAMPLES'\n",
    "PLACEHOLDER_PREDICTION = 'PLACEHOLDER_PREDICTION'"
   ]
  },
  {
   "cell_type": "code",
   "execution_count": 388,
   "id": "6b045ba0-0daf-4d5c-9215-714c6c331462",
   "metadata": {},
   "outputs": [],
   "source": [
    "FS_TEMPLATE_PRED = \"You are given a user story in the context of a graphical user interface. In addition to the user story, you are also given a textual representation of a graphical user interface. The GUI is organized as a two-level bullet point list, the outer points representing layouting groups and the inner points the user interface features contained in that layouting group. Each feature is represented in the following abstract pattern: 'text' (ui component type) (semantic description of ui component), the 'text' being the visual text of the component. Your task is to determine if the user story is already implemented in the given user interface or not. Do not provide any explanation. As your prediction, write '1' if the user story is already implemented otherwise write '0'. PLACEHOLDER_FS_EXAMPLES \\n\\nuser story: 'PLACEHOLDER_US' \\n\\ngraphical user interface description: PLACEHOLDER_GUI \\n\\nprediction:\""
   ]
  },
  {
   "cell_type": "code",
   "execution_count": 389,
   "id": "19a99cc9-ac1f-4545-97e5-ecaa8a7badbb",
   "metadata": {},
   "outputs": [],
   "source": [
    "few_shot_example_templates = []\n",
    "curr_few_shot_examples = \"\"\n",
    "for index, row in df_user_stories_and_rico_train_set.iterrows():\n",
    "    curr_example = \"\\n\\nuser story: 'PLACEHOLDER_US' \\n\\ngraphical user interface description: PLACEHOLDER_GUI \\n\\nprediction:PLACEHOLDER_PREDICTION\"\n",
    "    prediction = '1' if row['label'] == 1 else '0'\n",
    "    curr_example = curr_example.replace(PLACEHOLDER_US, row['user_story']).replace(PLACEHOLDER_GUI, row['gui_abstraction']).replace(PLACEHOLDER_PREDICTION, prediction)\n",
    "    curr_few_shot_examples += curr_example\n",
    "    if (index+1)%5==0:\n",
    "        fs_template_example = FS_TEMPLATE_PRED.replace(PLACEHOLDER_FS_EXAMPLES, curr_few_shot_examples)\n",
    "        few_shot_example_templates.append(fs_template_example)\n",
    "        with open('data/user_stories/dataset/few_shot_prompts/few_shot_prompt_'+str((index+1))+'.txt', \"w\") as file:\n",
    "            file.write(fs_template_example)"
   ]
  },
  {
   "cell_type": "code",
   "execution_count": 394,
   "id": "7e371bb0-20e3-4e7b-9273-021e00fcf009",
   "metadata": {},
   "outputs": [],
   "source": [
    "df_user_stories_and_rico['few_shot_prompt_5'] = df_user_stories_and_rico.apply(lambda row: few_shot_example_templates[0].replace(PLACEHOLDER_US, row['user_story']).replace(PLACEHOLDER_GUI,row['gui_abstraction']), axis=1\n",
    "df_user_stories_and_rico['few_shot_5_completion'] = df_user_stories_and_rico.apply(lambda row: generate_completion(row['few_shot_prompt_5'], model='gpt-4', temp=0), axis=1)\n",
    "df_user_stories_and_rico['few_shot_5_prediction'] = df_user_stories_and_rico.apply(lambda row: 1 if [choice.message.content for choice in row['few_shot_5_completion'].choices][0] == PLACEHOLDER_IMPLEMENTED else 0, axis=1)\n",
    "df_user_stories_and_rico['few_shot_5_prediction_prob_0'] = df_user_stories_and_rico.apply(lambda row: [np.exp(top_log_prob.logprob) for top_log_prob in row['few_shot_5_completion'].choices[0].logprobs.content[0].top_logprobs if '0' in top_log_prob.token][0], axis=1)\n",
    "df_user_stories_and_rico['few_shot_5_prediction_prob_1'] = df_user_stories_and_rico.apply(lambda row: [np.exp(top_log_prob.logprob) for top_log_prob in row['few_shot_5_completion'].choices[0].logprobs.content[0].top_logprobs if '1' in top_log_prob.token][0], axis=1)"
   ]
  },
  {
   "cell_type": "code",
   "execution_count": 411,
   "id": "19085ebc-f279-4f8f-b669-db31b6c6a761",
   "metadata": {},
   "outputs": [],
   "source": [
    "df_user_stories_and_rico['few_shot_prompt_10'] = df_user_stories_and_rico.apply(lambda row: few_shot_example_templates[1].replace(PLACEHOLDER_US, row['user_story']).replace(PLACEHOLDER_GUI,row['gui_abstraction']), axis=1)\n",
    "df_user_stories_and_rico['few_shot_10_completion'] = df_user_stories_and_rico.apply(lambda row: generate_completion(row['few_shot_prompt_10'], model='gpt-4', temp=0), axis=1)\n",
    "df_user_stories_and_rico['few_shot_10_prediction'] = df_user_stories_and_rico.apply(lambda row: 1 if [choice.message.content for choice in row['few_shot_10_completion'].choices][0] == PLACEHOLDER_IMPLEMENTED else 0, axis=1)\n",
    "df_user_stories_and_rico['few_shot_10_prediction_prob_0'] = df_user_stories_and_rico.apply(lambda row: [np.exp(top_log_prob.logprob) for top_log_prob in row['few_shot_10_completion'].choices[0].logprobs.content[0].top_logprobs if '0' in top_log_prob.token][0], axis=1)\n",
    "df_user_stories_and_rico['few_shot_10_prediction_prob_1'] = df_user_stories_and_rico.apply(lambda row: [np.exp(top_log_prob.logprob) for top_log_prob in row['few_shot_10_completion'].choices[0].logprobs.content[0].top_logprobs if '1' in top_log_prob.token][0], axis=1)"
   ]
  },
  {
   "cell_type": "markdown",
   "id": "558f29f2-59fd-4f1a-95bd-e26c630ac757",
   "metadata": {},
   "source": [
    "## 3.4 Evaluation"
   ]
  },
  {
   "cell_type": "code",
   "execution_count": 31,
   "id": "c5814daa-d1d6-4706-8fd7-055ffc878f09",
   "metadata": {},
   "outputs": [],
   "source": [
    "from typing import Text, Callable\n",
    "\n",
    "class Metric(object):\n",
    "\n",
    "    def __init__(self, func: Callable, name: Text):\n",
    "        self.func = func\n",
    "        self.name = name"
   ]
  },
  {
   "cell_type": "code",
   "execution_count": 32,
   "id": "eec0a973-1114-43f3-88b8-1f8f924b4cb3",
   "metadata": {},
   "outputs": [],
   "source": [
    "from sklearn.metrics import precision_score, recall_score, f1_score, accuracy_score\n",
    "\n",
    "# Precision metric for class 1 (implemented)\n",
    "precision_1 = lambda y_true, y_pred: precision_score(y_true, y_pred, pos_label=1) \n",
    "metric_precision_1 = Metric(func=precision_1, name='Precision_1')\n",
    "# Precision metric for class 0 (not implemented)\n",
    "precision_0 = lambda y_true, y_pred: precision_score(y_true, y_pred, pos_label=0) \n",
    "metric_precision_0 = Metric(func=precision_0, name='Precision_0')\n",
    "# Recall metric for class 1 (implemented)\n",
    "recall_1 = lambda y_true, y_pred: recall_score(y_true, y_pred, pos_label=1) \n",
    "metric_recall_1 = Metric(func=recall_1, name='Recall_1')\n",
    "# Recall metric for class 0 (not implemented)\n",
    "recall_0 = lambda y_true, y_pred: recall_score(y_true, y_pred, pos_label=0) \n",
    "metric_recall_0 = Metric(func=recall_0, name='Recall_0')\n",
    "# F1-score metric for class 1 (implemented)\n",
    "f1_1 = lambda y_true, y_pred: f1_score(y_true, y_pred, pos_label=1) \n",
    "metric_f1_1 = Metric(func=f1_1, name='F1_1')\n",
    "# F1-score metric for class 0 (not implemented)\n",
    "f1_0 = lambda y_true, y_pred: f1_score(y_true, y_pred, pos_label=0) \n",
    "metric_f1_0 = Metric(func=f1_0, name='F1_0')\n",
    "accuracy = lambda y_true, y_pred: accuracy_score(y_true, y_pred) \n",
    "metric_accuracy = Metric(func=accuracy, name='Acc.')"
   ]
  },
  {
   "cell_type": "code",
   "execution_count": 519,
   "id": "ead77f9c-190a-4287-8808-ef1b365535b7",
   "metadata": {},
   "outputs": [],
   "source": [
    "def compute_results(y_true, y_pred, metrics, method_name, digits=3, delimiter='|'):\n",
    "    results = [method_name]\n",
    "    for metric in metrics:\n",
    "        metric_val = round(metric.func(y_true, y_pred), digits)\n",
    "        metric_val = '.' + str(metric_val).split('.')[1]  if metric_val < 1.0 else '1.0'\n",
    "        results.append(delimiter+str(metric_val))\n",
    "    return results"
   ]
  },
  {
   "cell_type": "code",
   "execution_count": 520,
   "id": "e4a63d57-422d-460b-addd-418d89c3e7c1",
   "metadata": {},
   "outputs": [],
   "source": [
    "result_table = []"
   ]
  },
  {
   "cell_type": "code",
   "execution_count": 521,
   "id": "cfce7b78-5b2d-4576-968a-da40d5609327",
   "metadata": {},
   "outputs": [],
   "source": [
    "# All metrics used for the evaluation of the us prediction problem\n",
    "metrics = [metric_precision_1, metric_recall_1, metric_f1_1, metric_precision_0, metric_recall_0,  metric_f1_0, metric_accuracy]"
   ]
  },
  {
   "cell_type": "code",
   "execution_count": 522,
   "id": "70796bc1-cd86-49a9-a35d-3023498f8aac",
   "metadata": {},
   "outputs": [],
   "source": [
    "# Obtain the true label for the predictions\n",
    "y_true = df_user_stories_and_rico['label'].values.tolist()"
   ]
  },
  {
   "cell_type": "code",
   "execution_count": 524,
   "id": "5e4ca902-9f5d-4f51-b1a7-1cb73fe7b7e6",
   "metadata": {},
   "outputs": [],
   "source": [
    "models = [ ('zero_shot_prediction', 'zero_shot'), ('few_shot_5_prediction', 'few_shot_5'), ('few_shot_10_prediction', 'few_shot_10'),\n",
    "         ('cot_t0_prediction', 'cot_t0'), ('cot_t05_prediction', 'cot_t05'), ('cot_t1_prediction', 'cot_t1'), ('cot_t13_prediction', 'cot_13')]"
   ]
  },
  {
   "cell_type": "code",
   "execution_count": 525,
   "id": "9d4a94cb-cff1-4b43-b0d3-1209d477d078",
   "metadata": {},
   "outputs": [],
   "source": [
    "for model in models:\n",
    "    y_pred_model = df_user_stories_and_rico[model[0]].values.tolist()\n",
    "    results_model = compute_results(y_true, y_pred_model, metrics, model[1], delimiter='&')\n",
    "    result_table.append(results_model) "
   ]
  },
  {
   "cell_type": "code",
   "execution_count": 526,
   "id": "56c36593-8e60-4c43-b241-605fd324b2d3",
   "metadata": {},
   "outputs": [
    {
     "name": "stdout",
     "output_type": "stream",
     "text": [
      "method       Precision_1    Recall_1    F1_1    Precision_0    Recall_0    F1_0    Acc.\n",
      "-----------  -------------  ----------  ------  -------------  ----------  ------  ------\n",
      "zero_shot    &.83           &.886       &.857   &.878          &.819       &.847   &.852\n",
      "few_shot_5   &.829          &.876       &.852   &.869          &.819       &.843   &.848\n",
      "few_shot_10  &.818          &.857       &.837   &.85           &.81        &.829   &.833\n",
      "cot_t0       &.9            &.686       &.778   &.746          &.924       &.826   &.805\n",
      "cot_t05      &.888          &.676       &.768   &.738          &.914       &.817   &.795\n",
      "cot_t1       &.888          &.752       &.814   &.785          &.905       &.841   &.829\n",
      "cot_13       &.812          &.743       &.776   &.763          &.829       &.795   &.786\n"
     ]
    }
   ],
   "source": [
    "# Construct the final table of the overall results\n",
    "header = ['method']\n",
    "header.extend([metric.name for metric in metrics])\n",
    "tabulated_table = tabulate(tabular_data=result_table, headers=header)\n",
    "print(tabulated_table)"
   ]
  },
  {
   "cell_type": "code",
   "execution_count": 9,
   "id": "664ea287-24a3-456b-b756-09f5620e216d",
   "metadata": {},
   "outputs": [],
   "source": [
    "from mlxtend.evaluate import mcnemar_table\n",
    "from mlxtend.evaluate import mcnemar\n",
    "\n",
    "def compute_mc_nemar(model_1, model_2, dataset):\n",
    "    # The correct target (class) labels\n",
    "    y_target = np.array(df_user_stories_and_rico['label'].values.tolist())\n",
    "    \n",
    "    # Class labels predicted by model 1\n",
    "    y_model1 = np.array(df_user_stories_and_rico[model_1].values.tolist())\n",
    "    \n",
    "    # Class labels predicted by model 2\n",
    "    y_model2 = np.array(df_user_stories_and_rico[model_2].values.tolist())\n",
    "    \n",
    "    tb = mcnemar_table(y_target=y_target, \n",
    "                       y_model1=y_model1, \n",
    "                       y_model2=y_model2)\n",
    "    chi2, p = mcnemar(ary=tb, corrected=True)\n",
    "    print('chi-squared:', chi2)\n",
    "    print('p-value:', p)"
   ]
  },
  {
   "cell_type": "code",
   "execution_count": 11,
   "id": "013059e8-3adc-431f-859f-e658747e693a",
   "metadata": {},
   "outputs": [
    {
     "name": "stdout",
     "output_type": "stream",
     "text": [
      "chi-squared: 0.0\n",
      "p-value: 1.0\n"
     ]
    }
   ],
   "source": [
    "compute_mc_nemar('zero_shot_prediction', 'few_shot_5_prediction', df_user_stories_and_rico)"
   ]
  },
  {
   "cell_type": "code",
   "execution_count": 12,
   "id": "e0da9c6c-18de-45bb-b864-c2f0273f6372",
   "metadata": {},
   "outputs": [
    {
     "name": "stdout",
     "output_type": "stream",
     "text": [
      "chi-squared: 0.5925925925925926\n",
      "p-value: 0.4414183267820536\n"
     ]
    }
   ],
   "source": [
    "compute_mc_nemar('zero_shot_prediction', 'cot_t1_prediction', df_user_stories_and_rico)"
   ]
  },
  {
   "cell_type": "code",
   "execution_count": 13,
   "id": "3aa304b8-5e6e-43ff-8e36-761f1e59b7a5",
   "metadata": {},
   "outputs": [
    {
     "name": "stdout",
     "output_type": "stream",
     "text": [
      "chi-squared: 0.5714285714285714\n",
      "p-value: 0.4496917979688908\n"
     ]
    }
   ],
   "source": [
    "compute_mc_nemar('few_shot_5_prediction', 'few_shot_10_prediction', df_user_stories_and_rico)"
   ]
  },
  {
   "cell_type": "code",
   "execution_count": 14,
   "id": "261e71db-e38a-49c9-9c47-596f52483a77",
   "metadata": {},
   "outputs": [
    {
     "name": "stdout",
     "output_type": "stream",
     "text": [
      "chi-squared: 0.32142857142857145\n",
      "p-value: 0.5707503880581739\n"
     ]
    }
   ],
   "source": [
    "compute_mc_nemar('few_shot_5_prediction', 'cot_t1_prediction', df_user_stories_and_rico)"
   ]
  },
  {
   "cell_type": "code",
   "execution_count": 10,
   "id": "51017ff8-b28d-4001-82e9-8ff35603816c",
   "metadata": {},
   "outputs": [
    {
     "name": "stdout",
     "output_type": "stream",
     "text": [
      "chi-squared: 1.8285714285714285\n",
      "p-value: 0.17629637444050728\n"
     ]
    }
   ],
   "source": [
    "compute_mc_nemar('cot_t1_prediction', 'cot_t13_prediction', df_user_stories_and_rico)"
   ]
  },
  {
   "cell_type": "code",
   "execution_count": 829,
   "id": "a16164a4-08f9-499f-8f8e-7c11e5175e7a",
   "metadata": {},
   "outputs": [],
   "source": [
    "df_user_stories_and_rico[['rico_id', 'user_story', 'comp_ids', 'label',\n",
    "                          'zero_shot_prediction', 'zero_shot_prediction_prob_0', 'zero_shot_prediction_prob_1',\n",
    "                          'few_shot_5_prediction', 'few_shot_5_prediction_prob_0', 'few_shot_5_prediction_prob_1',\n",
    "                          'few_shot_10_prediction', 'few_shot_10_prediction_prob_0', 'few_shot_10_prediction_prob_1',\n",
    "                          'cot_t0_prediction', 'cot_t0_prediction_prob_0', 'cot_t0_prediction_prob_1', 'cot_t0_explanation',\n",
    "                          'cot_t05_prediction', 'cot_t05_prediction_prob_0', 'cot_t05_prediction_prob_1', 'cot_t05_explanation',\n",
    "                          'cot_t1_prediction', 'cot_t1_prediction_prob_0', 'cot_t1_prediction_prob_1', 'cot_t1_explanation',\n",
    "                          'cot_t13_prediction', 'cot_t13_prediction_prob_0', 'cot_t13_prediction_prob_1', 'cot_t13_explanation',\n",
    "                          'gui_abstraction'\n",
    "                         ]].to_csv('data/user_stories/dataset/04_test_results_detection/test_us_data_results_detection.csv', index=False)"
   ]
  },
  {
   "cell_type": "markdown",
   "id": "44eec84c-6454-44be-aa98-72861db36dc5",
   "metadata": {},
   "source": [
    "# 4. User Story Implementation Recommendation"
   ]
  },
  {
   "cell_type": "code",
   "execution_count": null,
   "id": "c35fabe0-24c7-4fe3-9456-a32c14fb462a",
   "metadata": {},
   "outputs": [],
   "source": [
    "df_user_stories_and_rico_rec = pd.read_csv('data/user_stories/dataset/05_test_train_split/test_us_data_label.csv')\n",
    "df_user_stories_and_rico_rec.drop('label', axis=1, inplace=True)\n",
    "df_user_stories_and_rico_rec['comp_ids'] = df_user_stories_and_rico_rec['comp_ids'].apply(ast.literal_eval)\n",
    "df_user_stories_and_rico_rec['rico_json_ori'] = df_user_stories_and_rico_rec.apply(lambda row: copy.deepcopy(df_all_guis[df_all_guis['id'] == int(row['rico_id'])]['data'].values.tolist()[0]), axis=1)\n",
    "df_user_stories_and_rico_rec['rico_json_upd'] = df_user_stories_and_rico_rec.apply(lambda row: remove_comps(copy.deepcopy(row['rico_json_ori']), row['comp_ids'], row['rico_id']), axis=1)\n",
    "df_user_stories_and_rico_rec['gui_abstraction'] = df_user_stories_and_rico_rec.apply(lambda row: get_str_repr_gui(row['rico_json_upd'], n=30, m=30, to_lower=False, quote=True, style={},\n",
    "                        feat_method=FEAT_METHOD_TEXT_COMP_TYPE_RES_ID,\n",
    "                        struct_method=STRUCT_METHOD_TWO_LEVEL_BULLETS), axis=1)"
   ]
  },
  {
   "cell_type": "code",
   "execution_count": 76,
   "id": "1acc48af-4c73-40eb-9d80-16aab202fbdf",
   "metadata": {},
   "outputs": [
    {
     "name": "stdout",
     "output_type": "stream",
     "text": [
      "- Toolbar\n",
      "\t- \"search\" (Icon) (search)\n",
      "\t- \"menu\" (Icon) (home)\n",
      "\t- \"cart\" (Icon) (cart imageview)\n",
      "\t- \"Store Results\" (Label) (title)\n",
      "- List Item\n",
      "\t- \"Stores Near\" (Label) (store locator stores near me caption)\n",
      "\t- (Image) (store locator map loader)\n",
      "\t- \"20 Stores\" (Label) (store locator store results)\n",
      "\t- \"Find Stores\" (Button) (store locator find stores)\n",
      "- List Item\n",
      "\t- \"1.\" (Label) (storelocator item position)\n",
      "\t- \"SAN FRANCISCO,Store #6498\" (Button) (storelocator address line1)\n",
      "\t- \"arrow forward\" (Icon) (storelocator item navigator)\n",
      "\t- \"3700 GEARY BOULEVARD\" (Label) (storelocator address line2)\n",
      "\t- \"3.24 miles\" (Label) (storelocator mile)\n",
      "\t- \"SAN FRANCISCO, CA, 94118\" (Label) (storelocator citystatezip)\n",
      "\t- \"(415) 831-1080\" (Button) (storelocator phone contactinfo)\n",
      "\t- (Image) (storelocator brand logo)\n",
      "\t- \"Store Hours: 08:00AM-09:00PM\" (Label) (storelocator storehours)\n",
      "\t- \"Set as My Store\" (Button) (storelocator setasmystore)\n",
      "\t- \"View Weekly Ads\" (Button) (storelocator weeklyads)\n",
      "- List Item\n",
      "\t- \"2.\" (Label) (storelocator item position)\n",
      "\t- \"SAN FRANCISCO,Store #6368\" (Button) (storelocator address line1)\n",
      "\t- \"arrow forward\" (Icon) (storelocator item navigator)\n",
      "\t- \"1750 HARRISON STREET\" (Label) (storelocator address line2)\n",
      "\t- \"3.52 miles\" (Label) (storelocator mile)\n",
      "\t- \"SAN FRANCISCO, CA, 94103\" (Label) (storelocator citystatezip)\n",
      "\t- \"(415) 252-7611\" (Button) (storelocator phone contactinfo)\n",
      "\t- (Image) (storelocator brand logo)\n",
      "\t- \"Store Hours: 08:00AM-09:00PM\" (Label) (storelocator storehours)\n",
      "\t- \"Set as My Store\" (Button) (storelocator setasmystore)\n",
      "\t- \"View Weekly Ads\" (Button) (storelocator weeklyads)\n",
      "\n"
     ]
    }
   ],
   "source": [
    "print(df_user_stories_and_rico_rec.iloc[row_index]['gui_abstraction'])"
   ]
  },
  {
   "cell_type": "markdown",
   "id": "9c4577ce-a108-45dc-9db7-9770d57eb31e",
   "metadata": {},
   "source": [
    "## 4.1 Few-Shot Prompting Template"
   ]
  },
  {
   "cell_type": "code",
   "execution_count": 131,
   "id": "0662192f-28b0-4609-9c47-d1bdf78a5b82",
   "metadata": {},
   "outputs": [],
   "source": [
    "with open('data/generated/few_shot_prompt_recommendation.txt', 'r') as file:\n",
    "    few_shot_prompt_recommendation_1 = file.read()"
   ]
  },
  {
   "cell_type": "code",
   "execution_count": 132,
   "id": "8d7337c6-6962-4171-bb9c-fd1322b8d267",
   "metadata": {},
   "outputs": [
    {
     "name": "stdout",
     "output_type": "stream",
     "text": [
      "You are given a user story in the context of a graphical user interface, this user story is not yet implemented. In addition to the user story, you are also given a textual representation of a graphical user interface. The GUI is organized as a two-level bullet point list, the outer points representing layouting groups and the inner points the user interface features contained in that layouting group. Each feature is represented in the following abstract pattern: 'text' (ui component type) (semantic description of ui component), the 'text' being the visual text of the component. Your task implement the feature of the user story in HTML, for styling you can also use CSS. Make sure the generated code can directly be viewed in a browser. Do not provide any explanation. Create HTML code only for the user story, do not repeat the code for the entire GUI. \n",
      "\n",
      "user story: 'As a new resident in a city, i want to input my zip code and find the closest office depot so that i can establish where i can get my office supplies frem in my new city' \n",
      "\n",
      "graphical user interface description: - Toolbar\n",
      "\t- \"search\" (Icon) (search)\n",
      "\t- \"menu\" (Icon) (home)\n",
      "\t- \"cart\" (Icon) (cart imageview)\n",
      "\t- \"Store Results\" (Label) (title)\n",
      "- List Item\n",
      "\t- \"Stores Near\" (Label) (store locator stores near me caption)\n",
      "\t- (Image) (store locator map loader)\n",
      "\t- \"20 Stores\" (Label) (store locator store results)\n",
      "\t- \"Find Stores\" (Button) (store locator find stores)\n",
      "- List Item\n",
      "\t- \"1.\" (Label) (storelocator item position)\n",
      "\t- \"SAN FRANCISCO,Store #6498\" (Button) (storelocator address line1)\n",
      "\t- \"arrow forward\" (Icon) (storelocator item navigator)\n",
      "\t- \"3700 GEARY BOULEVARD\" (Label) (storelocator address line2)\n",
      "\t- \"3.24 miles\" (Label) (storelocator mile)\n",
      "\t- \"SAN FRANCISCO, CA, 94118\" (Label) (storelocator citystatezip)\n",
      "\t- \"(415) 831-1080\" (Button) (storelocator phone contactinfo)\n",
      "\t- (Image) (storelocator brand logo)\n",
      "\t- \"Store Hours: 08:00AM-09:00PM\" (Label) (storelocator storehours)\n",
      "\t- \"Set as My Store\" (Button) (storelocator setasmystore)\n",
      "\t- \"View Weekly Ads\" (Button) (storelocator weeklyads)\n",
      "- List Item\n",
      "\t- \"2.\" (Label) (storelocator item position)\n",
      "\t- \"SAN FRANCISCO,Store #6368\" (Button) (storelocator address line1)\n",
      "\t- \"arrow forward\" (Icon) (storelocator item navigator)\n",
      "\t- \"1750 HARRISON STREET\" (Label) (storelocator address line2)\n",
      "\t- \"3.52 miles\" (Label) (storelocator mile)\n",
      "\t- \"SAN FRANCISCO, CA, 94103\" (Label) (storelocator citystatezip)\n",
      "\t- \"(415) 252-7611\" (Button) (storelocator phone contactinfo)\n",
      "\t- (Image) (storelocator brand logo)\n",
      "\t- \"Store Hours: 08:00AM-09:00PM\" (Label) (storelocator storehours)\n",
      "\t- \"Set as My Store\" (Button) (storelocator setasmystore)\n",
      "\t- \"View Weekly Ads\" (Button) (storelocator weeklyads)\n",
      "\n",
      "user story implementation: <!DOCTYPE html><html><head><style>body{font-family:Arial,sans-serif;margin:0;padding:0;background-color:#f4f4f4;}.container{width:80%;margin:auto;overflow:hidden;}.store-locator{background-color:white;margin:50px 0;padding:30px;border-radius:8px;box-shadow:0 2px 5px rgba(0,0,0,0.1);}.store-locator h2{margin-bottom:20px;color:#333;}.store-locator label{display:block;margin-bottom:10px;}.store-locator input[type=\"text\"]{width:100%;padding:10px;margin-bottom:20px;border-radius:4px;border:1px solid #aaa;}.store-locator input[type=\"submit\"]{display:block;width:100%;padding:10px;background-color:#5cb85c;color:white;border:none;border-radius:4px;cursor:pointer;}.store-locator input[type=\"submit\"]:hover{background-color:#4cae4c;}</style></head><body><div class=\"container\"><div class=\"store-locator\"><h2>Store Locator</h2><form action=\"\"><label for=\"location\">Enter a Zip code, or City and State</label><input type=\"text\" id=\"location\" name=\"location\" placeholder=\"Example: New York, NY -or- '12345'\"><input type=\"submit\" value=\"Find Stores\"></form></div></div></body></html>\n",
      "\n",
      "user story: 'As a social media user, I want to connect the app with my facebook account so that i can share my progress and achievements with friends' \n",
      "\n",
      "graphical user interface description: - Toolbar\n",
      "\t- \"check\" (Icon) (done)\n",
      "\t- \"emoji\" (Icon) (home)\n",
      "\t- \"Preferences\" (Label) (title)\n",
      "\t- \"arrow backward\" (Icon) (up)\n",
      "- Layout\n",
      "\t- \"Preferences\" (Label) (title)\n",
      "- List Item\n",
      "\t- \"Show Notification\" (Label) (title)\n",
      "\t- (Checkbox) ()\n",
      "\t- \"Calorie Count displays a helpful Android notification that shows you the current day's stat.\" (Label) (summary)\n",
      "- List Item\n",
      "\t- \"Show Update Reminder\" (Label) (title)\n",
      "\t- (Checkbox) ()\n",
      "\t- \"When there is a new version of Calorie Count on Google Play, a friendly reminder will pop up when you open the app.\" (Label) (summary)\n",
      "- List Item\n",
      "\t- \"Default Home Screen\" (Label) (title)\n",
      "\t- \"We strongly encourage you to participate in Calorie Camp. But you also have option to change your home screen.\" (Label) (summary)\n",
      "- Layout\n",
      "\t- \"Foog Log Setting\" (Label) (title)\n",
      "- List Item\n",
      "\t- \"Show Complete Day\" (Label) (title)\n",
      "\t- \"Making a day complete flags it as valid data point for our weekly and monthly analysis tool on the website (available on our website). Incomplete days are ignored.\" (Label) (summary)\n",
      "\t- (Checkbox) ()\n",
      "- List Item\n",
      "\t- \"Redirect to Calorie Camp\" (Label) (title)\n",
      "\t- (Checkbox) ()\n",
      "\t- \"Submitting a report to Calorie Camp allows you to earn points and badges, and to leave comments on your own days.\" (Label) (summary)\n",
      " \n",
      "\n",
      "user story implementation: <!DOCTYPE html><html><head><style>body{font-family:Arial,Helvetica,sans-serif;margin:0;padding:0}.container{max-width:500px;margin:0 auto;padding:20px;background-color:#f7f7f7}.title{font-weight:bold;font-size:20px;margin-bottom:10px}.summary{font-size:16px;margin-bottom:10px}.btn{background-color:#3b5998;color:#fff;padding:10px 20px;text-align:center;text-decoration:none;display:inline-block;font-size:16px;margin:4px 2px;cursor:pointer;border:none;border-radius:4px}.btn:hover{background-color:#4888db}</style></head><body><div class=\"container\"><div class=\"title\">Connect with Facebook</div><div class=\"summary\">Share your progress and achievements with friends on Facebook.</div><button class=\"btn\">Connect</button></div></body></html>\n",
      "\n",
      "user story: 'PLACEHOLDER_US' \n",
      "\n",
      "graphical user interface description: PLACEHOLDER_GUI \n",
      "\n",
      "user story implementation: <!DOCTYPE html>\n"
     ]
    }
   ],
   "source": [
    "print(few_shot_prompt_recommendation_1)"
   ]
  },
  {
   "cell_type": "code",
   "execution_count": 832,
   "id": "6ab6cbc1-b067-4b14-a396-6c7b76ef8ac5",
   "metadata": {},
   "outputs": [],
   "source": [
    "df_user_stories_and_rico_rec['fs_rec_prompt'] = df_user_stories_and_rico_rec.apply(lambda row: few_shot_prompt_recommendation_1.replace(PLACEHOLDER_US, row['user_story']).replace(PLACEHOLDER_GUI, row['gui_abstraction']), axis=1)\n",
    "df_user_stories_and_rico_rec['fs_rec_gen_result'] = df_user_stories_and_rico_rec.apply(lambda row: generate_completion(row['fs_rec_prompt'], model='gpt-4'), axis=1)\n",
    "df_user_stories_and_rico_rec['fs_rec_gen_result_parsed'] = df_user_stories_and_rico_rec.apply(lambda row: '<!DOCTYPE html>' + row['fs_rec_gen_result'].choices[0].message.content.replace('\\n', '').replace('\\t', '').strip(), axis=1)"
   ]
  },
  {
   "cell_type": "code",
   "execution_count": null,
   "id": "9223038b-5bb2-468c-bb27-814eda585ccd",
   "metadata": {},
   "outputs": [],
   "source": [
    "def write_html_to_file_and_image(path, model_name dataset):\n",
    "    for index, row in df_user_stories_and_rico_rec.iterrows():\n",
    "        file_name = str(index) + '_' + str(row['rico_id'])\n",
    "        with open(path+file_name+'.html', 'w', encoding='utf-8') as file:\n",
    "            print(path+file_name+'.html')\n",
    "            file.write(row[model_name])\n",
    "        try:\n",
    "            imgkit.from_string(row[model_name], path+file_name+'.jpg', config=config)\n",
    "        except:\n",
    "            pass"
   ]
  },
  {
   "cell_type": "code",
   "execution_count": null,
   "id": "6ed1433f-74ec-4773-a178-bd90c4c7e538",
   "metadata": {},
   "outputs": [],
   "source": [
    "write_html_to_file_and_image('data/generated/html/', 'fs_rec_gen_result_parsed', df_user_stories_and_rico_rec)"
   ]
  },
  {
   "cell_type": "markdown",
   "id": "f0fd3dcb-a544-4515-89c8-9d046057b06b",
   "metadata": {},
   "source": [
    "## 4.2 (FS-)Chain-of-Thought Prompting Template"
   ]
  },
  {
   "cell_type": "code",
   "execution_count": 240,
   "id": "619f6977-082e-494c-af3e-e96cc711c858",
   "metadata": {},
   "outputs": [],
   "source": [
    "with open('data/generated/few_shot_cot_prompt_recommendation.txt', 'r') as file:\n",
    "    few_shot_cot_prompt_recommendation_1 = file.read()"
   ]
  },
  {
   "cell_type": "code",
   "execution_count": null,
   "id": "1276ead3-b591-4020-a099-adb8c2d2909f",
   "metadata": {},
   "outputs": [],
   "source": [
    "HTML_SPLIITER = '*html-code*:'"
   ]
  },
  {
   "cell_type": "code",
   "execution_count": 242,
   "id": "a4dd8bce-1b52-4ac8-8a97-bc3f7141e49b",
   "metadata": {},
   "outputs": [
    {
     "name": "stdout",
     "output_type": "stream",
     "text": [
      "You are given a user story in the context of a graphical user interface, this user story is not yet implemented. In addition to the user story, you are also given a textual representation of a graphical user interface. The GUI is organized as a two-level bullet point list, the outer points representing layouting groups and the inner points the user interface features contained in that layouting group. Each feature is represented in the following abstract pattern: 'text' (ui component type) (semantic description of ui component), the 'text' being the visual text of the component. Your task implement the feature of the user story in HTML, for styling you can also use CSS. Make sure the generated code can directly be viewed in a browser. Create HTML code only for the user story, do not repeat the code for the entire GUI.  As for your HTML code generation, first write *html-code*: followed by the actual HTML code.\n",
      "\n",
      "user story: 'As a new resident in a city, i want to input my zip code and find the closest office depot so that i can establish where i can get my office supplies frem in my new city' \n",
      "\n",
      "graphical user interface description: - Toolbar\n",
      "\t- \"search\" (Icon) (search)\n",
      "\t- \"menu\" (Icon) (home)\n",
      "\t- \"cart\" (Icon) (cart imageview)\n",
      "\t- \"Store Results\" (Label) (title)\n",
      "- List Item\n",
      "\t- \"Stores Near\" (Label) (store locator stores near me caption)\n",
      "\t- (Image) (store locator map loader)\n",
      "\t- \"20 Stores\" (Label) (store locator store results)\n",
      "\t- \"Find Stores\" (Button) (store locator find stores)\n",
      "- List Item\n",
      "\t- \"1.\" (Label) (storelocator item position)\n",
      "\t- \"SAN FRANCISCO,Store #6498\" (Button) (storelocator address line1)\n",
      "\t- \"arrow forward\" (Icon) (storelocator item navigator)\n",
      "\t- \"3700 GEARY BOULEVARD\" (Label) (storelocator address line2)\n",
      "\t- \"3.24 miles\" (Label) (storelocator mile)\n",
      "\t- \"SAN FRANCISCO, CA, 94118\" (Label) (storelocator citystatezip)\n",
      "\t- \"(415) 831-1080\" (Button) (storelocator phone contactinfo)\n",
      "\t- (Image) (storelocator brand logo)\n",
      "\t- \"Store Hours: 08:00AM-09:00PM\" (Label) (storelocator storehours)\n",
      "\t- \"Set as My Store\" (Button) (storelocator setasmystore)\n",
      "\t- \"View Weekly Ads\" (Button) (storelocator weeklyads)\n",
      "- List Item\n",
      "\t- \"2.\" (Label) (storelocator item position)\n",
      "\t- \"SAN FRANCISCO,Store #6368\" (Button) (storelocator address line1)\n",
      "\t- \"arrow forward\" (Icon) (storelocator item navigator)\n",
      "\t- \"1750 HARRISON STREET\" (Label) (storelocator address line2)\n",
      "\t- \"3.52 miles\" (Label) (storelocator mile)\n",
      "\t- \"SAN FRANCISCO, CA, 94103\" (Label) (storelocator citystatezip)\n",
      "\t- \"(415) 252-7611\" (Button) (storelocator phone contactinfo)\n",
      "\t- (Image) (storelocator brand logo)\n",
      "\t- \"Store Hours: 08:00AM-09:00PM\" (Label) (storelocator storehours)\n",
      "\t- \"Set as My Store\" (Button) (storelocator setasmystore)\n",
      "\t- \"View Weekly Ads\" (Button) (storelocator weeklyads)\n",
      "\n",
      "Let's think step by step\n",
      "\n",
      "First, we need a text field for the user to enter their zip code. Secondly, we need a \"Find Stores\" button that the user can click after entering their zip code. \n",
      "\n",
      "*html-code*:<!DOCTYPE html><html><head><style>body{font-family:Arial,sans-serif;margin:0;padding:0;background-color:#f4f4f4;}.container{width:80%;margin:auto;overflow:hidden;}.store-locator{background-color:white;margin:50px 0;padding:30px;border-radius:8px;box-shadow:0 2px 5px rgba(0,0,0,0.1);}.store-locator h2{margin-bottom:20px;color:#333;}.store-locator label{display:block;margin-bottom:10px;}.store-locator input[type=\"text\"]{width:100%;padding:10px;margin-bottom:20px;border-radius:4px;border:1px solid #aaa;}.store-locator input[type=\"submit\"]{display:block;width:100%;padding:10px;background-color:#5cb85c;color:white;border:none;border-radius:4px;cursor:pointer;}.store-locator input[type=\"submit\"]:hover{background-color:#4cae4c;}</style></head><body><div class=\"container\"><div class=\"store-locator\"><h2>Store Locator</h2><form action=\"\"><label for=\"location\">Enter a Zip code, or City and State</label><input type=\"text\" id=\"location\" name=\"location\" placeholder=\"Example: New York, NY -or- '12345'\"><input type=\"submit\" value=\"Find Stores\"></form></div></div></body></html>\n",
      "\n",
      "user story: 'As a social media user, I want to connect the app with my facebook account so that i can share my progress and achievements with friends' \n",
      "\n",
      "graphical user interface description: - Toolbar\n",
      "\t- \"check\" (Icon) (done)\n",
      "\t- \"emoji\" (Icon) (home)\n",
      "\t- \"Preferences\" (Label) (title)\n",
      "\t- \"arrow backward\" (Icon) (up)\n",
      "- Layout\n",
      "\t- \"Preferences\" (Label) (title)\n",
      "- List Item\n",
      "\t- \"Show Notification\" (Label) (title)\n",
      "\t- (Checkbox) ()\n",
      "\t- \"Calorie Count displays a helpful Android notification that shows you the current day's stat.\" (Label) (summary)\n",
      "- List Item\n",
      "\t- \"Show Update Reminder\" (Label) (title)\n",
      "\t- (Checkbox) ()\n",
      "\t- \"When there is a new version of Calorie Count on Google Play, a friendly reminder will pop up when you open the app.\" (Label) (summary)\n",
      "- List Item\n",
      "\t- \"Default Home Screen\" (Label) (title)\n",
      "\t- \"We strongly encourage you to participate in Calorie Camp. But you also have option to change your home screen.\" (Label) (summary)\n",
      "- Layout\n",
      "\t- \"Foog Log Setting\" (Label) (title)\n",
      "- List Item\n",
      "\t- \"Show Complete Day\" (Label) (title)\n",
      "\t- \"Making a day complete flags it as valid data point for our weekly and monthly analysis tool on the website (available on our website). Incomplete days are ignored.\" (Label) (summary)\n",
      "\t- (Checkbox) ()\n",
      "- List Item\n",
      "\t- \"Redirect to Calorie Camp\" (Label) (title)\n",
      "\t- (Checkbox) ()\n",
      "\t- \"Submitting a report to Calorie Camp allows you to earn points and badges, and to leave comments on your own days.\" (Label) (summary)\n",
      " \n",
      "Let's think step by step\n",
      "\n",
      "Firstly, to implement this user story, there should be a button or link for the user to connect the app with his Facebook account. This button or link should be visible and easily reachable, ideally it should be in the \"Preferences\" section of the app settings.\n",
      "\n",
      "user story implementation: <!DOCTYPE html><html><head><style>body{font-family:Arial,Helvetica,sans-serif;margin:0;padding:0}.container{max-width:500px;margin:0 auto;padding:20px;background-color:#f7f7f7}.title{font-weight:bold;font-size:20px;margin-bottom:10px}.summary{font-size:16px;margin-bottom:10px}.btn{background-color:#3b5998;color:#fff;padding:10px 20px;text-align:center;text-decoration:none;display:inline-block;font-size:16px;margin:4px 2px;cursor:pointer;border:none;border-radius:4px}.btn:hover{background-color:#4888db}</style></head><body><div class=\"container\"><div class=\"title\">Connect with Facebook</div><div class=\"summary\">Share your progress and achievements with friends on Facebook.</div><button class=\"btn\">Connect</button></div></body></html>\n",
      "\n",
      "user story: 'PLACEHOLDER_US' \n",
      "\n",
      "graphical user interface description: PLACEHOLDER_GUI \n",
      "\n",
      "Let's think step by step\n"
     ]
    }
   ],
   "source": [
    "print(few_shot_cot_prompt_recommendation_1)"
   ]
  },
  {
   "cell_type": "code",
   "execution_count": 848,
   "id": "f2e5036d-7523-4577-9c93-777f1e265612",
   "metadata": {},
   "outputs": [],
   "source": [
    "df_user_stories_and_rico_rec['fs_cot_rec_prompt'] = df_user_stories_and_rico_rec.apply(lambda row: few_shot_cot_prompt_recommendation_1.replace(PLACEHOLDER_US, row['user_story']).replace(PLACEHOLDER_GUI, row['gui_abstraction']), axis=1)\n",
    "df_user_stories_and_rico_rec['fs_cot_rec_gen_result'] = df_user_stories_and_rico_rec.apply(lambda row: generate_completion(row['fs_cot_rec_prompt'], model='gpt-4'), axis=1)\n",
    "df_user_stories_and_rico_rec['fs_cot_rec_gen_result_parsed'] = df_user_stories_and_rico_rec.apply(lambda row: row['fs_cot_rec_gen_result'].choices[0].message.content.split(HTML_SPLIITER)[1].strip(' '), axis=1)"
   ]
  },
  {
   "cell_type": "code",
   "execution_count": null,
   "id": "7bfd8c5a-c0ab-4d8d-bf80-6c0b0fa6a7cd",
   "metadata": {},
   "outputs": [],
   "source": [
    "write_html_to_file_and_image('data/generated/html/', 'fs_cot_rec_gen_result_parsed', df_user_stories_and_rico_rec)"
   ]
  },
  {
   "cell_type": "markdown",
   "id": "f73f7d1a-9b74-4908-9847-3fea1f96358a",
   "metadata": {},
   "source": [
    "# 5. User Story GUI Component Matching"
   ]
  },
  {
   "cell_type": "code",
   "execution_count": 553,
   "id": "5e3e21ee-2d8c-48a8-b102-9236535e0a4a",
   "metadata": {},
   "outputs": [],
   "source": [
    "df_user_stories_and_rico_comp_match = pd.read_csv('data/user_stories/dataset/03_test_train_split/test_us_data_label.csv')"
   ]
  },
  {
   "cell_type": "code",
   "execution_count": null,
   "id": "793b7240-8d90-4d3c-a8dd-ee5776f27203",
   "metadata": {},
   "outputs": [],
   "source": [
    "df_user_stories_and_rico_comp_match['comp_ids'] = df_user_stories_and_rico_comp_match['comp_ids'].apply(ast.literal_eval)\n",
    "df_user_stories_and_rico_comp_match['rico_json_ori'] = df_user_stories_and_rico_comp_match.apply(lambda row: copy.deepcopy(df_all_guis[df_all_guis['id'] == int(row['rico_id'])]['data'].values.tolist()[0]), axis=1)\n",
    "df_user_stories_and_rico_comp_match['gui_abstraction'] = df_user_stories_and_rico_comp_match.apply(lambda row: get_str_repr_gui(row['rico_json_ori'], n=30, m=30, to_lower=False, quote=True, style={}, id=True,\n",
    "                        feat_method=FEAT_METHOD_TEXT_COMP_TYPE_RES_ID,\n",
    "                        struct_method=STRUCT_METHOD_TWO_LEVEL_BULLETS), axis=1)"
   ]
  },
  {
   "cell_type": "code",
   "execution_count": 718,
   "id": "5cc90792-0e39-4edb-a948-7bb8e4ee584a",
   "metadata": {},
   "outputs": [],
   "source": [
    "df_user_stories_and_rico_comp_match_train = pd.read_csv('data/user_stories/dataset/05_test_train_split/train_us_data_label.csv')"
   ]
  },
  {
   "cell_type": "code",
   "execution_count": null,
   "id": "b5525d62-f2bd-40e2-91a6-388c21fc6526",
   "metadata": {},
   "outputs": [],
   "source": [
    "df_user_stories_and_rico_comp_match_train['comp_ids'] = df_user_stories_and_rico_comp_match_train['comp_ids'].apply(ast.literal_eval)\n",
    "df_user_stories_and_rico_comp_match_train['rico_json_ori'] = df_user_stories_and_rico_comp_match_train.apply(lambda row: copy.deepcopy(df_all_guis[df_all_guis['id'] == int(row['rico_id'])]['data'].values.tolist()[0]), axis=1)\n",
    "df_user_stories_and_rico_comp_match_train['gui_abstraction'] = df_user_stories_and_rico_comp_match_train.apply(lambda row: get_str_repr_gui(row['rico_json_ori'], n=30, m=30, to_lower=False, quote=True, style={}, id=True,\n",
    "                        feat_method=FEAT_METHOD_TEXT_COMP_TYPE_RES_ID,\n",
    "                        struct_method=STRUCT_METHOD_TWO_LEVEL_BULLETS), axis=1)"
   ]
  },
  {
   "cell_type": "markdown",
   "id": "a2876d84-b786-4801-b412-5da8483b30ed",
   "metadata": {},
   "source": [
    "## 5.1 Zero-Shot Prompting Template"
   ]
  },
  {
   "cell_type": "code",
   "execution_count": 685,
   "id": "77c56f8b-e442-4ec8-a9d3-bbd53338ee8a",
   "metadata": {},
   "outputs": [],
   "source": [
    "ZS_TEMPLATE_MATCH_1 = \"You are given a user story in the context of a graphical user interface. In addition to the user story, you are also given a textual representation of a graphical user interface. The GUI is organized as a two-level bullet point list, the outer points representing layouting groups and the inner points the user interface features contained in that layouting group. Each feature is represented in the following abstract pattern: 'text' (ui component type) (semantic description of ui component) (id), the 'text' being the visual text of the component and the 'id' being a number identifying each component. Your task is to extract a list of ids belonging to all user interface components that are requried to fulfill the user story. Do not provide any explanation. As your output, write a python list of the ids. \\n\\nuser story: 'PLACEHOLDER_US' \\n\\ngraphical user interface description: PLACEHOLDER_GUI \\n\\noutput:\""
   ]
  },
  {
   "cell_type": "code",
   "execution_count": 686,
   "id": "e962219f-185b-466e-a1fb-1817a92fe018",
   "metadata": {},
   "outputs": [
    {
     "name": "stdout",
     "output_type": "stream",
     "text": [
      "You are given a user story in the context of a graphical user interface. In addition to the user story, you are also given a textual representation of a graphical user interface. The GUI is organized as a two-level bullet point list, the outer points representing layouting groups and the inner points the user interface features contained in that layouting group. Each feature is represented in the following abstract pattern: 'text' (ui component type) (semantic description of ui component) (id), the 'text' being the visual text of the component and the 'id' being a number identifying each component. Your task is to extract a list of ids belonging to all user interface components that are requried to fulfill the user story. Do not provide any explanation. As your output, write a python list of the ids. \n",
      "\n",
      "user story: 'PLACEHOLDER_US' \n",
      "\n",
      "graphical user interface description: PLACEHOLDER_GUI \n",
      "\n",
      "output:\n"
     ]
    }
   ],
   "source": [
    "print(ZS_TEMPLATE_MATCH_1)"
   ]
  },
  {
   "cell_type": "code",
   "execution_count": 705,
   "id": "10c0b1e5-1e33-4fa8-be97-8b9ecffa0a87",
   "metadata": {},
   "outputs": [],
   "source": [
    "ZS_TEMPLATE_MATCH_2 = \"You are given a user story in the context of a graphical user interface. In addition to the user story, you are also given a textual representation of a graphical user interface. The GUI is organized as a two-level bullet point list, the outer points representing layouting groups and the inner points the user interface features contained in that layouting group. Each feature is represented in the following abstract pattern: 'text' (ui component type) (semantic description of ui component) (id), the 'text' being the visual text of the component and the 'id' being a number identifying each component. Your task is to extract a list of ids belonging to all user interface components that are requried to fulfill the user story. Make sure to extract all components, e.g. also labels that provide information to the user and are part of a feature. Do not provide any explanation. As your output, write a python list of the ids. \\n\\nuser story: 'PLACEHOLDER_US' \\n\\ngraphical user interface description: PLACEHOLDER_GUI \\n\\noutput:\""
   ]
  },
  {
   "cell_type": "code",
   "execution_count": 706,
   "id": "9da50381-3e4c-49f4-8c0d-15200f6bf064",
   "metadata": {},
   "outputs": [
    {
     "name": "stdout",
     "output_type": "stream",
     "text": [
      "You are given a user story in the context of a graphical user interface. In addition to the user story, you are also given a textual representation of a graphical user interface. The GUI is organized as a two-level bullet point list, the outer points representing layouting groups and the inner points the user interface features contained in that layouting group. Each feature is represented in the following abstract pattern: 'text' (ui component type) (semantic description of ui component) (id), the 'text' being the visual text of the component and the 'id' being a number identifying each component. Your task is to extract a list of ids belonging to all user interface components that are requried to fulfill the user story. Make sure to extract all components, e.g. also labels that provide information to the user and are part of a feature. Do not provide any explanation. As your output, write a python list of the ids. \n",
      "\n",
      "user story: 'PLACEHOLDER_US' \n",
      "\n",
      "graphical user interface description: PLACEHOLDER_GUI \n",
      "\n",
      "output:\n"
     ]
    }
   ],
   "source": [
    "print(ZS_TEMPLATE_MATCH_2)"
   ]
  },
  {
   "cell_type": "code",
   "execution_count": 689,
   "id": "9899e691-0aa7-4d65-8e9d-2c2da7bf9ffb",
   "metadata": {},
   "outputs": [],
   "source": [
    "df_user_stories_and_rico_comp_match['zero_shot_prompt_match_1'] = df_user_stories_and_rico_comp_match.apply(lambda row: ZS_TEMPLATE_MATCH_1.replace(PLACEHOLDER_US, row['user_story']).replace(PLACEHOLDER_GUI,row['gui_abstraction']), axis=1)"
   ]
  },
  {
   "cell_type": "code",
   "execution_count": 690,
   "id": "8bc458e3-9cb8-45ca-abd3-a4bda3b3590c",
   "metadata": {},
   "outputs": [
    {
     "name": "stdout",
     "output_type": "stream",
     "text": [
      "You are given a user story in the context of a graphical user interface. In addition to the user story, you are also given a textual representation of a graphical user interface. The GUI is organized as a two-level bullet point list, the outer points representing layouting groups and the inner points the user interface features contained in that layouting group. Each feature is represented in the following abstract pattern: 'text' (ui component type) (semantic description of ui component) (id), the 'text' being the visual text of the component and the 'id' being a number identifying each component. Your task is to extract a list of ids belonging to all user interface components that are requried to fulfill the user story. Do not provide any explanation. As your output, write a python list of the ids. \n",
      "\n",
      "user story: 'As a PRI user, I want to mark episodes as favorite so that I can watch them again later.' \n",
      "\n",
      "graphical user interface description: - Toolbar\n",
      "\t- \"menu\" (Icon) (id=28)\n",
      "\t- (Image) (id=27)\n",
      "- Layout\n",
      "\t- \"Live Stream\" (Label) (audio Player) (id=25)\n",
      "\t- \"play\" (Icon) (audio Player Play) (id=26)\n",
      "- Layout\n",
      "\t- \"The Takeaway Latest Episodes\" (Label) (rss Feed Title) (id=23)\n",
      "- Layout\n",
      "\t- \"all\" (Button) (rss Feed All) (id=22)\n",
      "\t- \"favorites\" (Button) (rss Feed Button2) (id=21)\n",
      "\t- \"Downloads\" (Button) (rss Feed Button3) (id=20)\n",
      "- List Item\n",
      "\t- \"Predatory Lending, An Alabama Shake Up, Enduring Police Reforms\" (Label) (feed Item Title) (id=16)\n",
      "\t- \"Coming up on today's show: Student loan companies like Navient are being accused of using predatory lending practices. Now, the attorneys general in Illinois and Washington and the Consumer Financial Protection Bureau are fighting for bad loans to be for\" (Label) (feed Item Subtitle) (id=15)\n",
      "\t- \"10 Apr 2017\" (Label) (feed Item Date) (id=14)\n",
      "\t- \"star\" (Icon) (feed Item Favorite) (id=11)\n",
      "\t- \"file download\" (Icon) (feed Item Download) (id=12)\n",
      "\t- \"share\" (Icon) (feed Item Share) (id=13)\n",
      "- List Item\n",
      "\t- \"Trump's Mid East Strategy, A Quest for Identity, Beyond Standing Rock\" (Label) (feed Item Title) (id=10)\n",
      "\t- \"Coming up on today's show: From ISIS to Syria and Egypt, where does U.S. foreign policy in the Middle East go under the Trump Administration? Is a hands off approach the only way to avoid further destabilizing the region? Former U.S. Ambassador Alberto F\" (Label) (feed Item Subtitle) (id=9)\n",
      "\t- \"09 Apr 2017\" (Label) (feed Item Date) (id=8)\n",
      "\t- \"star\" (Icon) (feed Item Favorite) (id=5)\n",
      "\t- \"file download\" (Icon) (feed Item Download) (id=6)\n",
      "\t- \"share\" (Icon) (feed Item Share) (id=7)\n",
      "- List Item\n",
      "\t- \"The U.S. Attacks Syria, Police Reform Under Trump, The Value of Libraries\" (Label) (feed Item Title) (id=4)\n",
      "\t- \"06 Apr 2017\" (Label) (feed Item Date) (id=3)\n",
      "\t- (Image) (feed Item Favorite) (id=0)\n",
      "\t- (Image) (feed Item Download) (id=1)\n",
      "\t- (Image) (feed Item Share) (id=2)\n",
      "- List Item\n",
      "\t- \"The Takeaway Social Feed\" (Label) (Item) (id=19)\n",
      "- List Item\n",
      "\t- \"Voice Memo\" (Label) (Item) (id=18)\n",
      "- List Item\n",
      "\t- \"Comment Via Email\" (Label) (Item) (id=17)\n",
      "- Layout\n",
      "\t- (Web View) (id=24)\n",
      " \n",
      "\n",
      "output:\n"
     ]
    }
   ],
   "source": [
    "print(df_user_stories_and_rico_comp_match.iloc[3]['zero_shot_prompt_match_1'])"
   ]
  },
  {
   "cell_type": "code",
   "execution_count": 691,
   "id": "f568774e-e31b-4d31-86ca-8e3b2e68c425",
   "metadata": {},
   "outputs": [],
   "source": [
    "def compute_binary_y(y_true, y_pred):\n",
    "    y_true_set = set(y_true)\n",
    "    y_pred_set = set(y_pred)\n",
    "    intersection = y_true_set.intersection(y_pred_set)\n",
    "    y_true = []\n",
    "    y_pred = []\n",
    "    for i in range(len(intersection)):\n",
    "        y_true.append(1)\n",
    "        y_pred.append(1)\n",
    "    diff_pred = y_pred_set.difference(y_true_set)\n",
    "    for i in range(len(diff_pred)):\n",
    "        y_true.append(0)\n",
    "        y_pred.append(1)\n",
    "    diff_true = y_true_set.difference(y_pred_set)\n",
    "    for i in range(len(diff_true)):\n",
    "        y_true.append(1)\n",
    "        y_pred.append(0)\n",
    "    return (y_true, y_pred)"
   ]
  },
  {
   "cell_type": "code",
   "execution_count": 692,
   "id": "9871dfc3-d70d-4b2f-b759-7d6a33772990",
   "metadata": {},
   "outputs": [],
   "source": [
    "def compute_match_eval(y_true, y_pred):\n",
    "    y_true_set = set(y_true)\n",
    "    y_pred_set = set(y_pred)\n",
    "    intersection = y_true_set.intersection(y_pred_set)\n",
    "    precision = len(intersection) / len(y_pred_set) if len(y_pred_set) > 0 else 0\n",
    "    recall = len(intersection) / len(y_true_set) if len(y_true_set) > 0 else 0\n",
    "    f1 = 2* (precision*recall) / (precision+recall) if (precision+recall) != 0 else 0\n",
    "    return (precision, recall, f1)"
   ]
  },
  {
   "cell_type": "code",
   "execution_count": null,
   "id": "cc82e403-b03f-487b-a86f-7013c88eeaf3",
   "metadata": {},
   "outputs": [],
   "source": [
    "df_user_stories_and_rico_comp_match['zero_shot_match_1_prediction'] = df_user_stories_and_rico_comp_match.apply(lambda row: generate_completion(row['zero_shot_prompt_match_1'], model='gpt-4', temp=0, n=1, return_obj=False)[0], axis=1)\n",
    "df_user_stories_and_rico_comp_match['zero_shot_match_1_prediction_parsed'] = df_user_stories_and_rico_comp_match['zero_shot_match_1_prediction'].apply(ast.literal_eval)\n",
    "df_user_stories_and_rico_comp_match['zero_shot_match_1_prediction_parsed'] = df_user_stories_and_rico_comp_match['zero_shot_match_1_prediction_parsed'].apply(lambda x: [str(elem) for elem in x])\n",
    "df_user_stories_and_rico_comp_match['zero_shot_match_1_eval_mac'] = df_user_stories_and_rico_comp_match.apply(lambda row: compute_match_eval(row['comp_ids'], row['zero_shot_match_1_prediction_parsed']), axis=1)\n",
    "df_user_stories_and_rico_comp_match['zero_shot_match_1_eval_mic'] = df_user_stories_and_rico_comp_match.apply(lambda row: compute_binary_y(row['comp_ids'], row['zero_shot_match_1_prediction_parsed']), axis=1)"
   ]
  },
  {
   "cell_type": "code",
   "execution_count": 701,
   "id": "dcfa7713-564a-490d-9bb0-67bad813b560",
   "metadata": {},
   "outputs": [
    {
     "data": {
      "text/html": [
       "<div>\n",
       "<style scoped>\n",
       "    .dataframe tbody tr th:only-of-type {\n",
       "        vertical-align: middle;\n",
       "    }\n",
       "\n",
       "    .dataframe tbody tr th {\n",
       "        vertical-align: top;\n",
       "    }\n",
       "\n",
       "    .dataframe thead th {\n",
       "        text-align: right;\n",
       "    }\n",
       "</style>\n",
       "<table border=\"1\" class=\"dataframe\">\n",
       "  <thead>\n",
       "    <tr style=\"text-align: right;\">\n",
       "      <th></th>\n",
       "      <th>comp_ids</th>\n",
       "      <th>zero_shot_match_1_prediction_parsed</th>\n",
       "      <th>zero_shot_match_1_eval_mac</th>\n",
       "      <th>zero_shot_match_1_eval_mic</th>\n",
       "    </tr>\n",
       "  </thead>\n",
       "  <tbody>\n",
       "    <tr>\n",
       "      <th>0</th>\n",
       "      <td>[26]</td>\n",
       "      <td>[26]</td>\n",
       "      <td>(1.0, 1.0, 1.0)</td>\n",
       "      <td>([1], [1])</td>\n",
       "    </tr>\n",
       "    <tr>\n",
       "      <th>1</th>\n",
       "      <td>[12, 11, 10, 9, 8, 7, 6, 5]</td>\n",
       "      <td>[12, 11, 10, 9, 8, 7]</td>\n",
       "      <td>(1.0, 0.75, 0.8571428571428571)</td>\n",
       "      <td>([1, 1, 1, 1, 1, 1, 1, 1], [1, 1, 1, 1, 1, 1, 0, 0])</td>\n",
       "    </tr>\n",
       "    <tr>\n",
       "      <th>2</th>\n",
       "      <td>[9, 8, 7, 6, 5, 4, 3, 2, 1, 0]</td>\n",
       "      <td>[8, 12, 10, 3, 2, 0]</td>\n",
       "      <td>(0.6666666666666666, 0.4, 0.5)</td>\n",
       "      <td>([1, 1, 1, 1, 0, 0, 1, 1, 1, 1, 1, 1], [1, 1, 1, 1, 1, 1, 0, 0, 0, 0, 0, 0])</td>\n",
       "    </tr>\n",
       "    <tr>\n",
       "      <th>3</th>\n",
       "      <td>[11, 5, 0]</td>\n",
       "      <td>[11, 5, 0, 21]</td>\n",
       "      <td>(0.75, 1.0, 0.8571428571428571)</td>\n",
       "      <td>([1, 1, 1, 0], [1, 1, 1, 1])</td>\n",
       "    </tr>\n",
       "    <tr>\n",
       "      <th>4</th>\n",
       "      <td>[60, 61]</td>\n",
       "      <td>[60, 55, 53, 51, 49, 47, 45, 43, 41]</td>\n",
       "      <td>(0.1111111111111111, 0.5, 0.1818181818181818)</td>\n",
       "      <td>([1, 0, 0, 0, 0, 0, 0, 0, 0, 1], [1, 1, 1, 1, 1, 1, 1, 1, 1, 0])</td>\n",
       "    </tr>\n",
       "    <tr>\n",
       "      <th>5</th>\n",
       "      <td>[1, 2]</td>\n",
       "      <td>[15, 14, 1]</td>\n",
       "      <td>(0.3333333333333333, 0.5, 0.4)</td>\n",
       "      <td>([1, 0, 0, 1], [1, 1, 1, 0])</td>\n",
       "    </tr>\n",
       "    <tr>\n",
       "      <th>6</th>\n",
       "      <td>[5]</td>\n",
       "      <td>[]</td>\n",
       "      <td>(0, 0.0, 0)</td>\n",
       "      <td>([1], [0])</td>\n",
       "    </tr>\n",
       "    <tr>\n",
       "      <th>7</th>\n",
       "      <td>[10, 9, 8, 7, 6]</td>\n",
       "      <td>[10, 9, 8, 7, 6]</td>\n",
       "      <td>(1.0, 1.0, 1.0)</td>\n",
       "      <td>([1, 1, 1, 1, 1], [1, 1, 1, 1, 1])</td>\n",
       "    </tr>\n",
       "    <tr>\n",
       "      <th>8</th>\n",
       "      <td>[3]</td>\n",
       "      <td>[3]</td>\n",
       "      <td>(1.0, 1.0, 1.0)</td>\n",
       "      <td>([1], [1])</td>\n",
       "    </tr>\n",
       "    <tr>\n",
       "      <th>9</th>\n",
       "      <td>[16, 5]</td>\n",
       "      <td>[23, 22, 16]</td>\n",
       "      <td>(0.3333333333333333, 0.5, 0.4)</td>\n",
       "      <td>([1, 0, 0, 1], [1, 1, 1, 0])</td>\n",
       "    </tr>\n",
       "  </tbody>\n",
       "</table>\n",
       "</div>"
      ],
      "text/plain": [
       "                         comp_ids   zero_shot_match_1_prediction_parsed                     zero_shot_match_1_eval_mac                                                    zero_shot_match_1_eval_mic\n",
       "0                            [26]                                  [26]                                (1.0, 1.0, 1.0)                                                                    ([1], [1])\n",
       "1     [12, 11, 10, 9, 8, 7, 6, 5]                 [12, 11, 10, 9, 8, 7]                (1.0, 0.75, 0.8571428571428571)                          ([1, 1, 1, 1, 1, 1, 1, 1], [1, 1, 1, 1, 1, 1, 0, 0])\n",
       "2  [9, 8, 7, 6, 5, 4, 3, 2, 1, 0]                  [8, 12, 10, 3, 2, 0]                 (0.6666666666666666, 0.4, 0.5)  ([1, 1, 1, 1, 0, 0, 1, 1, 1, 1, 1, 1], [1, 1, 1, 1, 1, 1, 0, 0, 0, 0, 0, 0])\n",
       "3                      [11, 5, 0]                        [11, 5, 0, 21]                (0.75, 1.0, 0.8571428571428571)                                                  ([1, 1, 1, 0], [1, 1, 1, 1])\n",
       "4                        [60, 61]  [60, 55, 53, 51, 49, 47, 45, 43, 41]  (0.1111111111111111, 0.5, 0.1818181818181818)              ([1, 0, 0, 0, 0, 0, 0, 0, 0, 1], [1, 1, 1, 1, 1, 1, 1, 1, 1, 0])\n",
       "5                          [1, 2]                           [15, 14, 1]                 (0.3333333333333333, 0.5, 0.4)                                                  ([1, 0, 0, 1], [1, 1, 1, 0])\n",
       "6                             [5]                                    []                                    (0, 0.0, 0)                                                                    ([1], [0])\n",
       "7                [10, 9, 8, 7, 6]                      [10, 9, 8, 7, 6]                                (1.0, 1.0, 1.0)                                            ([1, 1, 1, 1, 1], [1, 1, 1, 1, 1])\n",
       "8                             [3]                                   [3]                                (1.0, 1.0, 1.0)                                                                    ([1], [1])\n",
       "9                         [16, 5]                          [23, 22, 16]                 (0.3333333333333333, 0.5, 0.4)                                                  ([1, 0, 0, 1], [1, 1, 1, 0])"
      ]
     },
     "execution_count": 701,
     "metadata": {},
     "output_type": "execute_result"
    }
   ],
   "source": [
    "df_user_stories_and_rico_comp_match[['comp_ids', 'zero_shot_match_1_prediction_parsed', 'zero_shot_match_1_eval_mac', 'zero_shot_match_1_eval_mic']][:10]"
   ]
  },
  {
   "cell_type": "code",
   "execution_count": 707,
   "id": "b38c101f-8d8d-47f1-af21-097d8e0d1a36",
   "metadata": {},
   "outputs": [],
   "source": [
    "df_user_stories_and_rico_comp_match['zero_shot_prompt_match_2'] = df_user_stories_and_rico_comp_match.apply(lambda row: ZS_TEMPLATE_MATCH_2.replace(PLACEHOLDER_US, row['user_story']).replace(PLACEHOLDER_GUI,row['gui_abstraction']), axis=1)\n",
    "df_user_stories_and_rico_comp_match['zero_shot_match_2_prediction'] = df_user_stories_and_rico_comp_match.apply(lambda row: generate_completion(row['zero_shot_prompt_match_2'], model='gpt-4', temp=0, n=1, return_obj=False)[0], axis=1)\n",
    "df_user_stories_and_rico_comp_match['zero_shot_match_2_prediction_parsed'] = df_user_stories_and_rico_comp_match['zero_shot_match_2_prediction'].apply(ast.literal_eval)\n",
    "df_user_stories_and_rico_comp_match['zero_shot_match_2_prediction_parsed'] = df_user_stories_and_rico_comp_match['zero_shot_match_2_prediction_parsed'].apply(lambda x: [str(elem) for elem in x])\n",
    "df_user_stories_and_rico_comp_match['zero_shot_match_2_eval_mac'] = df_user_stories_and_rico_comp_match.apply(lambda row: compute_match_eval(row['comp_ids'], row['zero_shot_match_2_prediction_parsed']), axis=1)\n",
    "df_user_stories_and_rico_comp_match['zero_shot_match_2_eval_mic'] = df_user_stories_and_rico_comp_match.apply(lambda row: compute_binary_y(row['comp_ids'], row['zero_shot_match_2_prediction_parsed']), axis=1)"
   ]
  },
  {
   "cell_type": "code",
   "execution_count": 713,
   "id": "a536f24e-8d33-4e6b-8fe3-c0b80633365b",
   "metadata": {},
   "outputs": [
    {
     "data": {
      "text/html": [
       "<div>\n",
       "<style scoped>\n",
       "    .dataframe tbody tr th:only-of-type {\n",
       "        vertical-align: middle;\n",
       "    }\n",
       "\n",
       "    .dataframe tbody tr th {\n",
       "        vertical-align: top;\n",
       "    }\n",
       "\n",
       "    .dataframe thead th {\n",
       "        text-align: right;\n",
       "    }\n",
       "</style>\n",
       "<table border=\"1\" class=\"dataframe\">\n",
       "  <thead>\n",
       "    <tr style=\"text-align: right;\">\n",
       "      <th></th>\n",
       "      <th>comp_ids</th>\n",
       "      <th>zero_shot_match_2_prediction_parsed</th>\n",
       "      <th>zero_shot_match_2_eval_mac</th>\n",
       "      <th>zero_shot_match_2_eval_mic</th>\n",
       "    </tr>\n",
       "  </thead>\n",
       "  <tbody>\n",
       "    <tr>\n",
       "      <th>0</th>\n",
       "      <td>[26]</td>\n",
       "      <td>[26]</td>\n",
       "      <td>(1.0, 1.0, 1.0)</td>\n",
       "      <td>([1], [1])</td>\n",
       "    </tr>\n",
       "    <tr>\n",
       "      <th>1</th>\n",
       "      <td>[12, 11, 10, 9, 8, 7, 6, 5]</td>\n",
       "      <td>[12, 11, 10, 9, 8, 7]</td>\n",
       "      <td>(1.0, 0.75, 0.8571428571428571)</td>\n",
       "      <td>([1, 1, 1, 1, 1, 1, 1, 1], [1, 1, 1, 1, 1, 1, 0, 0])</td>\n",
       "    </tr>\n",
       "    <tr>\n",
       "      <th>2</th>\n",
       "      <td>[9, 8, 7, 6, 5, 4, 3, 2, 1, 0]</td>\n",
       "      <td>[8, 12, 10, 11, 3, 7, 5, 6]</td>\n",
       "      <td>(0.625, 0.5, 0.5555555555555556)</td>\n",
       "      <td>([1, 1, 1, 1, 1, 0, 0, 0, 1, 1, 1, 1, 1], [1, 1, 1, 1, 1, 1, 1, 1, 0, 0, 0, 0, 0])</td>\n",
       "    </tr>\n",
       "    <tr>\n",
       "      <th>3</th>\n",
       "      <td>[11, 5, 0]</td>\n",
       "      <td>[11, 5]</td>\n",
       "      <td>(1.0, 0.6666666666666666, 0.8)</td>\n",
       "      <td>([1, 1, 1], [1, 1, 0])</td>\n",
       "    </tr>\n",
       "    <tr>\n",
       "      <th>4</th>\n",
       "      <td>[60, 61]</td>\n",
       "      <td>[60, 55, 53, 51, 49, 47, 45, 43, 41]</td>\n",
       "      <td>(0.1111111111111111, 0.5, 0.1818181818181818)</td>\n",
       "      <td>([1, 0, 0, 0, 0, 0, 0, 0, 0, 1], [1, 1, 1, 1, 1, 1, 1, 1, 1, 0])</td>\n",
       "    </tr>\n",
       "    <tr>\n",
       "      <th>5</th>\n",
       "      <td>[1, 2]</td>\n",
       "      <td>[15, 14, 1, 2]</td>\n",
       "      <td>(0.5, 1.0, 0.6666666666666666)</td>\n",
       "      <td>([1, 1, 0, 0], [1, 1, 1, 1])</td>\n",
       "    </tr>\n",
       "    <tr>\n",
       "      <th>6</th>\n",
       "      <td>[5]</td>\n",
       "      <td>[]</td>\n",
       "      <td>(0, 0.0, 0)</td>\n",
       "      <td>([1], [0])</td>\n",
       "    </tr>\n",
       "    <tr>\n",
       "      <th>7</th>\n",
       "      <td>[10, 9, 8, 7, 6]</td>\n",
       "      <td>[10, 9, 8, 7, 6]</td>\n",
       "      <td>(1.0, 1.0, 1.0)</td>\n",
       "      <td>([1, 1, 1, 1, 1], [1, 1, 1, 1, 1])</td>\n",
       "    </tr>\n",
       "    <tr>\n",
       "      <th>8</th>\n",
       "      <td>[3]</td>\n",
       "      <td>[2, 3]</td>\n",
       "      <td>(0.5, 1.0, 0.6666666666666666)</td>\n",
       "      <td>([1, 0], [1, 1])</td>\n",
       "    </tr>\n",
       "    <tr>\n",
       "      <th>9</th>\n",
       "      <td>[16, 5]</td>\n",
       "      <td>[25, 26, 27, 24, 23, 22, 21, 20, 19, 12, 13, 11, 16, 10, 9, 8, 1, 2, 0, 5]</td>\n",
       "      <td>(0.1, 1.0, 0.18181818181818182)</td>\n",
       "      <td>([1, 1, 0, 0, 0, 0, 0, 0, 0, 0, 0, 0, 0, 0, 0, 0, 0, 0, 0, 0], [1, 1, 1, 1, 1, 1, 1, 1, 1, 1, 1, 1, 1, 1, 1, 1, 1, 1, 1, 1])</td>\n",
       "    </tr>\n",
       "  </tbody>\n",
       "</table>\n",
       "</div>"
      ],
      "text/plain": [
       "                         comp_ids                                         zero_shot_match_2_prediction_parsed                     zero_shot_match_2_eval_mac                                                                                                    zero_shot_match_2_eval_mic\n",
       "0                            [26]                                                                        [26]                                (1.0, 1.0, 1.0)                                                                                                                    ([1], [1])\n",
       "1     [12, 11, 10, 9, 8, 7, 6, 5]                                                       [12, 11, 10, 9, 8, 7]                (1.0, 0.75, 0.8571428571428571)                                                                          ([1, 1, 1, 1, 1, 1, 1, 1], [1, 1, 1, 1, 1, 1, 0, 0])\n",
       "2  [9, 8, 7, 6, 5, 4, 3, 2, 1, 0]                                                 [8, 12, 10, 11, 3, 7, 5, 6]               (0.625, 0.5, 0.5555555555555556)                                            ([1, 1, 1, 1, 1, 0, 0, 0, 1, 1, 1, 1, 1], [1, 1, 1, 1, 1, 1, 1, 1, 0, 0, 0, 0, 0])\n",
       "3                      [11, 5, 0]                                                                     [11, 5]                 (1.0, 0.6666666666666666, 0.8)                                                                                                        ([1, 1, 1], [1, 1, 0])\n",
       "4                        [60, 61]                                        [60, 55, 53, 51, 49, 47, 45, 43, 41]  (0.1111111111111111, 0.5, 0.1818181818181818)                                                              ([1, 0, 0, 0, 0, 0, 0, 0, 0, 1], [1, 1, 1, 1, 1, 1, 1, 1, 1, 0])\n",
       "5                          [1, 2]                                                              [15, 14, 1, 2]                 (0.5, 1.0, 0.6666666666666666)                                                                                                  ([1, 1, 0, 0], [1, 1, 1, 1])\n",
       "6                             [5]                                                                          []                                    (0, 0.0, 0)                                                                                                                    ([1], [0])\n",
       "7                [10, 9, 8, 7, 6]                                                            [10, 9, 8, 7, 6]                                (1.0, 1.0, 1.0)                                                                                            ([1, 1, 1, 1, 1], [1, 1, 1, 1, 1])\n",
       "8                             [3]                                                                      [2, 3]                 (0.5, 1.0, 0.6666666666666666)                                                                                                              ([1, 0], [1, 1])\n",
       "9                         [16, 5]  [25, 26, 27, 24, 23, 22, 21, 20, 19, 12, 13, 11, 16, 10, 9, 8, 1, 2, 0, 5]                (0.1, 1.0, 0.18181818181818182)  ([1, 1, 0, 0, 0, 0, 0, 0, 0, 0, 0, 0, 0, 0, 0, 0, 0, 0, 0, 0], [1, 1, 1, 1, 1, 1, 1, 1, 1, 1, 1, 1, 1, 1, 1, 1, 1, 1, 1, 1])"
      ]
     },
     "execution_count": 713,
     "metadata": {},
     "output_type": "execute_result"
    }
   ],
   "source": [
    "df_user_stories_and_rico_comp_match[['comp_ids', 'zero_shot_match_2_prediction_parsed', 'zero_shot_match_2_eval_mac', 'zero_shot_match_2_eval_mic']][:10]"
   ]
  },
  {
   "cell_type": "markdown",
   "id": "bf22e000-13a4-45b2-a7a1-e6e6943384ac",
   "metadata": {},
   "source": [
    "## 5.2 Chain-of-Thought Prompting Template"
   ]
  },
  {
   "cell_type": "code",
   "execution_count": null,
   "id": "dba9b4d5-12c3-4482-8a2f-3ea9e4f4926d",
   "metadata": {},
   "outputs": [],
   "source": [
    "PLACEHOLDER_SPLITTER = 'prediction'\n",
    "COT_TEMPLATE_PRED = \"You are given a user story in the context of a graphical user interface. In addition to the user story, you are also given a textual representation of a graphical user interface. The GUI is organized as a two-level bullet point list, the outer points representing layouting groups and the inner points the user interface features contained in that layouting group. Each feature is represented in the following abstract pattern: 'text' (ui component type) (semantic description of ui component), the 'text' being the visual text of the component. Your task is to determine if the user story is already implemented in the given user interface or not. As your prediction, first write *prediction*: followed by '1' if the user story is already implemented otherwise write '0'.  \\n\\nuser story: 'PLACEHOLDER_US' \\n\\ngraphical user interface description: PLACEHOLDER_GUI \\n\\nLet's think step by step\"\n",
    "df_user_stories_and_rico['cot_t0_prediction'] = df_user_stories_and_rico.apply(lambda row: 0 if '0' in [choice.message.content for choice in row['cot_t0_completion'].choices][0].lower().split(PLACEHOLDER_SPLITTER)[1].strip() else 1, axis=1)"
   ]
  },
  {
   "cell_type": "code",
   "execution_count": 769,
   "id": "f09f1d84-11b2-4d39-a4c1-3bb416e36902",
   "metadata": {},
   "outputs": [],
   "source": [
    "PLACEHOLDER_SPLITTER_MATCH = '*output*:'\n",
    "PLACEHOLDER_SPLITTER_MATCH_ALT = 'output:'\n",
    "PLACEHOLDER_SPLITTER_SIMPLE = 'output'"
   ]
  },
  {
   "cell_type": "code",
   "execution_count": 740,
   "id": "12ea89b0-7414-4ab8-a98d-9b3445bc3db4",
   "metadata": {},
   "outputs": [],
   "source": [
    "COT_TEMPLATE_MATCH = \"You are given a user story in the context of a graphical user interface. In addition to the user story, you are also given a textual representation of a graphical user interface. The GUI is organized as a two-level bullet point list, the outer points representing layouting groups and the inner points the user interface features contained in that layouting group. Each feature is represented in the following abstract pattern: 'text' (ui component type) (semantic description of ui component) (id), the 'text' being the visual text of the component and the 'id' being a number identifying each component. Your task is to extract a list of ids belonging to all user interface components that are requried to fulfill the user story As your output, first write *output*: followed by a python list of the ids. \\n\\nuser story: 'PLACEHOLDER_US' \\n\\ngraphical user interface description: PLACEHOLDER_GUI \\n\\nLet's think step by step\""
   ]
  },
  {
   "cell_type": "code",
   "execution_count": 741,
   "id": "81f961c0-fb8e-4928-bf24-864862478317",
   "metadata": {},
   "outputs": [
    {
     "name": "stdout",
     "output_type": "stream",
     "text": [
      "You are given a user story in the context of a graphical user interface. In addition to the user story, you are also given a textual representation of a graphical user interface. The GUI is organized as a two-level bullet point list, the outer points representing layouting groups and the inner points the user interface features contained in that layouting group. Each feature is represented in the following abstract pattern: 'text' (ui component type) (semantic description of ui component) (id), the 'text' being the visual text of the component and the 'id' being a number identifying each component. Your task is to extract a list of ids belonging to all user interface components that are requried to fulfill the user story As your output, first write *output*: followed by a python list of the ids. \n",
      "\n",
      "user story: 'PLACEHOLDER_US' \n",
      "\n",
      "graphical user interface description: PLACEHOLDER_GUI \n",
      "\n",
      "Let's think step by step\n"
     ]
    }
   ],
   "source": [
    "print(COT_TEMPLATE_MATCH)"
   ]
  },
  {
   "cell_type": "code",
   "execution_count": 809,
   "id": "b06a14a2-fa9b-415d-8d53-703a8963e638",
   "metadata": {},
   "outputs": [],
   "source": [
    "def extract_id_list(prediction):\n",
    "    splits = prediction.lower().split(PLACEHOLDER_SPLITTER_MATCH)\n",
    "    if len(splits)==2:\n",
    "        return ast.literal_eval(splits[1].replace('*', '').replace('\\\\', '').replace('\"','').strip())\n",
    "    else:\n",
    "        alt_splits = prediction.lower().split(PLACEHOLDER_SPLITTER_MATCH_ALT)\n",
    "        return ast.literal_eval(alt_splits[1].replace('*', '').replace('\\\\', '').replace('\"','').strip()) if len(alt_splits) == 2 else []\n",
    "\n",
    "def extract_id_list_simplified(prediction):\n",
    "    start = prediction.find('[')\n",
    "    end = prediction.find(']', start)\n",
    "    list_str = prediction[start:end+1]\n",
    "    try:\n",
    "        return ast.literal_eval(list_str)\n",
    "    except:\n",
    "        print('exception')\n",
    "        return []"
   ]
  },
  {
   "cell_type": "code",
   "execution_count": 746,
   "id": "97360136-c2a8-4ec0-81a7-912cccfff04e",
   "metadata": {},
   "outputs": [],
   "source": [
    "df_user_stories_and_rico_comp_match['cot_prompt_match'] = df_user_stories_and_rico_comp_match.apply(lambda row: COT_TEMPLATE_MATCH.replace(PLACEHOLDER_US, row['user_story']).replace(PLACEHOLDER_GUI,row['gui_abstraction']), axis=1)\n",
    "df_user_stories_and_rico_comp_match['cot_prompt_match_t0_prediction'] = df_user_stories_and_rico_comp_match.apply(lambda row: generate_completion(row['cot_prompt_match'], model='gpt-4', temp=0, n=1, max_tokens=2000, return_obj=False)[0], axis=1)\n",
    "df_user_stories_and_rico_comp_match['cot_match_t0_prediction_parsed'] = df_user_stories_and_rico_comp_match.apply(lambda row: extract_id_list(row['cot_prompt_match_t0_prediction']), axis=1)\n",
    "df_user_stories_and_rico_comp_match['cot_match_t0_prediction_parsed'] = df_user_stories_and_rico_comp_match['cot_match_t0_prediction_parsed'].apply(lambda x: [str(elem) for elem in x])\n",
    "df_user_stories_and_rico_comp_match['cot_match_t0_prediction_explanation'] = df_user_stories_and_rico_comp_match.apply(lambda row: row['cot_prompt_match_t0_prediction'].split(PLACEHOLDER_SPLITTER_SIMPLE)[0].replace('\\n', '').replace('*', ''), axis=1)\n",
    "df_user_stories_and_rico_comp_match['cot_match_t0_eval_mac'] = df_user_stories_and_rico_comp_match.apply(lambda row: compute_match_eval(row['comp_ids'], row['cot_match_t0_prediction_parsed']), axis=1)\n",
    "df_user_stories_and_rico_comp_match['cot_match_t0_eval_mic'] = df_user_stories_and_rico_comp_match.apply(lambda row: compute_binary_y(row['comp_ids'], row['cot_match_t0_prediction_parsed']), axis=1)"
   ]
  },
  {
   "cell_type": "code",
   "execution_count": 753,
   "id": "9754dd9d-7390-4119-8d80-99abc4ac8aa8",
   "metadata": {},
   "outputs": [
    {
     "data": {
      "text/plain": [
       "'The user story states that the user wants to quickly see how much time a recipe takes for each step. This means the user interface components that display the time for each step of the recipe are required. From the graphical user interface description, these components are:\\n\\n- \"Preparation :\" (Label) (id=12)\\n- \"20 min\" (Label) (preparation Time) (id=11)\\n- \"Cooking :\" (Label) (id=10)\\n- \"3 min\" (Label) (cooking Time) (id=9)\\n- \"Total :\" (Label) (total Time Header) (id=8)\\n- \"23 min\" (Label) (total Time) (id=7)\\n\\nSo, the ids of these components are 12, 11, 10, 9, 8, and 7.\\n\\n*output*: [12, 11, 10, 9, 8, 7]'"
      ]
     },
     "execution_count": 753,
     "metadata": {},
     "output_type": "execute_result"
    }
   ],
   "source": [
    "df_user_stories_and_rico_comp_match.iloc[1]['cot_prompt_match_t0_prediction']"
   ]
  },
  {
   "cell_type": "code",
   "execution_count": null,
   "id": "10a657a7-f397-4cc5-aa3e-88a525a447c6",
   "metadata": {},
   "outputs": [],
   "source": [
    "df_user_stories_and_rico_comp_match['cot_prompt_match_t1_prediction'] = df_user_stories_and_rico_comp_match.apply(lambda row: generate_completion(row['cot_prompt_match'], model='gpt-4', temp=1, n=1, max_tokens=2000, return_obj=False)[0], axis=1)\n",
    "df_user_stories_and_rico_comp_match['cot_match_t1_prediction_parsed'] = df_user_stories_and_rico_comp_match.apply(lambda row: extract_id_list(row['cot_prompt_match_t1_prediction']), axis=1)\n",
    "df_user_stories_and_rico_comp_match['cot_match_t1_prediction_parsed'] = df_user_stories_and_rico_comp_match['cot_match_t1_prediction_parsed'].apply(lambda x: [str(elem) for elem in x])\n",
    "df_user_stories_and_rico_comp_match['cot_match_t1_prediction_explanation'] = df_user_stories_and_rico_comp_match.apply(lambda row: row['cot_prompt_match_t1_prediction'].split(PLACEHOLDER_SPLITTER_SIMPLE)[0].replace('\\n', '').replace('*', ''), axis=1)\n",
    "df_user_stories_and_rico_comp_match['cot_match_t1_eval_mac'] = df_user_stories_and_rico_comp_match.apply(lambda row: compute_match_eval(row['comp_ids'], row['cot_match_t1_prediction_parsed']), axis=1)\n",
    "df_user_stories_and_rico_comp_match['cot_match_t1_eval_mic'] = df_user_stories_and_rico_comp_match.apply(lambda row: compute_binary_y(row['comp_ids'], row['cot_match_t1_prediction_parsed']), axis=1)"
   ]
  },
  {
   "cell_type": "code",
   "execution_count": null,
   "id": "57b2ee48-e712-4fe5-84a0-8673463f11b6",
   "metadata": {},
   "outputs": [],
   "source": [
    "df_user_stories_and_rico_comp_match['cot_prompt_match_t05_prediction'] = df_user_stories_and_rico_comp_match.apply(lambda row: generate_completion(row['cot_prompt_match'], model='gpt-4', temp=0.5, n=1, max_tokens=2000, return_obj=False)[0], axis=1)\n",
    "df_user_stories_and_rico_comp_match['cot_match_t05_prediction_parsed'] = df_user_stories_and_rico_comp_match.apply(lambda row: extract_id_list(row['cot_prompt_match_t05_prediction']), axis=1)\n",
    "df_user_stories_and_rico_comp_match['cot_match_t05_prediction_parsed'] = df_user_stories_and_rico_comp_match['cot_match_t05_prediction_parsed'].apply(lambda x: [str(elem) for elem in x])\n",
    "df_user_stories_and_rico_comp_match['cot_match_t05_prediction_explanation'] = df_user_stories_and_rico_comp_match.apply(lambda row: row['cot_prompt_match_t05_prediction'].split(PLACEHOLDER_SPLITTER_SIMPLE)[0].replace('\\n', '').replace('*', ''), axis=1)\n",
    "df_user_stories_and_rico_comp_match['cot_match_t05_eval_mac'] = df_user_stories_and_rico_comp_match.apply(lambda row: compute_match_eval(row['comp_ids'], row['cot_match_t05_prediction_parsed']), axis=1)\n",
    "df_user_stories_and_rico_comp_match['cot_match_t05_eval_mic'] = df_user_stories_and_rico_comp_match.apply(lambda row: compute_binary_y(row['comp_ids'], row['cot_match_t05_prediction_parsed']), axis=1)"
   ]
  },
  {
   "cell_type": "code",
   "execution_count": null,
   "id": "dc4d9f51-8a84-4aa3-a9ef-aaba71b26b36",
   "metadata": {},
   "outputs": [],
   "source": [
    "df_user_stories_and_rico_comp_match['cot_prompt_match_t13_prediction'] = df_user_stories_and_rico_comp_match.apply(lambda row: generate_completion(row['cot_prompt_match'], model='gpt-4', temp=1.3, n=1, max_tokens=2000, return_obj=False)[0], axis=1)\n",
    "df_user_stories_and_rico_comp_match['cot_match_t13_prediction_parsed'] = df_user_stories_and_rico_comp_match.apply(lambda row: extract_id_list_simplified(row['cot_prompt_match_t13_prediction']), axis=1)\n",
    "df_user_stories_and_rico_comp_match['cot_match_t13_prediction_parsed'] = df_user_stories_and_rico_comp_match['cot_match_t13_prediction_parsed'].apply(lambda x: [str(elem) for elem in x])\n",
    "df_user_stories_and_rico_comp_match['cot_match_t13_prediction_explanation'] = df_user_stories_and_rico_comp_match.apply(lambda row: row['cot_prompt_match_t13_prediction'].split(PLACEHOLDER_SPLITTER_SIMPLE)[0].replace('\\n', '').replace('*', ''), axis=1)\n",
    "df_user_stories_and_rico_comp_match['cot_match_t13_eval_mac'] = df_user_stories_and_rico_comp_match.apply(lambda row: compute_match_eval(row['comp_ids'], row['cot_match_t13_prediction_parsed']), axis=1)\n",
    "df_user_stories_and_rico_comp_match['cot_match_t13_eval_mic'] = df_user_stories_and_rico_comp_match.apply(lambda row: compute_binary_y(row['comp_ids'], row['cot_match_t13_prediction_parsed']), axis=1)"
   ]
  },
  {
   "cell_type": "markdown",
   "id": "38e6627d-36dc-4cd4-b028-03cc7468aef9",
   "metadata": {},
   "source": [
    "## 5.3 Few-Shot Prompting Template"
   ]
  },
  {
   "cell_type": "code",
   "execution_count": 715,
   "id": "e6fb03f1-5f62-466c-b4c4-99b6129718d1",
   "metadata": {},
   "outputs": [],
   "source": [
    "PLACEHOLDER_FS_EXAMPLES = 'PLACEHOLDER_FS_EXAMPLES'\n",
    "PLACEHOLDER_PREDICTION = 'PLACEHOLDER_PREDICTION'"
   ]
  },
  {
   "cell_type": "code",
   "execution_count": 716,
   "id": "47c5db54-63a5-40a9-89a5-cef9ad0f51f4",
   "metadata": {},
   "outputs": [],
   "source": [
    "FS_TEMPLATE_MATCH = \"You are given a user story in the context of a graphical user interface. In addition to the user story, you are also given a textual representation of a graphical user interface. The GUI is organized as a two-level bullet point list, the outer points representing layouting groups and the inner points the user interface features contained in that layouting group. Each feature is represented in the following abstract pattern: 'text' (ui component type) (semantic description of ui component) (id), the 'text' being the visual text of the component and the 'id' being a number identifying each component. Your task is to extract a list of ids belonging to all user interface components that are requried to fulfill the user story. Do not provide any explanation. As your output, write a python list of the ids. PLACEHOLDER_FS_EXAMPLES \\n\\nuser story: 'PLACEHOLDER_US' \\n\\ngraphical user interface description: PLACEHOLDER_GUI \\n\\noutput:\""
   ]
  },
  {
   "cell_type": "code",
   "execution_count": 717,
   "id": "91b23840-8ec5-48d1-8f31-5ce250095fd5",
   "metadata": {},
   "outputs": [
    {
     "name": "stdout",
     "output_type": "stream",
     "text": [
      "You are given a user story in the context of a graphical user interface. In addition to the user story, you are also given a textual representation of a graphical user interface. The GUI is organized as a two-level bullet point list, the outer points representing layouting groups and the inner points the user interface features contained in that layouting group. Each feature is represented in the following abstract pattern: 'text' (ui component type) (semantic description of ui component) (id), the 'text' being the visual text of the component and the 'id' being a number identifying each component. Your task is to extract a list of ids belonging to all user interface components that are requried to fulfill the user story. Do not provide any explanation. As your output, write a python list of the ids. PLACEHOLDER_FS_EXAMPLES \n",
      "\n",
      "user story: 'PLACEHOLDER_US' \n",
      "\n",
      "graphical user interface description: PLACEHOLDER_GUI \n",
      "\n",
      "output:\n"
     ]
    }
   ],
   "source": [
    "print(FS_TEMPLATE_MATCH)"
   ]
  },
  {
   "cell_type": "code",
   "execution_count": 726,
   "id": "28fd0eb7-3520-4e91-ab34-05fc513c21f7",
   "metadata": {},
   "outputs": [],
   "source": [
    "few_shot_example_templates = []\n",
    "curr_few_shot_examples = \"\"\n",
    "for index, row in df_user_stories_and_rico_comp_match_train.iterrows():\n",
    "    curr_example = \"\\n\\nuser story: 'PLACEHOLDER_US' \\n\\ngraphical user interface description: PLACEHOLDER_GUI \\n\\noutput:PLACEHOLDER_PREDICTION\"\n",
    "    prediction = str([int(elem) for elem in row['comp_ids']])\n",
    "    curr_example = curr_example.replace(PLACEHOLDER_US, row['user_story']).replace(PLACEHOLDER_GUI, row['gui_abstraction']).replace(PLACEHOLDER_PREDICTION, prediction)\n",
    "    curr_few_shot_examples += curr_example\n",
    "    if (index+1)%5==0:\n",
    "        fs_template_example = FS_TEMPLATE_MATCH.replace(PLACEHOLDER_FS_EXAMPLES, curr_few_shot_examples)\n",
    "        few_shot_example_templates.append(fs_template_example)\n",
    "        with open('data/user_stories/dataset/few_shot_prompts/extraction/few_shot_prompt_'+str((index+1))+'.txt', \"w\") as file:\n",
    "            file.write(fs_template_example)\n",
    "df_user_stories_and_rico['few_shot_prompt_5'] = df_user_stories_and_rico.apply(lambda row: few_shot_example_templates[0].replace(PLACEHOLDER_US, row['user_story']).replace(PLACEHOLDER_GUI,row['gui_abstraction']), axis=1)"
   ]
  },
  {
   "cell_type": "code",
   "execution_count": 727,
   "id": "e97ee140-9db7-4996-ada2-0108e2541cf9",
   "metadata": {},
   "outputs": [],
   "source": [
    "df_user_stories_and_rico_comp_match['few_shot_prompt_match_5'] = df_user_stories_and_rico_comp_match.apply(lambda row: few_shot_example_templates[0].replace(PLACEHOLDER_US, row['user_story']).replace(PLACEHOLDER_GUI,row['gui_abstraction']), axis=1)\n",
    "df_user_stories_and_rico_comp_match['few_shot_prompt_match_5_prediction'] = df_user_stories_and_rico_comp_match.apply(lambda row: generate_completion(row['few_shot_prompt_match_5'], model='gpt-4', temp=0, n=1, return_obj=False)[0], axis=1)\n",
    "df_user_stories_and_rico_comp_match['few_shot_prompt_match_5_prediction_parsed'] = df_user_stories_and_rico_comp_match['few_shot_prompt_match_5_prediction'].apply(ast.literal_eval)\n",
    "df_user_stories_and_rico_comp_match['few_shot_prompt_match_5_prediction_parsed'] = df_user_stories_and_rico_comp_match['few_shot_prompt_match_5_prediction_parsed'].apply(lambda x: [str(elem) for elem in x])\n",
    "df_user_stories_and_rico_comp_match['few_shot_prompt_match_5_eval_mac'] = df_user_stories_and_rico_comp_match.apply(lambda row: compute_match_eval(row['comp_ids'], row['few_shot_prompt_match_5_prediction_parsed']), axis=1)\n",
    "df_user_stories_and_rico_comp_match['few_shot_prompt_match_5_eval_mic'] = df_user_stories_and_rico_comp_match.apply(lambda row: compute_binary_y(row['comp_ids'], row['few_shot_prompt_match_5_prediction_parsed']), axis=1)"
   ]
  },
  {
   "cell_type": "code",
   "execution_count": 732,
   "id": "ffd57e45-88c3-4281-941d-3d6d4c34f102",
   "metadata": {},
   "outputs": [
    {
     "data": {
      "text/html": [
       "<div>\n",
       "<style scoped>\n",
       "    .dataframe tbody tr th:only-of-type {\n",
       "        vertical-align: middle;\n",
       "    }\n",
       "\n",
       "    .dataframe tbody tr th {\n",
       "        vertical-align: top;\n",
       "    }\n",
       "\n",
       "    .dataframe thead th {\n",
       "        text-align: right;\n",
       "    }\n",
       "</style>\n",
       "<table border=\"1\" class=\"dataframe\">\n",
       "  <thead>\n",
       "    <tr style=\"text-align: right;\">\n",
       "      <th></th>\n",
       "      <th>comp_ids</th>\n",
       "      <th>few_shot_prompt_match_5_prediction_parsed</th>\n",
       "      <th>few_shot_prompt_match_5_eval_mac</th>\n",
       "      <th>few_shot_prompt_match_5_eval_mic</th>\n",
       "    </tr>\n",
       "  </thead>\n",
       "  <tbody>\n",
       "    <tr>\n",
       "      <th>0</th>\n",
       "      <td>[26]</td>\n",
       "      <td>[26]</td>\n",
       "      <td>(1.0, 1.0, 1.0)</td>\n",
       "      <td>([1], [1])</td>\n",
       "    </tr>\n",
       "    <tr>\n",
       "      <th>1</th>\n",
       "      <td>[12, 11, 10, 9, 8, 7, 6, 5]</td>\n",
       "      <td>[11, 9, 7]</td>\n",
       "      <td>(1.0, 0.375, 0.5454545454545454)</td>\n",
       "      <td>([1, 1, 1, 1, 1, 1, 1, 1], [1, 1, 1, 0, 0, 0, 0, 0])</td>\n",
       "    </tr>\n",
       "    <tr>\n",
       "      <th>2</th>\n",
       "      <td>[9, 8, 7, 6, 5, 4, 3, 2, 1, 0]</td>\n",
       "      <td>[12, 10, 11, 7, 5, 6, 2, 0, 1]</td>\n",
       "      <td>(0.6666666666666666, 0.6, 0.631578947368421)</td>\n",
       "      <td>([1, 1, 1, 1, 1, 1, 0, 0, 0, 1, 1, 1, 1], [1, 1, 1, 1, 1, 1, 1, 1, 1, 0, 0, 0, 0])</td>\n",
       "    </tr>\n",
       "    <tr>\n",
       "      <th>3</th>\n",
       "      <td>[11, 5, 0]</td>\n",
       "      <td>[11, 5, 0]</td>\n",
       "      <td>(1.0, 1.0, 1.0)</td>\n",
       "      <td>([1, 1, 1], [1, 1, 1])</td>\n",
       "    </tr>\n",
       "    <tr>\n",
       "      <th>4</th>\n",
       "      <td>[60, 61]</td>\n",
       "      <td>[60]</td>\n",
       "      <td>(1.0, 0.5, 0.6666666666666666)</td>\n",
       "      <td>([1, 1], [1, 0])</td>\n",
       "    </tr>\n",
       "    <tr>\n",
       "      <th>5</th>\n",
       "      <td>[1, 2]</td>\n",
       "      <td>[1, 2]</td>\n",
       "      <td>(1.0, 1.0, 1.0)</td>\n",
       "      <td>([1, 1], [1, 1])</td>\n",
       "    </tr>\n",
       "    <tr>\n",
       "      <th>6</th>\n",
       "      <td>[5]</td>\n",
       "      <td>[]</td>\n",
       "      <td>(0, 0.0, 0)</td>\n",
       "      <td>([1], [0])</td>\n",
       "    </tr>\n",
       "    <tr>\n",
       "      <th>7</th>\n",
       "      <td>[10, 9, 8, 7, 6]</td>\n",
       "      <td>[10, 9, 8, 7, 6]</td>\n",
       "      <td>(1.0, 1.0, 1.0)</td>\n",
       "      <td>([1, 1, 1, 1, 1], [1, 1, 1, 1, 1])</td>\n",
       "    </tr>\n",
       "    <tr>\n",
       "      <th>8</th>\n",
       "      <td>[3]</td>\n",
       "      <td>[3]</td>\n",
       "      <td>(1.0, 1.0, 1.0)</td>\n",
       "      <td>([1], [1])</td>\n",
       "    </tr>\n",
       "    <tr>\n",
       "      <th>9</th>\n",
       "      <td>[16, 5]</td>\n",
       "      <td>[16, 20]</td>\n",
       "      <td>(0.5, 0.5, 0.5)</td>\n",
       "      <td>([1, 0, 1], [1, 1, 0])</td>\n",
       "    </tr>\n",
       "  </tbody>\n",
       "</table>\n",
       "</div>"
      ],
      "text/plain": [
       "                         comp_ids few_shot_prompt_match_5_prediction_parsed              few_shot_prompt_match_5_eval_mac                                                    few_shot_prompt_match_5_eval_mic\n",
       "0                            [26]                                      [26]                               (1.0, 1.0, 1.0)                                                                          ([1], [1])\n",
       "1     [12, 11, 10, 9, 8, 7, 6, 5]                                [11, 9, 7]              (1.0, 0.375, 0.5454545454545454)                                ([1, 1, 1, 1, 1, 1, 1, 1], [1, 1, 1, 0, 0, 0, 0, 0])\n",
       "2  [9, 8, 7, 6, 5, 4, 3, 2, 1, 0]            [12, 10, 11, 7, 5, 6, 2, 0, 1]  (0.6666666666666666, 0.6, 0.631578947368421)  ([1, 1, 1, 1, 1, 1, 0, 0, 0, 1, 1, 1, 1], [1, 1, 1, 1, 1, 1, 1, 1, 1, 0, 0, 0, 0])\n",
       "3                      [11, 5, 0]                                [11, 5, 0]                               (1.0, 1.0, 1.0)                                                              ([1, 1, 1], [1, 1, 1])\n",
       "4                        [60, 61]                                      [60]                (1.0, 0.5, 0.6666666666666666)                                                                    ([1, 1], [1, 0])\n",
       "5                          [1, 2]                                    [1, 2]                               (1.0, 1.0, 1.0)                                                                    ([1, 1], [1, 1])\n",
       "6                             [5]                                        []                                   (0, 0.0, 0)                                                                          ([1], [0])\n",
       "7                [10, 9, 8, 7, 6]                          [10, 9, 8, 7, 6]                               (1.0, 1.0, 1.0)                                                  ([1, 1, 1, 1, 1], [1, 1, 1, 1, 1])\n",
       "8                             [3]                                       [3]                               (1.0, 1.0, 1.0)                                                                          ([1], [1])\n",
       "9                         [16, 5]                                  [16, 20]                               (0.5, 0.5, 0.5)                                                              ([1, 0, 1], [1, 1, 0])"
      ]
     },
     "execution_count": 732,
     "metadata": {},
     "output_type": "execute_result"
    }
   ],
   "source": [
    "df_user_stories_and_rico_comp_match[['comp_ids', 'few_shot_prompt_match_5_prediction_parsed', 'few_shot_prompt_match_5_eval_mac', 'few_shot_prompt_match_5_eval_mic']][:10]"
   ]
  },
  {
   "cell_type": "markdown",
   "id": "284a2132-fd5c-4cde-b28d-08cc8afef99d",
   "metadata": {},
   "source": [
    "## 5.4 Evaluation"
   ]
  },
  {
   "cell_type": "code",
   "execution_count": 37,
   "id": "7afa5e9c-58a7-4cdd-98dd-1bd128a8ddff",
   "metadata": {},
   "outputs": [
    {
     "name": "stdout",
     "output_type": "stream",
     "text": [
      "method       Mac-Precision    Mac-Recall    Mac-F1    Mic-Precision    Mic-Recall    Mic-F1    Mic-Acc\n",
      "-----------  ---------------  ------------  --------  ---------------  ------------  --------  ---------\n",
      "zero_shot_1  &.784            &.819         &.755     &.62             &.755         &.681     &.516\n",
      "zero_shot_2  &.718            &.903         &.743     &.502            &.858         &.633     &.463\n",
      "few_shot_5   &.85             &.755         &.765     &.677            &.643         &.659     &.492\n",
      "cot_0        &.758            &.806         &.727     &.557            &.731         &.632     &.462\n",
      "cot_05       &.721            &.788         &.688     &.492            &.71          &.581     &.409\n",
      "cot_1        &.698            &.809         &.69      &.534            &.746         &.622     &.452\n",
      "cot_13       &.677            &.74          &.654     &.562            &.646         &.601     &.43\n"
     ]
    }
   ],
   "source": [
    "def beautify_score(score, digits):\n",
    "    score = round(score, digits)\n",
    "    score = '.' + str(score).split('.')[1]  if score < 1.0 else '1.0'\n",
    "    return score\n",
    "\n",
    "def compute_results(dataset, method, digits=3, delimiter='|'):\n",
    "    results = [method[2]]\n",
    "    # Compute macro values\n",
    "    eval_results = dataset[method[0]].values.tolist()\n",
    "    macro_precision = np.mean([elem[0] for elem in eval_results])\n",
    "    macro_recall = np.mean([elem[1] for elem in eval_results])\n",
    "    macro_f1 = np.mean([elem[2] for elem in eval_results])\n",
    "    results.append(delimiter+str(beautify_score(macro_precision, digits=digits)))\n",
    "    results.append(delimiter+str(beautify_score(macro_recall, digits=digits)))\n",
    "    results.append(delimiter+str(beautify_score(macro_f1, digits=digits)))\n",
    "    # Compute micro values\n",
    "    eval_results_mic = dataset[method[1]].values.tolist()\n",
    "    y_true = [elem[0] for elem in eval_results_mic]\n",
    "    y_true = [item for elem in y_true for item in elem]\n",
    "    y_pred = [elem[1] for elem in eval_results_mic]\n",
    "    y_pred = [item for elem in y_pred for item in elem]\n",
    "    results.append(delimiter+str(beautify_score(precision_score(y_true, y_pred), digits=digits)))\n",
    "    results.append(delimiter+str(beautify_score(recall_score(y_true, y_pred), digits=digits)))\n",
    "    results.append(delimiter+str(beautify_score(f1_score(y_true, y_pred), digits=digits)))\n",
    "    results.append(delimiter+str(beautify_score(accuracy_score(y_true, y_pred), digits=digits)))\n",
    "    return results\n",
    "\n",
    "result_table = []\n",
    "\n",
    "models = [('zero_shot_match_1_eval_mac', 'zero_shot_match_1_eval_mic', 'zero_shot_1'), \n",
    "          ('zero_shot_match_2_eval_mac', 'zero_shot_match_2_eval_mic', 'zero_shot_2'),\n",
    "         ('few_shot_prompt_match_5_eval_mac', 'few_shot_prompt_match_5_eval_mic', 'few_shot_5'),\n",
    "         ('cot_match_t0_eval_mac', 'cot_match_t0_eval_mic', 'cot_0'),\n",
    "          ('cot_match_t05_eval_mac', 'cot_match_t05_eval_mic', 'cot_05'),\n",
    "         ('cot_match_t1_eval_mac', 'cot_match_t1_eval_mic', 'cot_1'),\n",
    "         ('cot_match_t13_eval_mac', 'cot_match_t13_eval_mic', 'cot_13')]\n",
    "\n",
    "for model in models:\n",
    "    results_model = compute_results(df_user_stories_and_rico_comp_match, model, delimiter='&')\n",
    "    result_table.append(results_model)\n",
    "\n",
    "# Construct the final table of the overall results\n",
    "header = ['method']\n",
    "header.extend(['Mac-Precision', 'Mac-Recall', 'Mac-F1', 'Mic-Precision', 'Mic-Recall', 'Mic-F1', 'Mic-Acc'])\n",
    "tabulated_table = tabulate(tabular_data=result_table, headers=header)\n",
    "print(tabulated_table)"
   ]
  },
  {
   "cell_type": "code",
   "execution_count": 40,
   "id": "c30ddb13-6525-48e6-b06a-378ed8bdad44",
   "metadata": {},
   "outputs": [],
   "source": [
    "from scipy.stats import wilcoxon\n",
    "\n",
    "def compute_wilcoxon_signed_rank_test(model_1, model_2, metric, dataset):\n",
    "    eval_results_mac_1 = dataset[model_1].values.tolist()\n",
    "    y_prec_model_1 = [elem[metric] for elem in eval_results_mac_1]\n",
    "    eval_results_mac_2 = dataset[model_2].values.tolist()\n",
    "    y_prec_model_2 = [elem[metric] for elem in eval_results_mac_2]\n",
    "    print(wilcoxon(y_prec_model_1, y_prec_model_2))"
   ]
  },
  {
   "cell_type": "code",
   "execution_count": 43,
   "id": "a648038c-0d91-43ea-8c39-abb70ee0c51d",
   "metadata": {},
   "outputs": [
    {
     "name": "stdout",
     "output_type": "stream",
     "text": [
      "WilcoxonResult(statistic=1774.5, pvalue=0.5545757800578714)\n"
     ]
    }
   ],
   "source": [
    "compute_wilcoxon_signed_rank_test('zero_shot_match_1_eval_mac', 'zero_shot_match_2_eval_mac', 2, df_user_stories_and_rico_comp_match)"
   ]
  },
  {
   "cell_type": "code",
   "execution_count": 45,
   "id": "4e7dbcc9-c191-45ac-adde-ea0a7a222bde",
   "metadata": {},
   "outputs": [
    {
     "name": "stdout",
     "output_type": "stream",
     "text": [
      "WilcoxonResult(statistic=2483.5, pvalue=0.8863503269755024)\n"
     ]
    }
   ],
   "source": [
    "compute_wilcoxon_signed_rank_test('zero_shot_match_1_eval_mac', 'few_shot_prompt_match_5_eval_mac', 2, df_user_stories_and_rico_comp_match)"
   ]
  },
  {
   "cell_type": "code",
   "execution_count": 48,
   "id": "da6a8ef6-5630-4d6f-86a9-ebcb58cff928",
   "metadata": {},
   "outputs": [
    {
     "name": "stdout",
     "output_type": "stream",
     "text": [
      "WilcoxonResult(statistic=1267.0, pvalue=0.12575821715768823)\n"
     ]
    }
   ],
   "source": [
    "compute_wilcoxon_signed_rank_test('zero_shot_match_1_eval_mac', 'cot_match_t0_eval_mac', 2, df_user_stories_and_rico_comp_match)"
   ]
  },
  {
   "cell_type": "code",
   "execution_count": 49,
   "id": "e64611ca-9741-498a-a730-6abac447b239",
   "metadata": {},
   "outputs": [
    {
     "name": "stdout",
     "output_type": "stream",
     "text": [
      "WilcoxonResult(statistic=1440.0, pvalue=0.0007472199498632703)\n"
     ]
    }
   ],
   "source": [
    "compute_wilcoxon_signed_rank_test('zero_shot_match_1_eval_mac', 'cot_match_t1_eval_mac', 2, df_user_stories_and_rico_comp_match)"
   ]
  },
  {
   "cell_type": "code",
   "execution_count": 50,
   "id": "4bf54e88-d889-4c34-a485-ac567636ef7d",
   "metadata": {},
   "outputs": [
    {
     "name": "stdout",
     "output_type": "stream",
     "text": [
      "WilcoxonResult(statistic=2709.0, pvalue=0.00243841048489151)\n"
     ]
    }
   ],
   "source": [
    "compute_wilcoxon_signed_rank_test('few_shot_prompt_match_5_eval_mac', 'cot_match_t1_eval_mac', 2, df_user_stories_and_rico_comp_match)"
   ]
  },
  {
   "cell_type": "code",
   "execution_count": 51,
   "id": "8db2a118-282d-4bc5-8a7d-8882363e2158",
   "metadata": {},
   "outputs": [
    {
     "name": "stdout",
     "output_type": "stream",
     "text": [
      "WilcoxonResult(statistic=2420.5, pvalue=0.04269059783284989)\n"
     ]
    }
   ],
   "source": [
    "compute_wilcoxon_signed_rank_test('few_shot_prompt_match_5_eval_mac', 'cot_match_t0_eval_mac', 2, df_user_stories_and_rico_comp_match)"
   ]
  },
  {
   "cell_type": "code",
   "execution_count": 823,
   "id": "42aaba05-2d29-4ed2-ad64-275220dbef54",
   "metadata": {},
   "outputs": [],
   "source": [
    "df_user_stories_and_rico_comp_match[['rico_id', 'user_story', 'comp_ids', 'zero_shot_match_1_prediction_parsed', 'zero_shot_match_1_eval_mac',\n",
    "                                     'zero_shot_match_2_prediction_parsed', 'zero_shot_match_2_eval_mac', 'few_shot_prompt_match_5_prediction_parsed',\n",
    "                                     'few_shot_prompt_match_5_eval_mac', 'cot_match_t0_prediction_parsed', 'cot_match_t0_eval_mac', 'cot_match_t0_prediction_explanation',\n",
    "                                     'cot_match_t05_prediction_parsed', 'cot_match_t05_eval_mac', 'cot_match_t05_prediction_explanation',\n",
    "                                     'cot_match_t1_prediction_parsed', 'cot_match_t1_eval_mac', 'cot_match_t1_prediction_explanation',\n",
    "                                     'cot_match_t13_prediction_parsed', 'cot_match_t13_eval_mac', 'cot_match_t13_prediction_explanation',\n",
    "                                     'gui_abstraction']].to_csv('data/user_stories/dataset/05_test_results_matching/test_us_data_results_matching.csv', index=False)"
   ]
  }
 ],
 "metadata": {
  "kernelspec": {
   "display_name": "Python 3 (ipykernel)",
   "language": "python",
   "name": "python3"
  },
  "language_info": {
   "codemirror_mode": {
    "name": "ipython",
    "version": 3
   },
   "file_extension": ".py",
   "mimetype": "text/x-python",
   "name": "python",
   "nbconvert_exporter": "python",
   "pygments_lexer": "ipython3",
   "version": "3.8.0"
  }
 },
 "nbformat": 4,
 "nbformat_minor": 5
}
