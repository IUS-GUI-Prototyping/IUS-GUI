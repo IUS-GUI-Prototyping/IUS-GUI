{
 "cells": [
  {
   "cell_type": "code",
   "execution_count": 1,
   "id": "1ef378f3-5728-4ded-a280-64862f1dfd35",
   "metadata": {},
   "outputs": [],
   "source": [
    "from typing import Text, Generator, Tuple, List, Optional, Dict, Set\n",
    "import pandas as pd\n",
    "import numpy as np\n",
    "from ast import literal_eval\n",
    "import matplotlib.pyplot as plt\n",
    "import seaborn as sns\n",
    "import pickle\n",
    "import os\n",
    "import json\n",
    "import re\n",
    "import ast\n",
    "import copy\n",
    "import imgkit\n",
    "from tabulate import tabulate\n",
    "sns.set_theme()\n",
    "\n",
    "config = imgkit.config(wkhtmltoimage='C:/Program Files/wkhtmltopdf/bin/wkhtmltoimage.exe')\n",
    "\n",
    "pd.set_option('display.max_rows', 500)\n",
    "pd.set_option('display.max_columns', 500)\n",
    "pd.set_option('display.width', 5000)\n",
    "pd.set_option('display.max_colwidth', 5000)\n",
    "pd.options.display.float_format = '{:.2f}'.format"
   ]
  },
  {
   "cell_type": "markdown",
   "id": "1c291ccd-f0c5-4021-a2ef-c59eb6a28c27",
   "metadata": {},
   "source": [
    "# 1. Load Datasets"
   ]
  },
  {
   "cell_type": "code",
   "execution_count": 2,
   "id": "9e2031e7-8aba-4af3-98c8-47135821e25a",
   "metadata": {},
   "outputs": [],
   "source": [
    "df_classification = pd.read_csv('data/user_stories/dataset/07_test_predictions/test_us_data_annotated_prediction_min.csv')\n",
    "df_classification['comp_ids'] = df_classification['comp_ids'].apply(ast.literal_eval)\n",
    "\n",
    "df_matching = pd.read_csv('data/user_stories/dataset/06_test_train_split_annotated/test_us_data_annotated_match.csv')\n",
    "\n",
    "df_matching['comp_ids'] = df_matching['comp_ids'].apply(ast.literal_eval)\n",
    "\n",
    "df_matching['zero_shot_match_1_prediction_parsed'] = df_matching['zero_shot_match_1_prediction_parsed'].apply(ast.literal_eval)\n",
    "df_matching['zero_shot_match_1_eval_mac'] = df_matching['zero_shot_match_1_eval_mac'].apply(ast.literal_eval)\n",
    "df_matching['zero_shot_match_1_eval_mic'] = df_matching['zero_shot_match_1_eval_mic'].apply(ast.literal_eval)\n",
    "\n",
    "df_matching['zero_shot_match_2_prediction_parsed'] = df_matching['zero_shot_match_2_prediction_parsed'].apply(ast.literal_eval)\n",
    "df_matching['zero_shot_match_2_eval_mac'] = df_matching['zero_shot_match_2_eval_mac'].apply(ast.literal_eval)\n",
    "df_matching['zero_shot_match_2_eval_mic'] = df_matching['zero_shot_match_2_eval_mic'].apply(ast.literal_eval)\n",
    "\n",
    "df_matching['few_shot_prompt_match_5_prediction_parsed'] = df_matching['few_shot_prompt_match_5_prediction_parsed'].apply(ast.literal_eval)\n",
    "df_matching['few_shot_prompt_match_5_eval_mac'] = df_matching['few_shot_prompt_match_5_eval_mac'].apply(ast.literal_eval)\n",
    "df_matching['few_shot_prompt_match_5_eval_mic'] = df_matching['few_shot_prompt_match_5_eval_mic'].apply(ast.literal_eval)\n",
    "\n",
    "df_matching['cot_match_t0_prediction_parsed'] = df_matching['cot_match_t0_prediction_parsed'].apply(ast.literal_eval)\n",
    "df_matching['cot_match_t0_eval_mac'] = df_matching['cot_match_t0_eval_mac'].apply(ast.literal_eval)\n",
    "df_matching['cot_match_t0_eval_mic'] = df_matching['cot_match_t0_eval_mic'].apply(ast.literal_eval)\n",
    "\n",
    "df_matching['cot_match_t05_prediction_parsed'] = df_matching['cot_match_t05_prediction_parsed'].apply(ast.literal_eval)\n",
    "df_matching['cot_match_t05_eval_mac'] = df_matching['cot_match_t05_eval_mac'].apply(ast.literal_eval)\n",
    "df_matching['cot_match_t05_eval_mic'] = df_matching['cot_match_t05_eval_mic'].apply(ast.literal_eval)\n",
    "\n",
    "df_matching['cot_match_t1_prediction_parsed'] = df_matching['cot_match_t1_prediction_parsed'].apply(ast.literal_eval)\n",
    "df_matching['cot_match_t1_eval_mac'] = df_matching['cot_match_t1_eval_mac'].apply(ast.literal_eval)\n",
    "df_matching['cot_match_t1_eval_mic'] = df_matching['cot_match_t1_eval_mic'].apply(ast.literal_eval)\n",
    "\n",
    "df_matching['cot_match_t13_prediction_parsed'] = df_matching['cot_match_t13_prediction_parsed'].apply(ast.literal_eval)\n",
    "df_matching['cot_match_t13_eval_mac'] = df_matching['cot_match_t13_eval_mac'].apply(ast.literal_eval)\n",
    "df_matching['cot_match_t13_eval_mic'] = df_matching['cot_match_t13_eval_mic'].apply(ast.literal_eval)"
   ]
  },
  {
   "cell_type": "markdown",
   "id": "96db4cab-5059-4307-b01f-ab36a70b5fd5",
   "metadata": {},
   "source": [
    "# 1. Detection"
   ]
  },
  {
   "cell_type": "markdown",
   "id": "0bb04caf-b2ca-4713-a920-19e152d97155",
   "metadata": {},
   "source": [
    "## 1.1 False Positives"
   ]
  },
  {
   "cell_type": "code",
   "execution_count": 6,
   "id": "20cdc384-4745-4ce3-a2af-9c16ae708721",
   "metadata": {},
   "outputs": [],
   "source": [
    "df_classification_fp = df_classification[(df_classification['cot_t1_prediction']==1) & (df_classification['label']==0)]"
   ]
  },
  {
   "cell_type": "markdown",
   "id": "3636a248-40aa-451e-b176-cd3d13088909",
   "metadata": {},
   "source": [
    "### Example 1"
   ]
  },
  {
   "cell_type": "code",
   "execution_count": 9,
   "id": "afa4aa61-9522-44cf-8e6d-1fd9bb500b1c",
   "metadata": {},
   "outputs": [],
   "source": [
    "example_id = 2"
   ]
  },
  {
   "cell_type": "code",
   "execution_count": 10,
   "id": "fe927ba8-879f-45e3-93c9-ae1d31a5c967",
   "metadata": {},
   "outputs": [
    {
     "data": {
      "text/plain": [
       "203"
      ]
     },
     "execution_count": 10,
     "metadata": {},
     "output_type": "execute_result"
    }
   ],
   "source": [
    "df_classification_fp.iloc[example_id]['rico_id']"
   ]
  },
  {
   "cell_type": "code",
   "execution_count": 11,
   "id": "2c8a3207-6942-44a8-bc71-e5528a506405",
   "metadata": {},
   "outputs": [
    {
     "data": {
      "text/plain": [
       "['6', '7', '8']"
      ]
     },
     "execution_count": 11,
     "metadata": {},
     "output_type": "execute_result"
    }
   ],
   "source": [
    "df_classification_fp.iloc[example_id]['comp_ids']"
   ]
  },
  {
   "cell_type": "code",
   "execution_count": 12,
   "id": "b56c6cc2-d1fc-45e4-831d-7de71ab2b5e4",
   "metadata": {},
   "outputs": [
    {
     "data": {
      "text/plain": [
       "\"As a data-driven dieter, I want to mark my days as 'complete' so that my information can be accurately included in weekly and monthly analyses.\""
      ]
     },
     "execution_count": 12,
     "metadata": {},
     "output_type": "execute_result"
    }
   ],
   "source": [
    "df_classification_fp.iloc[example_id]['user_story']"
   ]
  },
  {
   "cell_type": "code",
   "execution_count": 13,
   "id": "64100b8b-cdfe-4b9c-8c7b-ea007986e2af",
   "metadata": {},
   "outputs": [
    {
     "name": "stdout",
     "output_type": "stream",
     "text": [
      "- Toolbar\n",
      "\t- \"check\" (Icon) (done)\n",
      "\t- \"emoji\" (Icon) (home)\n",
      "\t- \"Preferences\" (Label) (title)\n",
      "\t- \"arrow backward\" (Icon) (up)\n",
      "- Layout\n",
      "\t- \"Preferences\" (Label) (title)\n",
      "- List Item\n",
      "\t- \"Show Notification\" (Label) (title)\n",
      "\t- (Checkbox) ()\n",
      "\t- \"Calorie Count displays a helpful Android notification that shows you the current day's stat.\" (Label) (summary)\n",
      "- List Item\n",
      "\t- \"Show Update Reminder\" (Label) (title)\n",
      "\t- (Checkbox) ()\n",
      "\t- \"When there is a new version of Calorie Count on Google Play, a friendly reminder will pop up when you open the app.\" (Label) (summary)\n",
      "- List Item\n",
      "\t- \"Default Home Screen\" (Label) (title)\n",
      "\t- \"We strongly encourage you to participate in Calorie Camp. But you also have option to change your home screen.\" (Label) (summary)\n",
      "- Layout\n",
      "\t- \"Foog Log Setting\" (Label) (title)\n",
      "- List Item\n",
      "\t- \"Redirect to Calorie Camp\" (Label) (title)\n",
      "\t- (Checkbox) ()\n",
      "\t- \"Submitting a report to Calorie Camp allows you to earn points and badges, and to leave comments on your own days.\" (Label) (summary)\n",
      "- Layout\n",
      "\t- \"Social Networks\" (Label) (title)\n",
      "- List Item\n",
      "\t- \"facebook\" (Icon) ()\n",
      "\t- \"Facebook\" (Label) (title)\n",
      "\n"
     ]
    }
   ],
   "source": [
    "print(df_classification_fp.iloc[example_id]['gui_abstraction'])"
   ]
  },
  {
   "cell_type": "markdown",
   "id": "b7d96ccb-1c56-494b-a5bf-b656aaefa9ee",
   "metadata": {},
   "source": [
    "### Example 2"
   ]
  },
  {
   "cell_type": "code",
   "execution_count": 18,
   "id": "d3fe7146-1e69-40a5-8c5c-f64e7eb7527a",
   "metadata": {},
   "outputs": [],
   "source": [
    "example_id = 3"
   ]
  },
  {
   "cell_type": "code",
   "execution_count": 19,
   "id": "d20ae030-9aed-4ac0-9240-dc7f3d138e0e",
   "metadata": {},
   "outputs": [
    {
     "data": {
      "text/plain": [
       "\"As a user who is not familiar with the area I'm in, I want to see the addresses of the nearest stores, so that I can navigate to them.\""
      ]
     },
     "execution_count": 19,
     "metadata": {},
     "output_type": "execute_result"
    }
   ],
   "source": [
    "df_classification_fp.iloc[example_id]['user_story']"
   ]
  },
  {
   "cell_type": "code",
   "execution_count": 20,
   "id": "552b6ff4-b275-447f-95c7-898457242651",
   "metadata": {},
   "outputs": [
    {
     "data": {
      "text/plain": [
       "['12', '11', '1', '0']"
      ]
     },
     "execution_count": 20,
     "metadata": {},
     "output_type": "execute_result"
    }
   ],
   "source": [
    "df_classification_fp.iloc[example_id]['comp_ids']"
   ]
  },
  {
   "cell_type": "code",
   "execution_count": 21,
   "id": "27fec7e4-a7b2-4924-9704-f96df4e82f53",
   "metadata": {},
   "outputs": [
    {
     "name": "stdout",
     "output_type": "stream",
     "text": [
      "- Toolbar\n",
      "\t- \"search\" (Icon) (search)\n",
      "\t- \"menu\" (Icon) (home)\n",
      "\t- \"cart\" (Icon) (cart imageview)\n",
      "\t- \"Store Results\" (Label) (title)\n",
      "- List Item\n",
      "\t- \"Stores Near\" (Label) (store locator stores near me caption)\n",
      "\t- (Image) (store locator map loader)\n",
      "\t- \"20 Stores\" (Label) (store locator store results)\n",
      "\t- \"Enter a Zip code, or City and State\" (Label)\n",
      "\t- \"Example: New York, NY -or- '12345'\" (Text Input) (storelocator location)\n",
      "\t- \"Find Stores\" (Button) (store locator find stores)\n",
      "- List Item\n",
      "\t- \"1.\" (Label) (storelocator item position)\n",
      "\t- \"SAN FRANCISCO,Store #6498\" (Button) (storelocator address line1)\n",
      "\t- \"arrow forward\" (Icon) (storelocator item navigator)\n",
      "\t- \"3.24 miles\" (Label) (storelocator mile)\n",
      "\t- \"(415) 831-1080\" (Button) (storelocator phone contactinfo)\n",
      "\t- (Image) (storelocator brand logo)\n",
      "\t- \"Store Hours: 08:00AM-09:00PM\" (Label) (storelocator storehours)\n",
      "\t- \"Set as My Store\" (Button) (storelocator setasmystore)\n",
      "\t- \"View Weekly Ads\" (Button) (storelocator weeklyads)\n",
      "- List Item\n",
      "\t- \"2.\" (Label) (storelocator item position)\n",
      "\t- \"SAN FRANCISCO,Store #6368\" (Button) (storelocator address line1)\n",
      "\t- \"arrow forward\" (Icon) (storelocator item navigator)\n",
      "\t- \"3.52 miles\" (Label) (storelocator mile)\n",
      "\t- \"(415) 252-7611\" (Button) (storelocator phone contactinfo)\n",
      "\t- (Image) (storelocator brand logo)\n",
      "\t- \"Store Hours: 08:00AM-09:00PM\" (Label) (storelocator storehours)\n",
      "\t- \"Set as My Store\" (Button) (storelocator setasmystore)\n",
      "\t- \"View Weekly Ads\" (Button) (storelocator weeklyads)\n",
      "\n"
     ]
    }
   ],
   "source": [
    "print(df_classification_fp.iloc[example_id]['gui_abstraction'])"
   ]
  },
  {
   "cell_type": "code",
   "execution_count": 22,
   "id": "59f6537f-ec58-4d87-bf19-902f690ac6cd",
   "metadata": {},
   "outputs": [
    {
     "name": "stdout",
     "output_type": "stream",
     "text": [
      "the user wants to see the addresses of the nearest stores. from the gui description, we can see that there is a 'store locator' function involved. within the 'list item', the addresses of the nearby stores are listed as seen in components like \"san francisco,store #6498\" and \"san francisco,store #6368\" which are the address line of the stores. this means that the user can view the addresses of the nearest stores on the gui.\n"
     ]
    }
   ],
   "source": [
    "print(df_classification_fp.iloc[example_id]['cot_t1_explanation'])"
   ]
  },
  {
   "cell_type": "markdown",
   "id": "cb837cc9-d616-4cae-8a3a-9f3bf2a7a872",
   "metadata": {},
   "source": [
    "# 1.2 False Negatives"
   ]
  },
  {
   "cell_type": "code",
   "execution_count": 26,
   "id": "44de2857-d3ae-4c4b-9171-7fbf340c37c2",
   "metadata": {},
   "outputs": [],
   "source": [
    "df_classification_fn = df_classification[(df_classification['cot_t1_prediction']==0) & (df_classification['label']==1)]"
   ]
  },
  {
   "cell_type": "markdown",
   "id": "f479ce69-5732-47e8-b5fc-40a9b9370329",
   "metadata": {},
   "source": [
    "### Example 1"
   ]
  },
  {
   "cell_type": "code",
   "execution_count": 27,
   "id": "9ef829a4-a4a5-4f18-a71b-1417dce0609f",
   "metadata": {},
   "outputs": [],
   "source": [
    "example_id = 0"
   ]
  },
  {
   "cell_type": "code",
   "execution_count": 28,
   "id": "c7410af2-cb61-4067-a59a-fe5635df1466",
   "metadata": {},
   "outputs": [
    {
     "data": {
      "text/plain": [
       "17686"
      ]
     },
     "execution_count": 28,
     "metadata": {},
     "output_type": "execute_result"
    }
   ],
   "source": [
    "df_classification_fn.iloc[example_id]['rico_id']"
   ]
  },
  {
   "cell_type": "code",
   "execution_count": 29,
   "id": "b2f44a1b-617e-46ec-acd6-00bd6759625f",
   "metadata": {},
   "outputs": [
    {
     "data": {
      "text/plain": [
       "'As someone who wants to support first aid education, I want to see a donation button, so I can easily find out how to give money to first aid services that need it.'"
      ]
     },
     "execution_count": 29,
     "metadata": {},
     "output_type": "execute_result"
    }
   ],
   "source": [
    "df_classification_fn.iloc[example_id]['user_story']"
   ]
  },
  {
   "cell_type": "code",
   "execution_count": 30,
   "id": "748c74e0-7e78-4653-b287-e9ef0704173a",
   "metadata": {},
   "outputs": [
    {
     "data": {
      "text/plain": [
       "['5']"
      ]
     },
     "execution_count": 30,
     "metadata": {},
     "output_type": "execute_result"
    }
   ],
   "source": [
    "df_classification_fn.iloc[example_id]['comp_ids']"
   ]
  },
  {
   "cell_type": "code",
   "execution_count": 31,
   "id": "03d76fbf-0010-4eca-bfaf-ed9f52c4b4bd",
   "metadata": {},
   "outputs": [
    {
     "name": "stdout",
     "output_type": "stream",
     "text": [
      "- Toolbar\n",
      "\t- \"more\" (Icon)\n",
      "\t- \"Learn\" (Label)\n",
      "- Multi-Tab\n",
      "\t- \"Learn\" (Button)\n",
      "\t- \"Prepare\" (Button)\n",
      "\t- \"Emergency\" (Button)\n",
      "\t- \"Quizzes\" (Button)\n",
      "\t- \"Hospital\" (Label)\n",
      "- Card\n",
      "\t- \"Emergency section\" (Label) (title)\n",
      "\t- (Image) ()\n",
      "\t- \"In case of an emergency, go to the emergency tab\" (Label) (description)\n",
      "\t- \"Take me there now\" (Button) ()\n",
      "\t- \"close\" (Button) (close)\n",
      "- List Item\n",
      "\t- (Image) (image)\n",
      "- List Item\n",
      "\t- \"Learn first aid for...\" (Label) (title)\n",
      "- List Item\n",
      "\t- (Image) (image)\n",
      "\t- \"Allergies / anaphylaxis\" (Label) (title)\n",
      "- List Item\n",
      "\t- \"avatar\" (Icon) (image)\n",
      "\t- \"Asthma attack\" (Label) (title)\n",
      "\n"
     ]
    }
   ],
   "source": [
    "print(df_classification_fn.iloc[example_id]['gui_abstraction'])"
   ]
  },
  {
   "cell_type": "code",
   "execution_count": 32,
   "id": "fc469ba0-4890-43f3-96f7-b6146056bd27",
   "metadata": {},
   "outputs": [
    {
     "name": "stdout",
     "output_type": "stream",
     "text": [
      "the user story depicts the requirement of having a donation button in the gui interface which will help the user knowing how to donate money for first aid services. looking at the given graphical user interface description, there isn't any such feature or button related to donation depicted anywhere. the gui contains buttons like 'learn', 'prepare', 'emergency', 'quizzes', none of which seem to function as a donation button. so, the user story isn't implemented in the given gui.\n"
     ]
    }
   ],
   "source": [
    "print(df_classification_fn.iloc[example_id]['cot_t1_explanation'])"
   ]
  },
  {
   "cell_type": "markdown",
   "id": "b1f0db97-5968-4b49-807c-6139144ded23",
   "metadata": {},
   "source": [
    "### Example 2"
   ]
  },
  {
   "cell_type": "code",
   "execution_count": 33,
   "id": "30c63f4c-c7b6-45de-91ad-e31ca41d6036",
   "metadata": {},
   "outputs": [],
   "source": [
    "example_id = 5"
   ]
  },
  {
   "cell_type": "code",
   "execution_count": 34,
   "id": "267eb34f-a1c1-4869-9ce3-3f0de6030cd2",
   "metadata": {},
   "outputs": [
    {
     "data": {
      "text/plain": [
       "10428"
      ]
     },
     "execution_count": 34,
     "metadata": {},
     "output_type": "execute_result"
    }
   ],
   "source": [
    "df_classification_fn.iloc[example_id]['rico_id']"
   ]
  },
  {
   "cell_type": "code",
   "execution_count": 35,
   "id": "4f664731-0fdd-42cf-8ed8-1ac2f2892f30",
   "metadata": {},
   "outputs": [
    {
     "data": {
      "text/plain": [
       "'i want an add button to create and add new shopping lists.'"
      ]
     },
     "execution_count": 35,
     "metadata": {},
     "output_type": "execute_result"
    }
   ],
   "source": [
    "df_classification_fn.iloc[example_id]['user_story']"
   ]
  },
  {
   "cell_type": "code",
   "execution_count": 36,
   "id": "24917e41-2b27-453e-b8bb-7c7e61aa99b1",
   "metadata": {},
   "outputs": [
    {
     "data": {
      "text/plain": [
       "['16']"
      ]
     },
     "execution_count": 36,
     "metadata": {},
     "output_type": "execute_result"
    }
   ],
   "source": [
    "df_classification_fn.iloc[example_id]['comp_ids']"
   ]
  },
  {
   "cell_type": "code",
   "execution_count": 37,
   "id": "7e2edf86-f9f9-4756-bdaf-f12fe1fcb4af",
   "metadata": {},
   "outputs": [
    {
     "name": "stdout",
     "output_type": "stream",
     "text": [
      "- Toolbar\n",
      "\t- \"filter list\" (Icon) (overview sort)\n",
      "\t- \"Lister\" (Label)\n",
      "- Multi-Tab\n",
      "\t- \"Recipes\" (Label)\n",
      "\t- \"Shopping Lists\" (Label)\n",
      "\t- \"Todo\" (Label)\n",
      "- List Item\n",
      "\t- (Image) (row overview shopping list beginner help img)\n",
      "- Layout\n",
      "\t- \"add\" (Icon) (overview viewpager fab)\n",
      "- List Item\n",
      "\t- \"My first list\" (Label) (row overview shopping list title)\n",
      "\t- \"more\" (Icon) (row overview shopping list more)\n",
      "\t- \"1/3\" (Label) (row overview shopping list progress)\n",
      "\t- \"Bread, Carrots\" (Label) (row overview shopping list preview)\n",
      "- Layout\n",
      "\t- \"The Christmas season is on. Enable the Xmas-Theme now!\" (Label) (snackbar)\n",
      "\t- \"enable\" (Button) (snackbar)\n",
      "- Layout\n",
      "\t- \"settings\" (Button) (bottom small)\n",
      "\t- (Image) (bottom small item)\n",
      "\t- \"chat\" (Icon) (bottom small item)\n",
      "- Layout\n",
      "\t- \"list\" (Icon) (bottom small item)\n",
      "\t- \"Lists\" (Label) (bottom small item title)\n",
      "\n"
     ]
    }
   ],
   "source": [
    "print(df_classification_fn.iloc[example_id]['gui_abstraction'])"
   ]
  },
  {
   "cell_type": "markdown",
   "id": "fa1b33f5-d7aa-4944-a47e-40b16d8cd81d",
   "metadata": {},
   "source": [
    "# 2. US GUI Component Matching"
   ]
  },
  {
   "cell_type": "code",
   "execution_count": 39,
   "id": "8d75de7e-9633-46ff-8aa5-0870141d51de",
   "metadata": {},
   "outputs": [],
   "source": [
    "mask = df_matching['cot_match_t0_eval_mac'].apply(lambda x: x[0] < 0.3)\n",
    "df_matching_low_precision = df_matching[mask]"
   ]
  },
  {
   "cell_type": "markdown",
   "id": "c96467bb-18f4-4bc8-b164-6b91ae61687a",
   "metadata": {},
   "source": [
    "### Example 1"
   ]
  },
  {
   "cell_type": "code",
   "execution_count": 40,
   "id": "ad307e09-e047-4e72-9181-12853f087565",
   "metadata": {},
   "outputs": [],
   "source": [
    "example_id = 5"
   ]
  },
  {
   "cell_type": "code",
   "execution_count": 41,
   "id": "3bb08410-3a4b-4eef-84b5-8e865d1794a2",
   "metadata": {},
   "outputs": [
    {
     "data": {
      "text/plain": [
       "16072"
      ]
     },
     "execution_count": 41,
     "metadata": {},
     "output_type": "execute_result"
    }
   ],
   "source": [
    "df_matching_low_precision.iloc[example_id]['rico_id']"
   ]
  },
  {
   "cell_type": "code",
   "execution_count": 42,
   "id": "6de3c35a-e769-43e7-a8f8-7cc39e868d12",
   "metadata": {},
   "outputs": [
    {
     "data": {
      "text/plain": [
       "'As a person looking for accommodation, I want to be able to specify the number of guests, so that the price is adjusted accordingly.'"
      ]
     },
     "execution_count": 42,
     "metadata": {},
     "output_type": "execute_result"
    }
   ],
   "source": [
    "df_matching_low_precision.iloc[example_id]['user_story']"
   ]
  },
  {
   "cell_type": "code",
   "execution_count": 43,
   "id": "93c4a64c-2ee0-442f-9b32-5ffb118c05f8",
   "metadata": {},
   "outputs": [
    {
     "data": {
      "text/plain": [
       "['7', '5', '2', '0']"
      ]
     },
     "execution_count": 43,
     "metadata": {},
     "output_type": "execute_result"
    }
   ],
   "source": [
    "df_matching_low_precision.iloc[example_id]['comp_ids']"
   ]
  },
  {
   "cell_type": "code",
   "execution_count": 44,
   "id": "b34c5a54-f3c0-491b-af75-89bb93fc0fc2",
   "metadata": {},
   "outputs": [
    {
     "data": {
      "text/plain": [
       "'The user story is about a person who wants to specify the number of guests for accommodation. This means the user will need to interact with the user interface components that allow them to specify the number of guests. Looking at the graphical user interface description, the components that allow the user to specify the number of guests are the ones with the labels \"Rooms\", \">12 years\", \"<12 years\", and the associated stepper components (minus, plus, value) for each of these labels. Therefore, the ids of the components required to fulfill the user story are: 13, 14, 8, 9, 3, 4, 12, 10, 11, 7, 5, 6, 2, 0, 1.'"
      ]
     },
     "execution_count": 44,
     "metadata": {},
     "output_type": "execute_result"
    }
   ],
   "source": [
    "df_matching_low_precision.iloc[example_id]['cot_match_t0_prediction_explanation']"
   ]
  },
  {
   "cell_type": "code",
   "execution_count": 45,
   "id": "472c0805-9b96-4772-ad33-98e45c763f21",
   "metadata": {},
   "outputs": [
    {
     "data": {
      "text/plain": [
       "['13',\n",
       " '14',\n",
       " '8',\n",
       " '9',\n",
       " '3',\n",
       " '4',\n",
       " '12',\n",
       " '10',\n",
       " '11',\n",
       " '7',\n",
       " '5',\n",
       " '6',\n",
       " '2',\n",
       " '0',\n",
       " '1']"
      ]
     },
     "execution_count": 45,
     "metadata": {},
     "output_type": "execute_result"
    }
   ],
   "source": [
    "df_matching_low_precision.iloc[example_id]['cot_match_t0_prediction_parsed']"
   ]
  },
  {
   "cell_type": "code",
   "execution_count": 48,
   "id": "675265b9-dcb0-4e60-80c4-b9ced617080e",
   "metadata": {},
   "outputs": [
    {
     "name": "stdout",
     "output_type": "stream",
     "text": [
      "- Toolbar\n",
      "\t- \"Hotels\" (Label) (title) (id=19)\n",
      "\t- \"arrow backward\" (Icon) (up) (id=20)\n",
      "- Layout\n",
      "\t- \"PB city\" (Input) (edit city hotel) (id=18)\n",
      "\t- \"Feb 22, 2017\" (Button) (edit checkin date hotel) (id=17)\n",
      "\t- \"Feb 23, 2017\" (Button) (edit checkout date hotel) (id=16)\n",
      "- Layout\n",
      "\t- (Image) (stepper top image) (id=14)\n",
      "\t- \"Rooms\" (Label) (stepper top) (id=13)\n",
      "- Layout\n",
      "\t- (Image) (stepper top image) (id=9)\n",
      "\t- \">12 years\" (Label) (stepper top) (id=8)\n",
      "- Layout\n",
      "\t- \"info\" (Icon) (stepper top image) (id=4)\n",
      "\t- \"<12 years\" (Label) (stepper top) (id=3)\n",
      "- Layout\n",
      "\t- \"minus\" (Icon) (stepper minus) (id=12)\n",
      "\t- \"add\" (Icon) (stepper plus) (id=10)\n",
      "\t- \"1\" (Label) (stepper value) (id=11)\n",
      "- Layout\n",
      "\t- \"minus\" (Icon) (stepper minus) (id=7)\n",
      "\t- \"add\" (Icon) (stepper plus) (id=5)\n",
      "\t- \"1\" (Label) (stepper value) (id=6)\n",
      "- Layout\n",
      "\t- \"minus\" (Icon) (stepper minus) (id=2)\n",
      "\t- \"add\" (Icon) (stepper plus) (id=0)\n",
      "\t- \"0\" (Label) (stepper value) (id=1)\n",
      "- Layout\n",
      "\t- \"search\" (Button) (hotel search) (id=15)\n",
      "\n"
     ]
    }
   ],
   "source": [
    "print(df_matching_low_precision.iloc[example_id]['gui_abstraction'])"
   ]
  },
  {
   "cell_type": "code",
   "execution_count": 49,
   "id": "4ea88a3f-6d71-4b7d-a3bf-7868afd13680",
   "metadata": {},
   "outputs": [],
   "source": [
    "mask = df_matching['cot_match_t0_eval_mac'].apply(lambda x: x[1] < 0.3)\n",
    "df_matching_low_recall = df_matching[mask]"
   ]
  },
  {
   "cell_type": "markdown",
   "id": "d485e245-bcf4-4689-9598-286b7be327bd",
   "metadata": {},
   "source": [
    "### Example 2"
   ]
  },
  {
   "cell_type": "code",
   "execution_count": 50,
   "id": "8c72ef6a-6c49-4e29-b54e-70ff8be2b45c",
   "metadata": {},
   "outputs": [],
   "source": [
    "example_id = 1"
   ]
  },
  {
   "cell_type": "code",
   "execution_count": 51,
   "id": "591f7e26-6056-4934-a00e-7dee3b635fdf",
   "metadata": {},
   "outputs": [
    {
     "data": {
      "text/plain": [
       "3801"
      ]
     },
     "execution_count": 51,
     "metadata": {},
     "output_type": "execute_result"
    }
   ],
   "source": [
    "df_matching_low_recall.iloc[example_id]['rico_id']"
   ]
  },
  {
   "cell_type": "code",
   "execution_count": 52,
   "id": "5f5fc3b1-a062-4c42-96b6-2d1482581c75",
   "metadata": {},
   "outputs": [
    {
     "data": {
      "text/plain": [
       "\"As a buyer, I want a text and barcode search option so that I don't have to search through all the products and save time when shopping.\""
      ]
     },
     "execution_count": 52,
     "metadata": {},
     "output_type": "execute_result"
    }
   ],
   "source": [
    "df_matching_low_recall.iloc[example_id]['user_story']"
   ]
  },
  {
   "cell_type": "code",
   "execution_count": 53,
   "id": "dd6bb04c-8d49-42ad-b536-159923d5fbcf",
   "metadata": {},
   "outputs": [
    {
     "data": {
      "text/plain": [
       "['18']"
      ]
     },
     "execution_count": 53,
     "metadata": {},
     "output_type": "execute_result"
    }
   ],
   "source": [
    "df_matching_low_recall.iloc[example_id]['comp_ids']"
   ]
  },
  {
   "cell_type": "code",
   "execution_count": 54,
   "id": "5fc0881b-7701-4b19-9eeb-64efbe516a1d",
   "metadata": {},
   "outputs": [
    {
     "data": {
      "text/plain": [
       "'The user story mentions that the buyer wants a text and barcode search option. However, the graphical user interface description does not provide any information about a text or barcode search option. Therefore, there are no ids to be extracted from the given GUI description that would fulfill the user story.'"
      ]
     },
     "execution_count": 54,
     "metadata": {},
     "output_type": "execute_result"
    }
   ],
   "source": [
    "df_matching_low_recall.iloc[example_id]['cot_match_t0_prediction_explanation']"
   ]
  },
  {
   "cell_type": "code",
   "execution_count": 55,
   "id": "f337b9f5-b9d3-45fe-8772-eddb94403f40",
   "metadata": {},
   "outputs": [
    {
     "name": "stdout",
     "output_type": "stream",
     "text": [
      "- Toolbar\n",
      "\t- (Pager Indicator) (id=18)\n",
      "\t- \"Recent Items\" (Label) (title) (id=17)\n",
      "\t- (Image) (home) (id=15)\n",
      "\t- (Image) (up) (id=16)\n",
      "- List Item\n",
      "\t- \"Filtrete (Common: 20-in x 25-in x 1-in; Actual: 19.6-in x 24.7-in x 0.8125-in) 2-Pack Micro Allergen Extra Reduction Electrostatic Pleated Air Filters\" (Button) (quick list item product name) (id=5)\n",
      "\t- (Image) (NI Fimage) (id=3)\n",
      "\t- \"map\" (Button) (location) (id=4)\n",
      "- List Item\n",
      "\t- (Image) (NI Fimage) (id=0)\n",
      "\t- \"map\" (Button) (location) (id=1)\n",
      "\t- \"Kreg Clamp\" (Button) (quick list item product name) (id=2)\n",
      "- Layout\n",
      "\t- \"menu\" (Button) (tab) (id=14)\n",
      "- Layout\n",
      "\t- (Image) (tab) (id=9)\n",
      "\t- \"Shop\" (Label) (tab Title) (id=13)\n",
      "- Layout\n",
      "\t- \"cart\" (Icon) (tab) (id=8)\n",
      "\t- \"Cart\" (Label) (tab Title) (id=12)\n",
      "- Layout\n",
      "\t- (Image) (tab) (id=7)\n",
      "\t- \"Tools\" (Label) (tab Title) (id=11)\n",
      "- Layout\n",
      "\t- (Image) (tab) (id=6)\n",
      "\t- \"MyLowe's\" (Label) (tab Title) (id=10)\n",
      "\n"
     ]
    }
   ],
   "source": [
    "print(df_matching_low_recall.iloc[example_id]['gui_abstraction'])"
   ]
  },
  {
   "cell_type": "markdown",
   "id": "16ce8647-7969-40f9-97df-add8e6fab31a",
   "metadata": {},
   "source": [
    "### Example 3"
   ]
  },
  {
   "cell_type": "code",
   "execution_count": 56,
   "id": "212844ea-d5f1-485f-9002-1a5b086e3311",
   "metadata": {},
   "outputs": [],
   "source": [
    "example_id = 6"
   ]
  },
  {
   "cell_type": "code",
   "execution_count": 57,
   "id": "094467a0-cad6-4d96-bcce-149dacf2b96c",
   "metadata": {},
   "outputs": [
    {
     "data": {
      "text/plain": [
       "12750"
      ]
     },
     "execution_count": 57,
     "metadata": {},
     "output_type": "execute_result"
    }
   ],
   "source": [
    "df_matching_low_recall.iloc[example_id]['rico_id']"
   ]
  },
  {
   "cell_type": "code",
   "execution_count": 58,
   "id": "f2bfd5b8-255a-4fc0-8427-21f24cdb0820",
   "metadata": {},
   "outputs": [
    {
     "data": {
      "text/plain": [
       "'As a person with limited internet access, I want to download videos, so that I can view them anywhere and anytime.'"
      ]
     },
     "execution_count": 58,
     "metadata": {},
     "output_type": "execute_result"
    }
   ],
   "source": [
    "df_matching_low_recall.iloc[example_id]['user_story']"
   ]
  },
  {
   "cell_type": "code",
   "execution_count": 59,
   "id": "fc940fd0-4bd2-417d-865a-2d552c115e53",
   "metadata": {},
   "outputs": [
    {
     "data": {
      "text/plain": [
       "['19', '15', '9', '5']"
      ]
     },
     "execution_count": 59,
     "metadata": {},
     "output_type": "execute_result"
    }
   ],
   "source": [
    "df_matching_low_recall.iloc[example_id]['comp_ids']"
   ]
  },
  {
   "cell_type": "code",
   "execution_count": 60,
   "id": "c34d830d-be33-4216-a51a-5969a8e396cc",
   "metadata": {},
   "outputs": [
    {
     "data": {
      "text/plain": [
       "'about what the user needs to do to fulfill the user story. The user wants to download videos. This means the user needs to be able to identify videos, select them and then download them. Looking at the GUI description, the user would first need to navigate to the section with videos. This is represented by the \"Videos\" (Label) (id=13). Then, the user needs to select a video. This could be done by clicking on the video name, represented by \"What Happens at a Bible Study?\" (Button) (video Name) (id=10) and \"Why Study the Bible?\" (Button) (video Name) (id=6). Finally, the user needs a way to download the selected video. However, there is no explicit download button or icon in the GUI description. Therefore, we can only assume that the user might be able to download the video by clicking on the video itself, represented by (Image) (video Logo) (id=12) and (Image) (video Logo) (id=8).'"
      ]
     },
     "execution_count": 60,
     "metadata": {},
     "output_type": "execute_result"
    }
   ],
   "source": [
    "df_matching_low_recall.iloc[example_id]['cot_match_t0_prediction_explanation']"
   ]
  },
  {
   "cell_type": "code",
   "execution_count": 61,
   "id": "7200aba3-1544-4047-9e7e-726a123e1df8",
   "metadata": {},
   "outputs": [
    {
     "name": "stdout",
     "output_type": "stream",
     "text": [
      "- Toolbar\n",
      "\t- \"menu\" (Icon) (id=27)\n",
      "\t- \"refresh\" (Icon) (updates) (id=26)\n",
      "\t- \"search\" (Icon) (search) (id=24)\n",
      "\t- \"more\" (Icon) (id=25)\n",
      "\t- \"Home\" (Label) (id=28)\n",
      "- Multi-Tab\n",
      "\t- \"all\" (Button) (id=23)\n",
      "\t- \"Downloaded\" (Label) (id=22)\n",
      "- List Item\n",
      "\t- (Image) (document logo) (id=21)\n",
      "\t- \"Simple Announcements\" (Button) (document name) (id=20)\n",
      "\t- (Image) (document) (id=19)\n",
      "\t- \"0.2 MB\" (Label) (document size) (id=18)\n",
      "- List Item\n",
      "\t- (Image) (document logo) (id=17)\n",
      "\t- \"Peace, Security & Unity\" (Button) (document name) (id=16)\n",
      "\t- (Image) (document) (id=15)\n",
      "\t- \"0.7 MB\" (Label) (document size) (id=14)\n",
      "- Layout\n",
      "\t- \"Videos\" (Label) (id=13)\n",
      "- List Item\n",
      "\t- \"play\" (Icon) (video Play) (id=11)\n",
      "\t- (Image) (video Logo) (id=12)\n",
      "\t- \"What Happens at a Bible Study?\" (Button) (video Name) (id=10)\n",
      "\t- \"visibility\" (Icon) (video) (id=9)\n",
      "- List Item\n",
      "\t- \"play\" (Icon) (video Play) (id=7)\n",
      "\t- (Image) (video Logo) (id=8)\n",
      "\t- \"Why Study the Bible?\" (Button) (video Name) (id=6)\n",
      "\t- \"visibility\" (Icon) (video) (id=5)\n",
      "- Layout\n",
      "\t- \"More on JW.ORG\" (Label) (id=4)\n",
      "- List Item\n",
      "\t- \"Other Publications\" (Button) (link Name) (id=2)\n",
      "\t- (Image) (link Logo) (id=3)\n",
      "- List Item\n",
      "\t- \"Request a Bible Study\" (Label) (link Name) (id=0)\n",
      "\t- (Image) (link Logo) (id=1)\n",
      "\n"
     ]
    }
   ],
   "source": [
    "print(df_matching_low_recall.iloc[example_id]['gui_abstraction'])"
   ]
  }
 ],
 "metadata": {
  "kernelspec": {
   "display_name": "Python 3 (ipykernel)",
   "language": "python",
   "name": "python3"
  },
  "language_info": {
   "codemirror_mode": {
    "name": "ipython",
    "version": 3
   },
   "file_extension": ".py",
   "mimetype": "text/x-python",
   "name": "python",
   "nbconvert_exporter": "python",
   "pygments_lexer": "ipython3",
   "version": "3.8.0"
  }
 },
 "nbformat": 4,
 "nbformat_minor": 5
}
